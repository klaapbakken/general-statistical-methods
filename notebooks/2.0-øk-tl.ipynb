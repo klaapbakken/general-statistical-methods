{
 "cells": [
  {
   "cell_type": "code",
   "execution_count": 1,
   "metadata": {},
   "outputs": [
    {
     "name": "stderr",
     "output_type": "stream",
     "text": [
      "Using TensorFlow backend.\n"
     ]
    }
   ],
   "source": [
    "import tensorflow as tf\n",
    "import pandas as pd\n",
    "import numpy as np\n",
    "import seaborn as sns\n",
    "import os\n",
    "import keras\n",
    "\n",
    "from PIL import Image\n",
    "\n",
    "from keras.preprocessing.image import ImageDataGenerator\n",
    "from keras.applications.vgg16 import VGG16, decode_predictions\n",
    "from keras.layers import Dense, Flatten, Embedding, Input, Dropout, Concatenate\n",
    "from keras.models import Model\n",
    "from keras.optimizers import Nadam\n",
    "from keras import backend as K"
   ]
  },
  {
   "cell_type": "markdown",
   "metadata": {},
   "source": [
    "## Loading data into dataframes"
   ]
  },
  {
   "cell_type": "code",
   "execution_count": 2,
   "metadata": {},
   "outputs": [],
   "source": [
    "data_folder = os.path.join(os.path.abspath(os.curdir), os.pardir, \"data\")"
   ]
  },
  {
   "cell_type": "code",
   "execution_count": 3,
   "metadata": {},
   "outputs": [],
   "source": [
    "training_data = os.path.join(data_folder, \"processed\", \"train_train.csv\")\n",
    "train_df = pd.read_csv(training_data)\n",
    "train_df = train_df.assign(image_path = train_df.image + \".jpg\")\n",
    "subsampled_train_df = train_df.sample(frac=0.01, replace=False, random_state=0)"
   ]
  },
  {
   "cell_type": "code",
   "execution_count": 4,
   "metadata": {},
   "outputs": [],
   "source": [
    "validation_data = os.path.join(data_folder, \"processed\", \"train_validation.csv\")\n",
    "validation_df = pd.read_csv(validation_data)\n",
    "validation_df = validation_df.assign(image_path = validation_df.image + \".jpg\")\n",
    "subsampled_validation_df = validation_df.sample(frac=0.01, replace=False, random_state=0)"
   ]
  },
  {
   "cell_type": "code",
   "execution_count": 5,
   "metadata": {},
   "outputs": [],
   "source": [
    "city_index_mapping = {city : int(index + 1) for index, city in enumerate(np.unique(subsampled_train_df.city.values))}\n",
    "category_index_mapping = {category : int(index + 1) for index, category in enumerate(np.unique(subsampled_train_df.category_name.values))}\n",
    "region_index_mapping = {region : int(index + 1) for index, region in enumerate(np.unique(subsampled_train_df.region.values))}\n",
    "parent_category_index_mapping = {par_category : int(index + 1) for index, par_category in enumerate(np.unique(subsampled_train_df.parent_category_name.values))}"
   ]
  },
  {
   "cell_type": "code",
   "execution_count": 6,
   "metadata": {},
   "outputs": [],
   "source": [
    "subsampled_train_df = subsampled_train_df.assign(city_index = subsampled_train_df.city.map(city_index_mapping),\n",
    "                                                category_index = subsampled_train_df.category_name.map(category_index_mapping),\n",
    "                                                region_index = subsampled_train_df.region.map(region_index_mapping),\n",
    "                                                parent_category_index = subsampled_train_df.parent_category_name.map(parent_category_index_mapping))\n",
    "subsampled_validation_df = subsampled_validation_df.assign(city_index = subsampled_validation_df.city.map(city_index_mapping),\n",
    "                                                category_index = subsampled_validation_df.category_name.map(category_index_mapping),\n",
    "                                                region_index = subsampled_validation_df.region.map(region_index_mapping),\n",
    "                                                parent_category_index = subsampled_validation_df.parent_category_name.map(parent_category_index_mapping))"
   ]
  },
  {
   "cell_type": "code",
   "execution_count": 7,
   "metadata": {},
   "outputs": [],
   "source": [
    "required_features = [\"deal_probability\", \"image_path\", \"category_index\",\\\n",
    "                     \"city_index\", \"region_index\", \"parent_category_index\", \"price\"]"
   ]
  },
  {
   "cell_type": "code",
   "execution_count": 8,
   "metadata": {},
   "outputs": [],
   "source": [
    "subsampled_validation_df = subsampled_validation_df[required_features].dropna()\n",
    "subsampled_train_df = subsampled_train_df[required_features].dropna()"
   ]
  },
  {
   "cell_type": "code",
   "execution_count": 9,
   "metadata": {},
   "outputs": [
    {
     "data": {
      "text/html": [
       "<div>\n",
       "<style scoped>\n",
       "    .dataframe tbody tr th:only-of-type {\n",
       "        vertical-align: middle;\n",
       "    }\n",
       "\n",
       "    .dataframe tbody tr th {\n",
       "        vertical-align: top;\n",
       "    }\n",
       "\n",
       "    .dataframe thead th {\n",
       "        text-align: right;\n",
       "    }\n",
       "</style>\n",
       "<table border=\"1\" class=\"dataframe\">\n",
       "  <thead>\n",
       "    <tr style=\"text-align: right;\">\n",
       "      <th></th>\n",
       "      <th>deal_probability</th>\n",
       "      <th>image_path</th>\n",
       "      <th>category_index</th>\n",
       "      <th>city_index</th>\n",
       "      <th>region_index</th>\n",
       "      <th>parent_category_index</th>\n",
       "      <th>price</th>\n",
       "    </tr>\n",
       "  </thead>\n",
       "  <tbody>\n",
       "    <tr>\n",
       "      <th>223617</th>\n",
       "      <td>0.00000</td>\n",
       "      <td>bfe0f269734a36022d8f9ed3080c52508ceda3948f7623...</td>\n",
       "      <td>1</td>\n",
       "      <td>549</td>\n",
       "      <td>24</td>\n",
       "      <td>7</td>\n",
       "      <td>315000.0</td>\n",
       "    </tr>\n",
       "    <tr>\n",
       "      <th>506290</th>\n",
       "      <td>0.00000</td>\n",
       "      <td>14de02f13446f40796af7c9be5dd54afc0b9758af2761a...</td>\n",
       "      <td>26</td>\n",
       "      <td>81</td>\n",
       "      <td>7</td>\n",
       "      <td>1</td>\n",
       "      <td>18500.0</td>\n",
       "    </tr>\n",
       "    <tr>\n",
       "      <th>611342</th>\n",
       "      <td>0.00000</td>\n",
       "      <td>08d733bb2c05103d1d45b874455fe5cf55fb3ae6db26c7...</td>\n",
       "      <td>11</td>\n",
       "      <td>580</td>\n",
       "      <td>27</td>\n",
       "      <td>5</td>\n",
       "      <td>50.0</td>\n",
       "    </tr>\n",
       "    <tr>\n",
       "      <th>358153</th>\n",
       "      <td>0.21651</td>\n",
       "      <td>c04d6059a66c4b786e933f78dec4caf41023fd88dcb821...</td>\n",
       "      <td>3</td>\n",
       "      <td>168</td>\n",
       "      <td>10</td>\n",
       "      <td>1</td>\n",
       "      <td>1600.0</td>\n",
       "    </tr>\n",
       "    <tr>\n",
       "      <th>874693</th>\n",
       "      <td>0.00000</td>\n",
       "      <td>380eac54ee5214e07fcbdffd9517e0369050c0ea782b29...</td>\n",
       "      <td>30</td>\n",
       "      <td>263</td>\n",
       "      <td>10</td>\n",
       "      <td>5</td>\n",
       "      <td>14000.0</td>\n",
       "    </tr>\n",
       "  </tbody>\n",
       "</table>\n",
       "</div>"
      ],
      "text/plain": [
       "        deal_probability                                         image_path  \\\n",
       "223617           0.00000  bfe0f269734a36022d8f9ed3080c52508ceda3948f7623...   \n",
       "506290           0.00000  14de02f13446f40796af7c9be5dd54afc0b9758af2761a...   \n",
       "611342           0.00000  08d733bb2c05103d1d45b874455fe5cf55fb3ae6db26c7...   \n",
       "358153           0.21651  c04d6059a66c4b786e933f78dec4caf41023fd88dcb821...   \n",
       "874693           0.00000  380eac54ee5214e07fcbdffd9517e0369050c0ea782b29...   \n",
       "\n",
       "        category_index  city_index  region_index  parent_category_index  \\\n",
       "223617               1         549            24                      7   \n",
       "506290              26          81             7                      1   \n",
       "611342              11         580            27                      5   \n",
       "358153               3         168            10                      1   \n",
       "874693              30         263            10                      5   \n",
       "\n",
       "           price  \n",
       "223617  315000.0  \n",
       "506290   18500.0  \n",
       "611342      50.0  \n",
       "358153    1600.0  \n",
       "874693   14000.0  "
      ]
     },
     "execution_count": 9,
     "metadata": {},
     "output_type": "execute_result"
    }
   ],
   "source": [
    "subsampled_train_df.head()"
   ]
  },
  {
   "cell_type": "code",
   "execution_count": 10,
   "metadata": {},
   "outputs": [],
   "source": [
    "image_folder = os.path.join(data_folder, \"raw\", \"train_jpg\", \"data\", \"competition_files\", \"train_jpg\")"
   ]
  },
  {
   "cell_type": "code",
   "execution_count": 11,
   "metadata": {},
   "outputs": [],
   "source": [
    "subsampled_train_image_df = subsampled_train_df[['image_path', \"deal_probability\"]]"
   ]
  },
  {
   "cell_type": "code",
   "execution_count": 12,
   "metadata": {},
   "outputs": [],
   "source": [
    "subsampled_validation_image_df = subsampled_validation_df[['image_path', \"deal_probability\"]]"
   ]
  },
  {
   "cell_type": "code",
   "execution_count": 13,
   "metadata": {},
   "outputs": [
    {
     "data": {
      "text/plain": [
       "(10611, 2)"
      ]
     },
     "execution_count": 13,
     "metadata": {},
     "output_type": "execute_result"
    }
   ],
   "source": [
    "subsampled_train_image_df.shape"
   ]
  },
  {
   "cell_type": "code",
   "execution_count": 14,
   "metadata": {},
   "outputs": [
    {
     "data": {
      "text/plain": [
       "(2663, 2)"
      ]
     },
     "execution_count": 14,
     "metadata": {},
     "output_type": "execute_result"
    }
   ],
   "source": [
    "subsampled_validation_image_df.shape"
   ]
  },
  {
   "cell_type": "code",
   "execution_count": 15,
   "metadata": {},
   "outputs": [],
   "source": [
    "invalid = []\n",
    "for path in subsampled_train_image_df.image_path.values:\n",
    "    try:\n",
    "        img = Image.open(os.path.join(image_folder, path))\n",
    "        img.close()\n",
    "    except:\n",
    "        subsampled_train_df = subsampled_train_df[subsampled_train_image_df['image_path'] != path]\n",
    "        subsampled_train_image_df = subsampled_train_image_df[subsampled_train_image_df['image_path'] != path]\n",
    "        invalid.append(path)"
   ]
  },
  {
   "cell_type": "code",
   "execution_count": 16,
   "metadata": {},
   "outputs": [
    {
     "data": {
      "text/plain": [
       "['c34772fc6d4e6d75171b75595243cb083cc3ea18b7b5ea0a62c0137e3029ace0.jpg',\n",
       " 'cec3df785ac19d20f8a7d0ccc8462e6f9d813c1d43ccba3fcf982b338325e468.jpg',\n",
       " '78e99f9069c351705357c1fc02e3c532e791d0c8b54796857650d59ef3d52349.jpg']"
      ]
     },
     "execution_count": 16,
     "metadata": {},
     "output_type": "execute_result"
    }
   ],
   "source": [
    "invalid"
   ]
  },
  {
   "cell_type": "markdown",
   "metadata": {},
   "source": [
    "## Enable loading images from disk"
   ]
  },
  {
   "cell_type": "code",
   "execution_count": 17,
   "metadata": {},
   "outputs": [],
   "source": [
    "image_generator = ImageDataGenerator()"
   ]
  },
  {
   "cell_type": "code",
   "execution_count": 18,
   "metadata": {},
   "outputs": [
    {
     "name": "stdout",
     "output_type": "stream",
     "text": [
      "Found 10608 images.\n"
     ]
    }
   ],
   "source": [
    "train_image_generator = image_generator.flow_from_dataframe(dataframe=subsampled_train_image_df, directory=image_folder, x_col=\"image_path\", y_col=\"deal_probability\",\n",
    "                                                           class_mode='other', target_size=(224, 224), color_mode='rgb', batch_size=48)"
   ]
  },
  {
   "cell_type": "code",
   "execution_count": 19,
   "metadata": {},
   "outputs": [
    {
     "name": "stdout",
     "output_type": "stream",
     "text": [
      "Found 2663 images.\n"
     ]
    }
   ],
   "source": [
    "validation_image_generator = image_generator.flow_from_dataframe(dataframe=subsampled_validation_image_df, directory=image_folder, x_col=\"image_path\", y_col=\"deal_probability\",\n",
    "                                                           class_mode='other', target_size=(224, 224), color_mode='rgb', batch_size=48)"
   ]
  },
  {
   "cell_type": "markdown",
   "metadata": {},
   "source": [
    "## Crafting training data"
   ]
  },
  {
   "cell_type": "code",
   "execution_count": 20,
   "metadata": {},
   "outputs": [
    {
     "data": {
      "text/html": [
       "<div>\n",
       "<style scoped>\n",
       "    .dataframe tbody tr th:only-of-type {\n",
       "        vertical-align: middle;\n",
       "    }\n",
       "\n",
       "    .dataframe tbody tr th {\n",
       "        vertical-align: top;\n",
       "    }\n",
       "\n",
       "    .dataframe thead th {\n",
       "        text-align: right;\n",
       "    }\n",
       "</style>\n",
       "<table border=\"1\" class=\"dataframe\">\n",
       "  <thead>\n",
       "    <tr style=\"text-align: right;\">\n",
       "      <th></th>\n",
       "      <th>deal_probability</th>\n",
       "      <th>image_path</th>\n",
       "      <th>category_index</th>\n",
       "      <th>city_index</th>\n",
       "      <th>region_index</th>\n",
       "      <th>parent_category_index</th>\n",
       "      <th>price</th>\n",
       "    </tr>\n",
       "  </thead>\n",
       "  <tbody>\n",
       "    <tr>\n",
       "      <th>223617</th>\n",
       "      <td>0.00000</td>\n",
       "      <td>bfe0f269734a36022d8f9ed3080c52508ceda3948f7623...</td>\n",
       "      <td>1</td>\n",
       "      <td>549</td>\n",
       "      <td>24</td>\n",
       "      <td>7</td>\n",
       "      <td>315000.0</td>\n",
       "    </tr>\n",
       "    <tr>\n",
       "      <th>506290</th>\n",
       "      <td>0.00000</td>\n",
       "      <td>14de02f13446f40796af7c9be5dd54afc0b9758af2761a...</td>\n",
       "      <td>26</td>\n",
       "      <td>81</td>\n",
       "      <td>7</td>\n",
       "      <td>1</td>\n",
       "      <td>18500.0</td>\n",
       "    </tr>\n",
       "    <tr>\n",
       "      <th>611342</th>\n",
       "      <td>0.00000</td>\n",
       "      <td>08d733bb2c05103d1d45b874455fe5cf55fb3ae6db26c7...</td>\n",
       "      <td>11</td>\n",
       "      <td>580</td>\n",
       "      <td>27</td>\n",
       "      <td>5</td>\n",
       "      <td>50.0</td>\n",
       "    </tr>\n",
       "    <tr>\n",
       "      <th>358153</th>\n",
       "      <td>0.21651</td>\n",
       "      <td>c04d6059a66c4b786e933f78dec4caf41023fd88dcb821...</td>\n",
       "      <td>3</td>\n",
       "      <td>168</td>\n",
       "      <td>10</td>\n",
       "      <td>1</td>\n",
       "      <td>1600.0</td>\n",
       "    </tr>\n",
       "    <tr>\n",
       "      <th>874693</th>\n",
       "      <td>0.00000</td>\n",
       "      <td>380eac54ee5214e07fcbdffd9517e0369050c0ea782b29...</td>\n",
       "      <td>30</td>\n",
       "      <td>263</td>\n",
       "      <td>10</td>\n",
       "      <td>5</td>\n",
       "      <td>14000.0</td>\n",
       "    </tr>\n",
       "  </tbody>\n",
       "</table>\n",
       "</div>"
      ],
      "text/plain": [
       "        deal_probability                                         image_path  \\\n",
       "223617           0.00000  bfe0f269734a36022d8f9ed3080c52508ceda3948f7623...   \n",
       "506290           0.00000  14de02f13446f40796af7c9be5dd54afc0b9758af2761a...   \n",
       "611342           0.00000  08d733bb2c05103d1d45b874455fe5cf55fb3ae6db26c7...   \n",
       "358153           0.21651  c04d6059a66c4b786e933f78dec4caf41023fd88dcb821...   \n",
       "874693           0.00000  380eac54ee5214e07fcbdffd9517e0369050c0ea782b29...   \n",
       "\n",
       "        category_index  city_index  region_index  parent_category_index  \\\n",
       "223617               1         549            24                      7   \n",
       "506290              26          81             7                      1   \n",
       "611342              11         580            27                      5   \n",
       "358153               3         168            10                      1   \n",
       "874693              30         263            10                      5   \n",
       "\n",
       "           price  \n",
       "223617  315000.0  \n",
       "506290   18500.0  \n",
       "611342      50.0  \n",
       "358153    1600.0  \n",
       "874693   14000.0  "
      ]
     },
     "execution_count": 20,
     "metadata": {},
     "output_type": "execute_result"
    }
   ],
   "source": [
    "subsampled_train_df.head()"
   ]
  },
  {
   "cell_type": "code",
   "execution_count": 21,
   "metadata": {},
   "outputs": [
    {
     "data": {
      "text/plain": [
       "633"
      ]
     },
     "execution_count": 21,
     "metadata": {},
     "output_type": "execute_result"
    }
   ],
   "source": [
    "len(subsampled_train_df.region_index.unique()) + len(subsampled_train_df.city_index.unique()) +\\\n",
    "len(subsampled_train_df.category_index.unique()) + len(subsampled_train_df.parent_category_index.unique())"
   ]
  },
  {
   "cell_type": "code",
   "execution_count": 22,
   "metadata": {},
   "outputs": [],
   "source": [
    "from sklearn.preprocessing import OneHotEncoder\n",
    "from sklearn.feature_extraction import DictVectorizer"
   ]
  },
  {
   "cell_type": "code",
   "execution_count": 23,
   "metadata": {},
   "outputs": [],
   "source": [
    "train_cat_X = subsampled_train_df[[\"city_index\", \"category_index\", \"region_index\", \"parent_category_index\"]].values\n",
    "val_cat_X = subsampled_validation_df[[\"city_index\", \"category_index\", \"region_index\", \"parent_category_index\"]].values\n",
    "enc = OneHotEncoder(categories=\"auto\", handle_unknown=\"ignore\")\n",
    "onehot_train_X = enc.fit_transform(train_cat_X)\n",
    "onehot_val_X = enc.transform(val_cat_X)"
   ]
  },
  {
   "cell_type": "code",
   "execution_count": 24,
   "metadata": {},
   "outputs": [
    {
     "name": "stdout",
     "output_type": "stream",
     "text": [
      "10608.0 10608\n"
     ]
    }
   ],
   "source": [
    "print(np.sum(onehot_train_X)/4, train_cat_X.shape[0])"
   ]
  },
  {
   "cell_type": "code",
   "execution_count": 25,
   "metadata": {},
   "outputs": [
    {
     "data": {
      "text/plain": [
       "(10608, 633)"
      ]
     },
     "execution_count": 25,
     "metadata": {},
     "output_type": "execute_result"
    }
   ],
   "source": [
    "onehot_train_X.shape"
   ]
  },
  {
   "cell_type": "code",
   "execution_count": 26,
   "metadata": {},
   "outputs": [],
   "source": [
    "train_X = np.concatenate((onehot_train_X.toarray(), subsampled_train_df.price.values.reshape(-1, 1)), axis=1)\n",
    "val_X = np.concatenate((onehot_val_X.toarray(), subsampled_validation_df.price.values.reshape(-1, 1)), axis=1)"
   ]
  },
  {
   "cell_type": "code",
   "execution_count": 27,
   "metadata": {},
   "outputs": [],
   "source": [
    "train_y = subsampled_train_df.deal_probability.values\n",
    "val_y = subsampled_validation_df.deal_probability.values"
   ]
  },
  {
   "cell_type": "markdown",
   "metadata": {},
   "source": [
    "## Simple neural network"
   ]
  },
  {
   "cell_type": "code",
   "execution_count": 218,
   "metadata": {},
   "outputs": [],
   "source": [
    "input_ = Input(shape=(train_X.shape[1],))"
   ]
  },
  {
   "cell_type": "code",
   "execution_count": 219,
   "metadata": {},
   "outputs": [],
   "source": [
    "a = Dense(1024, activation=\"relu\")(input_)"
   ]
  },
  {
   "cell_type": "code",
   "execution_count": 220,
   "metadata": {},
   "outputs": [],
   "source": [
    "b = Dense(512, activation=\"relu\")(a)\n",
    "dropout = Dropout(0.5)(b)\n",
    "c = Dense(128, activation=\"relu\")(dropout)\n",
    "d = Dense(64, activation=\"relu\")(c)"
   ]
  },
  {
   "cell_type": "code",
   "execution_count": 221,
   "metadata": {},
   "outputs": [],
   "source": [
    "output = Dense(1, activation=\"sigmoid\")(a)"
   ]
  },
  {
   "cell_type": "code",
   "execution_count": 222,
   "metadata": {},
   "outputs": [],
   "source": [
    "dense_model = Model(inputs=input_, outputs=output)"
   ]
  },
  {
   "cell_type": "code",
   "execution_count": 223,
   "metadata": {},
   "outputs": [],
   "source": [
    "def root_mean_squared_error(y_true, y_pred):\n",
    "        return K.sqrt(K.mean(K.square(y_pred - y_true), axis=-1)) "
   ]
  },
  {
   "cell_type": "code",
   "execution_count": 224,
   "metadata": {},
   "outputs": [],
   "source": [
    "dense_model.compile(optimizer=\"Adam\", loss=\"mean_squared_error\", metrics=[\"mean_squared_error\"])"
   ]
  },
  {
   "cell_type": "code",
   "execution_count": 225,
   "metadata": {},
   "outputs": [
    {
     "name": "stdout",
     "output_type": "stream",
     "text": [
      "Train on 217554 samples, validate on 54487 samples\n",
      "Epoch 1/10\n",
      "217554/217554 [==============================] - 6s 26us/step - loss: 0.0548 - mean_squared_error: 0.0548 - val_loss: 0.0533 - val_mean_squared_error: 0.0533\n",
      "Epoch 2/10\n",
      "217554/217554 [==============================] - 5s 23us/step - loss: 0.0538 - mean_squared_error: 0.0538 - val_loss: 0.0533 - val_mean_squared_error: 0.0533\n",
      "Epoch 3/10\n",
      "217554/217554 [==============================] - 5s 23us/step - loss: 0.0530 - mean_squared_error: 0.0530 - val_loss: 0.0533 - val_mean_squared_error: 0.0533\n",
      "Epoch 4/10\n",
      "217554/217554 [==============================] - 5s 24us/step - loss: 0.0530 - mean_squared_error: 0.0530 - val_loss: 0.0533 - val_mean_squared_error: 0.0533\n",
      "Epoch 5/10\n",
      "217554/217554 [==============================] - 5s 24us/step - loss: 0.0530 - mean_squared_error: 0.0530 - val_loss: 0.0533 - val_mean_squared_error: 0.0533\n",
      "Epoch 6/10\n",
      "217554/217554 [==============================] - 5s 23us/step - loss: 0.0530 - mean_squared_error: 0.0530 - val_loss: 0.0533 - val_mean_squared_error: 0.0533\n",
      "Epoch 7/10\n",
      "217554/217554 [==============================] - 5s 23us/step - loss: 0.0541 - mean_squared_error: 0.0541 - val_loss: 0.0534 - val_mean_squared_error: 0.0534\n",
      "Epoch 8/10\n",
      "215040/217554 [============================>.] - ETA: 0s - loss: 0.0531 - mean_squared_error: 0.0531"
     ]
    },
    {
     "ename": "KeyboardInterrupt",
     "evalue": "",
     "output_type": "error",
     "traceback": [
      "\u001b[1;31m---------------------------------------------------------------------------\u001b[0m",
      "\u001b[1;31mKeyboardInterrupt\u001b[0m                         Traceback (most recent call last)",
      "\u001b[1;32m<ipython-input-225-7d8a7a65062a>\u001b[0m in \u001b[0;36m<module>\u001b[1;34m\u001b[0m\n\u001b[0;32m      1\u001b[0m dense_model.fit(x=train_X, y=subsampled_train_df.deal_probability.values, epochs=10,\n\u001b[1;32m----> 2\u001b[1;33m                batch_size=512, validation_data=(val_X, subsampled_validation_df.deal_probability.values))\n\u001b[0m",
      "\u001b[1;32m~\\AppData\\Local\\Continuum\\anaconda3\\envs\\gsm_dl\\lib\\site-packages\\keras\\engine\\training.py\u001b[0m in \u001b[0;36mfit\u001b[1;34m(self, x, y, batch_size, epochs, verbose, callbacks, validation_split, validation_data, shuffle, class_weight, sample_weight, initial_epoch, steps_per_epoch, validation_steps, **kwargs)\u001b[0m\n\u001b[0;32m   1037\u001b[0m                                         \u001b[0minitial_epoch\u001b[0m\u001b[1;33m=\u001b[0m\u001b[0minitial_epoch\u001b[0m\u001b[1;33m,\u001b[0m\u001b[1;33m\u001b[0m\u001b[0m\n\u001b[0;32m   1038\u001b[0m                                         \u001b[0msteps_per_epoch\u001b[0m\u001b[1;33m=\u001b[0m\u001b[0msteps_per_epoch\u001b[0m\u001b[1;33m,\u001b[0m\u001b[1;33m\u001b[0m\u001b[0m\n\u001b[1;32m-> 1039\u001b[1;33m                                         validation_steps=validation_steps)\n\u001b[0m\u001b[0;32m   1040\u001b[0m \u001b[1;33m\u001b[0m\u001b[0m\n\u001b[0;32m   1041\u001b[0m     def evaluate(self, x=None, y=None,\n",
      "\u001b[1;32m~\\AppData\\Local\\Continuum\\anaconda3\\envs\\gsm_dl\\lib\\site-packages\\keras\\engine\\training_arrays.py\u001b[0m in \u001b[0;36mfit_loop\u001b[1;34m(model, f, ins, out_labels, batch_size, epochs, verbose, callbacks, val_f, val_ins, shuffle, callback_metrics, initial_epoch, steps_per_epoch, validation_steps)\u001b[0m\n\u001b[0;32m    210\u001b[0m                         val_outs = test_loop(model, val_f, val_ins,\n\u001b[0;32m    211\u001b[0m                                              \u001b[0mbatch_size\u001b[0m\u001b[1;33m=\u001b[0m\u001b[0mbatch_size\u001b[0m\u001b[1;33m,\u001b[0m\u001b[1;33m\u001b[0m\u001b[0m\n\u001b[1;32m--> 212\u001b[1;33m                                              verbose=0)\n\u001b[0m\u001b[0;32m    213\u001b[0m                         \u001b[0mval_outs\u001b[0m \u001b[1;33m=\u001b[0m \u001b[0mto_list\u001b[0m\u001b[1;33m(\u001b[0m\u001b[0mval_outs\u001b[0m\u001b[1;33m)\u001b[0m\u001b[1;33m\u001b[0m\u001b[0m\n\u001b[0;32m    214\u001b[0m                         \u001b[1;31m# Same labels assumed.\u001b[0m\u001b[1;33m\u001b[0m\u001b[1;33m\u001b[0m\u001b[0m\n",
      "\u001b[1;32m~\\AppData\\Local\\Continuum\\anaconda3\\envs\\gsm_dl\\lib\\site-packages\\keras\\engine\\training_arrays.py\u001b[0m in \u001b[0;36mtest_loop\u001b[1;34m(model, f, ins, batch_size, verbose, steps)\u001b[0m\n\u001b[0;32m    390\u001b[0m                 \u001b[0mins_batch\u001b[0m\u001b[1;33m[\u001b[0m\u001b[0mi\u001b[0m\u001b[1;33m]\u001b[0m \u001b[1;33m=\u001b[0m \u001b[0mins_batch\u001b[0m\u001b[1;33m[\u001b[0m\u001b[0mi\u001b[0m\u001b[1;33m]\u001b[0m\u001b[1;33m.\u001b[0m\u001b[0mtoarray\u001b[0m\u001b[1;33m(\u001b[0m\u001b[1;33m)\u001b[0m\u001b[1;33m\u001b[0m\u001b[0m\n\u001b[0;32m    391\u001b[0m \u001b[1;33m\u001b[0m\u001b[0m\n\u001b[1;32m--> 392\u001b[1;33m             \u001b[0mbatch_outs\u001b[0m \u001b[1;33m=\u001b[0m \u001b[0mf\u001b[0m\u001b[1;33m(\u001b[0m\u001b[0mins_batch\u001b[0m\u001b[1;33m)\u001b[0m\u001b[1;33m\u001b[0m\u001b[0m\n\u001b[0m\u001b[0;32m    393\u001b[0m             \u001b[1;32mif\u001b[0m \u001b[0misinstance\u001b[0m\u001b[1;33m(\u001b[0m\u001b[0mbatch_outs\u001b[0m\u001b[1;33m,\u001b[0m \u001b[0mlist\u001b[0m\u001b[1;33m)\u001b[0m\u001b[1;33m:\u001b[0m\u001b[1;33m\u001b[0m\u001b[0m\n\u001b[0;32m    394\u001b[0m                 \u001b[1;32mif\u001b[0m \u001b[0mbatch_index\u001b[0m \u001b[1;33m==\u001b[0m \u001b[1;36m0\u001b[0m\u001b[1;33m:\u001b[0m\u001b[1;33m\u001b[0m\u001b[0m\n",
      "\u001b[1;32m~\\AppData\\Local\\Continuum\\anaconda3\\envs\\gsm_dl\\lib\\site-packages\\keras\\backend\\tensorflow_backend.py\u001b[0m in \u001b[0;36m__call__\u001b[1;34m(self, inputs)\u001b[0m\n\u001b[0;32m   2713\u001b[0m                 \u001b[1;32mreturn\u001b[0m \u001b[0mself\u001b[0m\u001b[1;33m.\u001b[0m\u001b[0m_legacy_call\u001b[0m\u001b[1;33m(\u001b[0m\u001b[0minputs\u001b[0m\u001b[1;33m)\u001b[0m\u001b[1;33m\u001b[0m\u001b[0m\n\u001b[0;32m   2714\u001b[0m \u001b[1;33m\u001b[0m\u001b[0m\n\u001b[1;32m-> 2715\u001b[1;33m             \u001b[1;32mreturn\u001b[0m \u001b[0mself\u001b[0m\u001b[1;33m.\u001b[0m\u001b[0m_call\u001b[0m\u001b[1;33m(\u001b[0m\u001b[0minputs\u001b[0m\u001b[1;33m)\u001b[0m\u001b[1;33m\u001b[0m\u001b[0m\n\u001b[0m\u001b[0;32m   2716\u001b[0m         \u001b[1;32melse\u001b[0m\u001b[1;33m:\u001b[0m\u001b[1;33m\u001b[0m\u001b[0m\n\u001b[0;32m   2717\u001b[0m             \u001b[1;32mif\u001b[0m \u001b[0mpy_any\u001b[0m\u001b[1;33m(\u001b[0m\u001b[0mis_tensor\u001b[0m\u001b[1;33m(\u001b[0m\u001b[0mx\u001b[0m\u001b[1;33m)\u001b[0m \u001b[1;32mfor\u001b[0m \u001b[0mx\u001b[0m \u001b[1;32min\u001b[0m \u001b[0minputs\u001b[0m\u001b[1;33m)\u001b[0m\u001b[1;33m:\u001b[0m\u001b[1;33m\u001b[0m\u001b[0m\n",
      "\u001b[1;32m~\\AppData\\Local\\Continuum\\anaconda3\\envs\\gsm_dl\\lib\\site-packages\\keras\\backend\\tensorflow_backend.py\u001b[0m in \u001b[0;36m_call\u001b[1;34m(self, inputs)\u001b[0m\n\u001b[0;32m   2673\u001b[0m             \u001b[0mfetched\u001b[0m \u001b[1;33m=\u001b[0m \u001b[0mself\u001b[0m\u001b[1;33m.\u001b[0m\u001b[0m_callable_fn\u001b[0m\u001b[1;33m(\u001b[0m\u001b[1;33m*\u001b[0m\u001b[0marray_vals\u001b[0m\u001b[1;33m,\u001b[0m \u001b[0mrun_metadata\u001b[0m\u001b[1;33m=\u001b[0m\u001b[0mself\u001b[0m\u001b[1;33m.\u001b[0m\u001b[0mrun_metadata\u001b[0m\u001b[1;33m)\u001b[0m\u001b[1;33m\u001b[0m\u001b[0m\n\u001b[0;32m   2674\u001b[0m         \u001b[1;32melse\u001b[0m\u001b[1;33m:\u001b[0m\u001b[1;33m\u001b[0m\u001b[0m\n\u001b[1;32m-> 2675\u001b[1;33m             \u001b[0mfetched\u001b[0m \u001b[1;33m=\u001b[0m \u001b[0mself\u001b[0m\u001b[1;33m.\u001b[0m\u001b[0m_callable_fn\u001b[0m\u001b[1;33m(\u001b[0m\u001b[1;33m*\u001b[0m\u001b[0marray_vals\u001b[0m\u001b[1;33m)\u001b[0m\u001b[1;33m\u001b[0m\u001b[0m\n\u001b[0m\u001b[0;32m   2676\u001b[0m         \u001b[1;32mreturn\u001b[0m \u001b[0mfetched\u001b[0m\u001b[1;33m[\u001b[0m\u001b[1;33m:\u001b[0m\u001b[0mlen\u001b[0m\u001b[1;33m(\u001b[0m\u001b[0mself\u001b[0m\u001b[1;33m.\u001b[0m\u001b[0moutputs\u001b[0m\u001b[1;33m)\u001b[0m\u001b[1;33m]\u001b[0m\u001b[1;33m\u001b[0m\u001b[0m\n\u001b[0;32m   2677\u001b[0m \u001b[1;33m\u001b[0m\u001b[0m\n",
      "\u001b[1;32m~\\AppData\\Roaming\\Python\\Python36\\site-packages\\tensorflow\\python\\client\\session.py\u001b[0m in \u001b[0;36m__call__\u001b[1;34m(self, *args)\u001b[0m\n\u001b[0;32m   1449\u001b[0m         \u001b[1;32mif\u001b[0m \u001b[0mself\u001b[0m\u001b[1;33m.\u001b[0m\u001b[0m_session\u001b[0m\u001b[1;33m.\u001b[0m\u001b[0m_created_with_new_api\u001b[0m\u001b[1;33m:\u001b[0m\u001b[1;33m\u001b[0m\u001b[0m\n\u001b[0;32m   1450\u001b[0m           return tf_session.TF_SessionRunCallable(\n\u001b[1;32m-> 1451\u001b[1;33m               self._session._session, self._handle, args, status, None)\n\u001b[0m\u001b[0;32m   1452\u001b[0m         \u001b[1;32melse\u001b[0m\u001b[1;33m:\u001b[0m\u001b[1;33m\u001b[0m\u001b[0m\n\u001b[0;32m   1453\u001b[0m           return tf_session.TF_DeprecatedSessionRunCallable(\n",
      "\u001b[1;31mKeyboardInterrupt\u001b[0m: "
     ]
    }
   ],
   "source": [
    "dense_model.fit(x=train_X, y=subsampled_train_df.deal_probability.values, epochs=10,\n",
    "               batch_size=512, validation_data=(val_X, subsampled_validation_df.deal_probability.values))"
   ]
  },
  {
   "cell_type": "code",
   "execution_count": 12,
   "metadata": {},
   "outputs": [
    {
     "name": "stdout",
     "output_type": "stream",
     "text": [
      "0.04568878448005054 0.2137493496599476\n"
     ]
    }
   ],
   "source": [
    "train_mean = np.mean(subsampled_train_df.deal_probability.values)\n",
    "val_y = subsampled_validation_df.deal_probability.values[:10000]\n",
    "mse = np.mean(np.power(val_y - train_mean, 2))\n",
    "rmse = np.sqrt(mse)\n",
    "print(mse, rmse)"
   ]
  },
  {
   "cell_type": "code",
   "execution_count": 71,
   "metadata": {},
   "outputs": [
    {
     "data": {
      "text/plain": [
       "(54487, 1297)"
      ]
     },
     "execution_count": 71,
     "metadata": {},
     "output_type": "execute_result"
    }
   ],
   "source": [
    "val_X.shape"
   ]
  },
  {
   "cell_type": "code",
   "execution_count": 72,
   "metadata": {},
   "outputs": [],
   "source": [
    "y_pred = dense_model.predict(val_X[:10000, :])"
   ]
  },
  {
   "cell_type": "code",
   "execution_count": 64,
   "metadata": {},
   "outputs": [],
   "source": [
    "sns.set(rc={'figure.figsize':(20,15)})"
   ]
  },
  {
   "cell_type": "code",
   "execution_count": 65,
   "metadata": {},
   "outputs": [
    {
     "data": {
      "text/plain": [
       "<matplotlib.axes._subplots.AxesSubplot at 0x1f00b2fe048>"
      ]
     },
     "execution_count": 65,
     "metadata": {},
     "output_type": "execute_result"
    },
    {
     "data": {
      "image/png": "[encoded data removed]",
      "text/plain": [
       "<Figure size 1440x1080 with 1 Axes>"
      ]
     },
     "metadata": {},
     "output_type": "display_data"
    }
   ],
   "source": [
    "sns.distplot(y_pred, bins=50)"
   ]
  },
  {
   "cell_type": "code",
   "execution_count": 32,
   "metadata": {},
   "outputs": [
    {
     "name": "stdout",
     "output_type": "stream",
     "text": [
      "0.04575248736173896 0.2138983107968339\n"
     ]
    }
   ],
   "source": [
    "mse = np.mean(np.power(val_y - y_pred, 2))\n",
    "rmse = np.sqrt(mse)\n",
    "print(mse, rmse)"
   ]
  },
  {
   "cell_type": "markdown",
   "metadata": {},
   "source": [
    "## Lasso"
   ]
  },
  {
   "cell_type": "code",
   "execution_count": 13,
   "metadata": {},
   "outputs": [],
   "source": [
    "from sklearn.linear_model import Lasso"
   ]
  },
  {
   "cell_type": "code",
   "execution_count": 40,
   "metadata": {},
   "outputs": [],
   "source": [
    "from sklearn.model_selection import GridSearchCV"
   ]
  },
  {
   "cell_type": "code",
   "execution_count": 47,
   "metadata": {},
   "outputs": [],
   "source": [
    "train_X_lm = train_X[:10000, :]\n",
    "train_y_lm = subsampled_train_df.deal_probability.values[:10000]"
   ]
  },
  {
   "cell_type": "code",
   "execution_count": 70,
   "metadata": {},
   "outputs": [],
   "source": [
    "estimator = Lasso()\n",
    "param_grid = {\"alpha\" : np.arange(0.001, 0.02, 0.001)}"
   ]
  },
  {
   "cell_type": "code",
   "execution_count": 71,
   "metadata": {},
   "outputs": [
    {
     "data": {
      "text/plain": [
       "{'alpha': array([0.001, 0.002, 0.003, 0.004, 0.005, 0.006, 0.007, 0.008, 0.009,\n",
       "        0.01 , 0.011, 0.012, 0.013, 0.014, 0.015, 0.016, 0.017, 0.018,\n",
       "        0.019])}"
      ]
     },
     "execution_count": 71,
     "metadata": {},
     "output_type": "execute_result"
    }
   ],
   "source": [
    "param_grid"
   ]
  },
  {
   "cell_type": "code",
   "execution_count": 100,
   "metadata": {},
   "outputs": [],
   "source": [
    "cv = GridSearchCV(estimator, param_grid, cv=10)"
   ]
  },
  {
   "cell_type": "code",
   "execution_count": 101,
   "metadata": {},
   "outputs": [
    {
     "data": {
      "text/plain": [
       "GridSearchCV(cv=10, error_score='raise-deprecating',\n",
       "       estimator=Lasso(alpha=1.0, copy_X=True, fit_intercept=True, max_iter=1000,\n",
       "   normalize=False, positive=False, precompute=False, random_state=None,\n",
       "   selection='cyclic', tol=0.0001, warm_start=False),\n",
       "       fit_params=None, iid='warn', n_jobs=None,\n",
       "       param_grid={'alpha': array([0.001, 0.002, 0.003, 0.004, 0.005, 0.006, 0.007, 0.008, 0.009,\n",
       "       0.01 , 0.011, 0.012, 0.013, 0.014, 0.015, 0.016, 0.017, 0.018,\n",
       "       0.019])},\n",
       "       pre_dispatch='2*n_jobs', refit=True, return_train_score='warn',\n",
       "       scoring=None, verbose=0)"
      ]
     },
     "execution_count": 101,
     "metadata": {},
     "output_type": "execute_result"
    }
   ],
   "source": [
    "cv.fit(train_X_lm, train_y_lm)"
   ]
  },
  {
   "cell_type": "code",
   "execution_count": 102,
   "metadata": {},
   "outputs": [
    {
     "data": {
      "text/plain": [
       "{'alpha': 0.006}"
      ]
     },
     "execution_count": 102,
     "metadata": {},
     "output_type": "execute_result"
    }
   ],
   "source": [
    "cv.best_params_"
   ]
  },
  {
   "cell_type": "code",
   "execution_count": 77,
   "metadata": {},
   "outputs": [],
   "source": [
    "best_lasso = cv.best_estimator_"
   ]
  },
  {
   "cell_type": "code",
   "execution_count": 89,
   "metadata": {},
   "outputs": [],
   "source": [
    "y_pred = best_lasso.predict(val_X[:10000, :])"
   ]
  },
  {
   "cell_type": "code",
   "execution_count": 90,
   "metadata": {},
   "outputs": [
    {
     "name": "stdout",
     "output_type": "stream",
     "text": [
      "MSE: 0.03999484930821657 | RMSE: 0.19998712285598932\n"
     ]
    }
   ],
   "source": [
    "val_y = subsampled_validation_df.deal_probability.values[:10000]\n",
    "mse = np.mean(np.power(val_y - y_pred, 2))\n",
    "rmse = np.sqrt(mse)\n",
    "print(\"MSE: {0} | RMSE: {1}\".format(mse, rmse))"
   ]
  },
  {
   "cell_type": "code",
   "execution_count": 91,
   "metadata": {},
   "outputs": [
    {
     "data": {
      "text/plain": [
       "<matplotlib.axes._subplots.AxesSubplot at 0x236cf358eb8>"
      ]
     },
     "execution_count": 91,
     "metadata": {},
     "output_type": "execute_result"
    },
    {
     "data": {
      "image/png": "[encoded data removed]",
      "text/plain": [
       "<Figure size 1440x1080 with 1 Axes>"
      ]
     },
     "metadata": {},
     "output_type": "display_data"
    }
   ],
   "source": [
    "sns.distplot(y_pred, bins=50)"
   ]
  },
  {
   "cell_type": "code",
   "execution_count": 96,
   "metadata": {},
   "outputs": [
    {
     "data": {
      "text/plain": [
       "4"
      ]
     },
     "execution_count": 96,
     "metadata": {},
     "output_type": "execute_result"
    }
   ],
   "source": [
    "np.sum(best_lasso.coef_ != 0)"
   ]
  },
  {
   "cell_type": "code",
   "execution_count": 161,
   "metadata": {},
   "outputs": [
    {
     "data": {
      "text/plain": [
       "array([1258, 1264, 1293, 1296], dtype=int64)"
      ]
     },
     "execution_count": 161,
     "metadata": {},
     "output_type": "execute_result"
    }
   ],
   "source": [
    "np.where(best_lasso.coef_ != 0)[0]"
   ]
  },
  {
   "cell_type": "code",
   "execution_count": 132,
   "metadata": {},
   "outputs": [
    {
     "data": {
      "text/plain": [
       "5"
      ]
     },
     "execution_count": 132,
     "metadata": {},
     "output_type": "execute_result"
    }
   ],
   "source": [
    "np.concatenate(enc.categories_)[1293]"
   ]
  },
  {
   "cell_type": "code",
   "execution_count": 172,
   "metadata": {},
   "outputs": [],
   "source": [
    "nonzeros = []\n",
    "for index in np.where(best_lasso.coef_ != 0)[0][:3]:\n",
    "    encoded = np.zeros((train_X.shape[1], ))\n",
    "    encoded[index] = 1\n",
    "    decoded = enc.inverse_transform(encoded[:1296].reshape((-1,1296)))\n",
    "    nonzeros.append(decoded)"
   ]
  },
  {
   "cell_type": "code",
   "execution_count": 173,
   "metadata": {},
   "outputs": [
    {
     "data": {
      "text/plain": [
       "[array([[None, 1, None, None]], dtype=object),\n",
       " array([[None, 30, None, None]], dtype=object),\n",
       " array([[None, None, None, 5]], dtype=object)]"
      ]
     },
     "execution_count": 173,
     "metadata": {},
     "output_type": "execute_result"
    }
   ],
   "source": [
    "nonzeros\n",
    "#Cars, clothes and personal things"
   ]
  },
  {
   "cell_type": "code",
   "execution_count": 149,
   "metadata": {},
   "outputs": [
    {
     "data": {
      "text/plain": [
       "({'Автомобили': 1,\n",
       "  'Аквариум': 2,\n",
       "  'Аудио и видео': 3,\n",
       "  'Билеты и путешествия': 4,\n",
       "  'Бытовая техника': 5,\n",
       "  'Велосипеды': 6,\n",
       "  'Водный транспорт': 7,\n",
       "  'Гаражи и машиноместа': 8,\n",
       "  'Готовый бизнес': 9,\n",
       "  'Грузовики и спецтехника': 10,\n",
       "  'Детская одежда и обувь': 11,\n",
       "  'Дома, дачи, коттеджи': 12,\n",
       "  'Другие животные': 13,\n",
       "  'Земельные участки': 14,\n",
       "  'Игры, приставки и программы': 15,\n",
       "  'Квартиры': 16,\n",
       "  'Книги и журналы': 17,\n",
       "  'Коллекционирование': 18,\n",
       "  'Коммерческая недвижимость': 19,\n",
       "  'Комнаты': 20,\n",
       "  'Кошки': 21,\n",
       "  'Красота и здоровье': 22,\n",
       "  'Мебель и интерьер': 23,\n",
       "  'Мотоциклы и мототехника': 24,\n",
       "  'Музыкальные инструменты': 25,\n",
       "  'Настольные компьютеры': 26,\n",
       "  'Недвижимость за рубежом': 27,\n",
       "  'Ноутбуки': 28,\n",
       "  'Оборудование для бизнеса': 29,\n",
       "  'Одежда, обувь, аксессуары': 30,\n",
       "  'Оргтехника и расходники': 31,\n",
       "  'Охота и рыбалка': 32,\n",
       "  'Планшеты и электронные книги': 33,\n",
       "  'Посуда и товары для кухни': 34,\n",
       "  'Предложение услуг': 35,\n",
       "  'Продукты питания': 36,\n",
       "  'Птицы': 37,\n",
       "  'Растения': 38,\n",
       "  'Ремонт и строительство': 39,\n",
       "  'Собаки': 40,\n",
       "  'Спорт и отдых': 41,\n",
       "  'Телефоны': 42,\n",
       "  'Товары для детей и игрушки': 43,\n",
       "  'Товары для животных': 44,\n",
       "  'Товары для компьютера': 45,\n",
       "  'Фототехника': 46,\n",
       "  'Часы и украшения': 47},\n",
       " {'Бытовая электроника': 1,\n",
       "  'Для бизнеса': 2,\n",
       "  'Для дома и дачи': 3,\n",
       "  'Животные': 4,\n",
       "  'Личные вещи': 5,\n",
       "  'Недвижимость': 6,\n",
       "  'Транспорт': 7,\n",
       "  'Услуги': 8,\n",
       "  'Хобби и отдых': 9})"
      ]
     },
     "execution_count": 149,
     "metadata": {},
     "output_type": "execute_result"
    }
   ],
   "source": [
    "category_index_mapping"
   ]
  },
  {
   "cell_type": "code",
   "execution_count": 150,
   "metadata": {},
   "outputs": [
    {
     "data": {
      "text/plain": [
       "{'Бытовая электроника': 1,\n",
       " 'Для бизнеса': 2,\n",
       " 'Для дома и дачи': 3,\n",
       " 'Животные': 4,\n",
       " 'Личные вещи': 5,\n",
       " 'Недвижимость': 6,\n",
       " 'Транспорт': 7,\n",
       " 'Услуги': 8,\n",
       " 'Хобби и отдых': 9}"
      ]
     },
     "execution_count": 150,
     "metadata": {},
     "output_type": "execute_result"
    }
   ],
   "source": [
    "parent_category_index_mapping"
   ]
  },
  {
   "cell_type": "markdown",
   "metadata": {},
   "source": [
    "## VGG16 + simple NN"
   ]
  },
  {
   "cell_type": "code",
   "execution_count": 28,
   "metadata": {},
   "outputs": [],
   "source": [
    "vgg16_model = VGG16(input_shape=(224, 224, 3), include_top=False)"
   ]
  },
  {
   "cell_type": "code",
   "execution_count": 29,
   "metadata": {},
   "outputs": [],
   "source": [
    "image_input = vgg16_model.input\n",
    "image_model = Flatten()(vgg16_model.output)\n",
    "image_model = Dense(128, activation=\"relu\")(image_model)\n",
    "image_model = Dense(16, activation='relu')(image_model)"
   ]
  },
  {
   "cell_type": "code",
   "execution_count": 30,
   "metadata": {},
   "outputs": [],
   "source": [
    "categorical_input = Input(shape=(train_X.shape[1],))\n",
    "categorical_model = Dense(32, activation=\"relu\")(categorical_input)\n",
    "categorical_model = Dense(8, activation=\"relu\")(categorical_model)"
   ]
  },
  {
   "cell_type": "code",
   "execution_count": 31,
   "metadata": {},
   "outputs": [],
   "source": [
    "combined_model = Concatenate()([categorical_model, image_model])\n",
    "combined_model = Dense(8, activation=\"relu\")(combined_model)\n",
    "combined_output = Dense(1, activation=\"sigmoid\")(combined_model)"
   ]
  },
  {
   "cell_type": "code",
   "execution_count": 32,
   "metadata": {},
   "outputs": [],
   "source": [
    "model = Model(inputs=[image_input, categorical_input], outputs=combined_output)"
   ]
  },
  {
   "cell_type": "code",
   "execution_count": 33,
   "metadata": {},
   "outputs": [],
   "source": [
    "from keras.utils import plot_model\n",
    "plot_model(model, to_file=\"combined_model.png\")"
   ]
  },
  {
   "cell_type": "code",
   "execution_count": 34,
   "metadata": {},
   "outputs": [],
   "source": [
    "for layer in model.layers[:-9]:\n",
    "    layer.trainable = False"
   ]
  },
  {
   "cell_type": "code",
   "execution_count": 35,
   "metadata": {},
   "outputs": [
    {
     "name": "stdout",
     "output_type": "stream",
     "text": [
      "<keras.engine.input_layer.InputLayer object at 0x000001F7C31D3358> False\n",
      "<keras.layers.convolutional.Conv2D object at 0x000001F7C3643780> False\n",
      "<keras.layers.convolutional.Conv2D object at 0x000001F7C3643748> False\n",
      "<keras.layers.pooling.MaxPooling2D object at 0x000001F7C3643E48> False\n",
      "<keras.layers.convolutional.Conv2D object at 0x000001F7C368B0F0> False\n",
      "<keras.layers.convolutional.Conv2D object at 0x000001F7C36A1B70> False\n",
      "<keras.layers.pooling.MaxPooling2D object at 0x000001F7C36B8A58> False\n",
      "<keras.layers.convolutional.Conv2D object at 0x000001F7C36CA9B0> False\n",
      "<keras.layers.convolutional.Conv2D object at 0x000001F7C36F8A20> False\n",
      "<keras.layers.convolutional.Conv2D object at 0x000001F7C36F8E80> False\n",
      "<keras.layers.pooling.MaxPooling2D object at 0x000001F7C3726B00> False\n",
      "<keras.layers.convolutional.Conv2D object at 0x000001F7C373DA58> False\n",
      "<keras.layers.convolutional.Conv2D object at 0x000001F7C3768AC8> False\n",
      "<keras.layers.convolutional.Conv2D object at 0x000001F7C377E550> False\n",
      "<keras.layers.pooling.MaxPooling2D object at 0x000001F7C3798BA8> False\n",
      "<keras.layers.convolutional.Conv2D object at 0x000001F7C37ADB00> False\n",
      "<keras.layers.convolutional.Conv2D object at 0x000001F7C37D7B70> False\n",
      "<keras.layers.convolutional.Conv2D object at 0x000001F7C37EE278> False\n",
      "<keras.layers.pooling.MaxPooling2D object at 0x000001F7C3804C50> False\n",
      "<keras.engine.input_layer.InputLayer object at 0x000001F7C7A4E780> False\n",
      "<keras.layers.core.Flatten object at 0x000001F7D76F5EF0> True\n",
      "<keras.layers.core.Dense object at 0x000001F7C7A4EE80> True\n",
      "<keras.layers.core.Dense object at 0x000001F7D76F5F60> True\n",
      "<keras.layers.core.Dense object at 0x000001F7C7A4E128> True\n",
      "<keras.layers.core.Dense object at 0x000001F7D76F5780> True\n",
      "<keras.layers.merge.Concatenate object at 0x000001F7C7A31F98> True\n",
      "<keras.layers.core.Dense object at 0x000001F7B8C4DEF0> True\n",
      "<keras.layers.core.Dense object at 0x000001F7C7A865F8> True\n"
     ]
    }
   ],
   "source": [
    "for layer in model.layers:\n",
    "    print(layer, layer.trainable)"
   ]
  },
  {
   "cell_type": "code",
   "execution_count": 36,
   "metadata": {},
   "outputs": [],
   "source": [
    "model.compile(optimizer=\"Nadam\", loss='mean_squared_error', metrics=['mean_squared_error'])"
   ]
  },
  {
   "cell_type": "code",
   "execution_count": 37,
   "metadata": {},
   "outputs": [
    {
     "name": "stdout",
     "output_type": "stream",
     "text": [
      "Epoch: 0\n",
      "Batch:  50\n",
      "Loss on last batch:  [0.18838455, 0.18838455]\n",
      "Batch:  100\n",
      "Loss on last batch:  [0.08248573, 0.08248573]\n",
      "Batch:  150\n",
      "Loss on last batch:  [0.07477809, 0.07477809]\n",
      "Batch:  200\n",
      "Loss on last batch:  [0.019299971, 0.019299971]\n",
      "0.08430426680310145\n",
      "Epoch: 1\n",
      "Batch:  50\n",
      "Loss on last batch:  [0.12595724, 0.12595724]\n",
      "Batch:  100\n",
      "Loss on last batch:  [0.074081264, 0.074081264]\n",
      "Batch:  150\n",
      "Loss on last batch:  [0.15291758, 0.15291758]\n",
      "Batch:  200\n",
      "Loss on last batch:  [0.078643315, 0.078643315]\n",
      "0.08388999971978332\n",
      "Epoch: 2\n",
      "Batch:  50\n",
      "Loss on last batch:  [0.034637887, 0.034637887]\n",
      "Batch:  100\n",
      "Loss on last batch:  [0.09151406, 0.09151406]\n",
      "Batch:  150\n",
      "Loss on last batch:  [0.06873608, 0.06873608]\n",
      "Batch:  200\n",
      "Loss on last batch:  [0.10993289, 0.10993289]\n",
      "0.08434593426358646\n",
      "Epoch: 3\n",
      "Batch:  50\n",
      "Loss on last batch:  [0.082114026, 0.082114026]\n",
      "Batch:  100\n",
      "Loss on last batch:  [0.09711187, 0.09711187]\n",
      "Batch:  150\n",
      "Loss on last batch:  [0.035815183, 0.035815183]\n",
      "Batch:  200\n",
      "Loss on last batch:  [0.11745039, 0.11745039]\n",
      "0.08384133517169036\n",
      "Epoch: 4\n",
      "Batch:  50\n",
      "Loss on last batch:  [0.13005777, 0.13005777]\n",
      "Batch:  100\n",
      "Loss on last batch:  [0.069689184, 0.069689184]\n",
      "Batch:  150\n",
      "Loss on last batch:  [0.09720141, 0.09720141]\n",
      "Batch:  200\n",
      "Loss on last batch:  [0.14076033, 0.14076033]\n",
      "0.08406794900959569\n",
      "Epoch: 5\n",
      "Batch:  50\n",
      "Loss on last batch:  [0.060976673, 0.060976673]\n",
      "Batch:  100\n",
      "Loss on last batch:  [0.040583845, 0.040583845]\n",
      "Batch:  150\n",
      "Loss on last batch:  [0.16129988, 0.16129988]\n",
      "Batch:  200\n",
      "Loss on last batch:  [0.037681628, 0.037681628]\n",
      "0.08356880057788542\n",
      "Epoch: 6\n"
     ]
    },
    {
     "ename": "KeyboardInterrupt",
     "evalue": "",
     "output_type": "error",
     "traceback": [
      "\u001b[1;31m---------------------------------------------------------------------------\u001b[0m",
      "\u001b[1;31mKeyboardInterrupt\u001b[0m                         Traceback (most recent call last)",
      "\u001b[1;32m<ipython-input-37-4f0e6fb91a59>\u001b[0m in \u001b[0;36m<module>\u001b[1;34m\u001b[0m\n\u001b[0;32m     14\u001b[0m             \u001b[1;32mbreak\u001b[0m\u001b[1;33m\u001b[0m\u001b[0m\n\u001b[0;32m     15\u001b[0m         \u001b[0mi\u001b[0m \u001b[1;33m+=\u001b[0m \u001b[1;36m1\u001b[0m\u001b[1;33m\u001b[0m\u001b[0m\n\u001b[1;32m---> 16\u001b[1;33m         \u001b[0mloss\u001b[0m \u001b[1;33m=\u001b[0m \u001b[0mmodel\u001b[0m\u001b[1;33m.\u001b[0m\u001b[0mtrain_on_batch\u001b[0m\u001b[1;33m(\u001b[0m\u001b[1;33m[\u001b[0m\u001b[0mimg_X\u001b[0m\u001b[1;33m,\u001b[0m \u001b[0mcat_X\u001b[0m\u001b[1;33m]\u001b[0m\u001b[1;33m,\u001b[0m \u001b[0my\u001b[0m\u001b[1;33m)\u001b[0m\u001b[1;33m\u001b[0m\u001b[0m\n\u001b[0m\u001b[0;32m     17\u001b[0m         \u001b[0mav_loss\u001b[0m \u001b[1;33m+=\u001b[0m \u001b[0mloss\u001b[0m\u001b[1;33m[\u001b[0m\u001b[1;36m0\u001b[0m\u001b[1;33m]\u001b[0m\u001b[1;33m\u001b[0m\u001b[0m\n\u001b[0;32m     18\u001b[0m     \u001b[0mav_loss\u001b[0m \u001b[1;33m/=\u001b[0m \u001b[1;33m(\u001b[0m\u001b[0mi\u001b[0m \u001b[1;33m-\u001b[0m \u001b[1;36m1\u001b[0m\u001b[1;33m)\u001b[0m\u001b[1;33m\u001b[0m\u001b[0m\n",
      "\u001b[1;32m~\\AppData\\Local\\Continuum\\anaconda3\\envs\\gsm_dl\\lib\\site-packages\\keras\\engine\\training.py\u001b[0m in \u001b[0;36mtrain_on_batch\u001b[1;34m(self, x, y, sample_weight, class_weight)\u001b[0m\n\u001b[0;32m   1215\u001b[0m             \u001b[0mins\u001b[0m \u001b[1;33m=\u001b[0m \u001b[0mx\u001b[0m \u001b[1;33m+\u001b[0m \u001b[0my\u001b[0m \u001b[1;33m+\u001b[0m \u001b[0msample_weights\u001b[0m\u001b[1;33m\u001b[0m\u001b[0m\n\u001b[0;32m   1216\u001b[0m         \u001b[0mself\u001b[0m\u001b[1;33m.\u001b[0m\u001b[0m_make_train_function\u001b[0m\u001b[1;33m(\u001b[0m\u001b[1;33m)\u001b[0m\u001b[1;33m\u001b[0m\u001b[0m\n\u001b[1;32m-> 1217\u001b[1;33m         \u001b[0moutputs\u001b[0m \u001b[1;33m=\u001b[0m \u001b[0mself\u001b[0m\u001b[1;33m.\u001b[0m\u001b[0mtrain_function\u001b[0m\u001b[1;33m(\u001b[0m\u001b[0mins\u001b[0m\u001b[1;33m)\u001b[0m\u001b[1;33m\u001b[0m\u001b[0m\n\u001b[0m\u001b[0;32m   1218\u001b[0m         \u001b[1;32mreturn\u001b[0m \u001b[0munpack_singleton\u001b[0m\u001b[1;33m(\u001b[0m\u001b[0moutputs\u001b[0m\u001b[1;33m)\u001b[0m\u001b[1;33m\u001b[0m\u001b[0m\n\u001b[0;32m   1219\u001b[0m \u001b[1;33m\u001b[0m\u001b[0m\n",
      "\u001b[1;32m~\\AppData\\Local\\Continuum\\anaconda3\\envs\\gsm_dl\\lib\\site-packages\\keras\\backend\\tensorflow_backend.py\u001b[0m in \u001b[0;36m__call__\u001b[1;34m(self, inputs)\u001b[0m\n\u001b[0;32m   2713\u001b[0m                 \u001b[1;32mreturn\u001b[0m \u001b[0mself\u001b[0m\u001b[1;33m.\u001b[0m\u001b[0m_legacy_call\u001b[0m\u001b[1;33m(\u001b[0m\u001b[0minputs\u001b[0m\u001b[1;33m)\u001b[0m\u001b[1;33m\u001b[0m\u001b[0m\n\u001b[0;32m   2714\u001b[0m \u001b[1;33m\u001b[0m\u001b[0m\n\u001b[1;32m-> 2715\u001b[1;33m             \u001b[1;32mreturn\u001b[0m \u001b[0mself\u001b[0m\u001b[1;33m.\u001b[0m\u001b[0m_call\u001b[0m\u001b[1;33m(\u001b[0m\u001b[0minputs\u001b[0m\u001b[1;33m)\u001b[0m\u001b[1;33m\u001b[0m\u001b[0m\n\u001b[0m\u001b[0;32m   2716\u001b[0m         \u001b[1;32melse\u001b[0m\u001b[1;33m:\u001b[0m\u001b[1;33m\u001b[0m\u001b[0m\n\u001b[0;32m   2717\u001b[0m             \u001b[1;32mif\u001b[0m \u001b[0mpy_any\u001b[0m\u001b[1;33m(\u001b[0m\u001b[0mis_tensor\u001b[0m\u001b[1;33m(\u001b[0m\u001b[0mx\u001b[0m\u001b[1;33m)\u001b[0m \u001b[1;32mfor\u001b[0m \u001b[0mx\u001b[0m \u001b[1;32min\u001b[0m \u001b[0minputs\u001b[0m\u001b[1;33m)\u001b[0m\u001b[1;33m:\u001b[0m\u001b[1;33m\u001b[0m\u001b[0m\n",
      "\u001b[1;32m~\\AppData\\Local\\Continuum\\anaconda3\\envs\\gsm_dl\\lib\\site-packages\\keras\\backend\\tensorflow_backend.py\u001b[0m in \u001b[0;36m_call\u001b[1;34m(self, inputs)\u001b[0m\n\u001b[0;32m   2673\u001b[0m             \u001b[0mfetched\u001b[0m \u001b[1;33m=\u001b[0m \u001b[0mself\u001b[0m\u001b[1;33m.\u001b[0m\u001b[0m_callable_fn\u001b[0m\u001b[1;33m(\u001b[0m\u001b[1;33m*\u001b[0m\u001b[0marray_vals\u001b[0m\u001b[1;33m,\u001b[0m \u001b[0mrun_metadata\u001b[0m\u001b[1;33m=\u001b[0m\u001b[0mself\u001b[0m\u001b[1;33m.\u001b[0m\u001b[0mrun_metadata\u001b[0m\u001b[1;33m)\u001b[0m\u001b[1;33m\u001b[0m\u001b[0m\n\u001b[0;32m   2674\u001b[0m         \u001b[1;32melse\u001b[0m\u001b[1;33m:\u001b[0m\u001b[1;33m\u001b[0m\u001b[0m\n\u001b[1;32m-> 2675\u001b[1;33m             \u001b[0mfetched\u001b[0m \u001b[1;33m=\u001b[0m \u001b[0mself\u001b[0m\u001b[1;33m.\u001b[0m\u001b[0m_callable_fn\u001b[0m\u001b[1;33m(\u001b[0m\u001b[1;33m*\u001b[0m\u001b[0marray_vals\u001b[0m\u001b[1;33m)\u001b[0m\u001b[1;33m\u001b[0m\u001b[0m\n\u001b[0m\u001b[0;32m   2676\u001b[0m         \u001b[1;32mreturn\u001b[0m \u001b[0mfetched\u001b[0m\u001b[1;33m[\u001b[0m\u001b[1;33m:\u001b[0m\u001b[0mlen\u001b[0m\u001b[1;33m(\u001b[0m\u001b[0mself\u001b[0m\u001b[1;33m.\u001b[0m\u001b[0moutputs\u001b[0m\u001b[1;33m)\u001b[0m\u001b[1;33m]\u001b[0m\u001b[1;33m\u001b[0m\u001b[0m\n\u001b[0;32m   2677\u001b[0m \u001b[1;33m\u001b[0m\u001b[0m\n",
      "\u001b[1;32m~\\AppData\\Roaming\\Python\\Python36\\site-packages\\tensorflow\\python\\client\\session.py\u001b[0m in \u001b[0;36m__call__\u001b[1;34m(self, *args)\u001b[0m\n\u001b[0;32m   1449\u001b[0m         \u001b[1;32mif\u001b[0m \u001b[0mself\u001b[0m\u001b[1;33m.\u001b[0m\u001b[0m_session\u001b[0m\u001b[1;33m.\u001b[0m\u001b[0m_created_with_new_api\u001b[0m\u001b[1;33m:\u001b[0m\u001b[1;33m\u001b[0m\u001b[0m\n\u001b[0;32m   1450\u001b[0m           return tf_session.TF_SessionRunCallable(\n\u001b[1;32m-> 1451\u001b[1;33m               self._session._session, self._handle, args, status, None)\n\u001b[0m\u001b[0;32m   1452\u001b[0m         \u001b[1;32melse\u001b[0m\u001b[1;33m:\u001b[0m\u001b[1;33m\u001b[0m\u001b[0m\n\u001b[0;32m   1453\u001b[0m           return tf_session.TF_DeprecatedSessionRunCallable(\n",
      "\u001b[1;31mKeyboardInterrupt\u001b[0m: "
     ]
    }
   ],
   "source": [
    "epochs = 20\n",
    "for epoch in range(epochs):\n",
    "    print(\"Epoch:\", epoch)\n",
    "    train_image_generator_copy = train_image_generator\n",
    "    i = 1\n",
    "    av_loss = 0\n",
    "    for img_X, y in train_image_generator_copy:\n",
    "        if np.mod(i, 50) == 0:\n",
    "            print(\"Batch: \", i)\n",
    "            print(\"Loss on last batch: \", loss)\n",
    "        n = img_X.shape[0]\n",
    "        cat_X = train_X[(i-1)*n:(i)*n]\n",
    "        if cat_X.shape[0] != 48:\n",
    "            break\n",
    "        i += 1\n",
    "        loss = model.train_on_batch([img_X, cat_X], y)\n",
    "        av_loss += loss[0]\n",
    "    av_loss /= (i - 1)\n",
    "    print(av_loss)"
   ]
  },
  {
   "cell_type": "code",
   "execution_count": 72,
   "metadata": {},
   "outputs": [
    {
     "data": {
      "text/plain": [
       "(32, 224, 224, 3)"
      ]
     },
     "execution_count": 72,
     "metadata": {},
     "output_type": "execute_result"
    }
   ],
   "source": [
    "next(train_image_generator_copy)[0].shape"
   ]
  },
  {
   "cell_type": "code",
   "execution_count": 40,
   "metadata": {},
   "outputs": [],
   "source": [
    "val_x, val_y = next(validation_image_generator)"
   ]
  },
  {
   "cell_type": "code",
   "execution_count": 41,
   "metadata": {},
   "outputs": [
    {
     "data": {
      "text/plain": [
       "array([[0.0000000e+00],\n",
       "       [0.0000000e+00],\n",
       "       [2.6992633e-34],\n",
       "       [0.0000000e+00],\n",
       "       [0.0000000e+00],\n",
       "       [1.2415260e-33],\n",
       "       [0.0000000e+00],\n",
       "       [0.0000000e+00],\n",
       "       [3.0651535e-31],\n",
       "       [0.0000000e+00],\n",
       "       [0.0000000e+00],\n",
       "       [9.9441269e-37],\n",
       "       [0.0000000e+00],\n",
       "       [0.0000000e+00],\n",
       "       [0.0000000e+00],\n",
       "       [0.0000000e+00],\n",
       "       [0.0000000e+00],\n",
       "       [0.0000000e+00],\n",
       "       [0.0000000e+00],\n",
       "       [0.0000000e+00],\n",
       "       [0.0000000e+00],\n",
       "       [0.0000000e+00],\n",
       "       [0.0000000e+00],\n",
       "       [0.0000000e+00],\n",
       "       [0.0000000e+00],\n",
       "       [0.0000000e+00],\n",
       "       [0.0000000e+00],\n",
       "       [0.0000000e+00],\n",
       "       [0.0000000e+00],\n",
       "       [0.0000000e+00],\n",
       "       [0.0000000e+00],\n",
       "       [0.0000000e+00]], dtype=float32)"
      ]
     },
     "execution_count": 41,
     "metadata": {},
     "output_type": "execute_result"
    }
   ],
   "source": [
    "model.predict([val_x, val_X[:32, :]])"
   ]
  },
  {
   "cell_type": "code",
   "execution_count": 42,
   "metadata": {},
   "outputs": [
    {
     "data": {
      "text/plain": [
       "<matplotlib.axes._subplots.AxesSubplot at 0x1c385695f28>"
      ]
     },
     "execution_count": 42,
     "metadata": {},
     "output_type": "execute_result"
    },
    {
     "data": {
      "image/png": "[encoded data removed]",
      "text/plain": [
       "<Figure size 432x288 with 1 Axes>"
      ]
     },
     "metadata": {
      "needs_background": "light"
     },
     "output_type": "display_data"
    }
   ],
   "source": [
    "sns.distplot(model.predict([val_x, val_X[:32, :]]))"
   ]
  },
  {
   "cell_type": "code",
   "execution_count": 34,
   "metadata": {},
   "outputs": [],
   "source": [
    "im = Image.fromarray(np.uint8(x[10, :, :, :]))\n",
    "im.show()"
   ]
  },
  {
   "cell_type": "code",
   "execution_count": 33,
   "metadata": {},
   "outputs": [
    {
     "data": {
      "text/plain": [
       "[('n03188531', 'diaper', 0.37180585),\n",
       " ('n02834397', 'bib', 0.24477212),\n",
       " ('n04209133', 'shower_cap', 0.09811678),\n",
       " ('n02892767', 'brassiere', 0.09649295),\n",
       " ('n04370456', 'sweatshirt', 0.05326038)]"
      ]
     },
     "execution_count": 33,
     "metadata": {},
     "output_type": "execute_result"
    }
   ],
   "source": [
    "decode_predictions(predictions)[10]"
   ]
  },
  {
   "cell_type": "code",
   "execution_count": 41,
   "metadata": {},
   "outputs": [
    {
     "name": "stdout",
     "output_type": "stream",
     "text": [
      "Epoch 1/10\n",
      "35/35 [==============================] - 53s 2s/step - loss: 1702.3782 - mean_squared_error: 1702.3782 - val_loss: 16.9756 - val_mean_squared_error: 16.9756\n",
      "Epoch 2/10\n",
      "35/35 [==============================] - 16s 446ms/step - loss: 105.8839 - mean_squared_error: 105.8839 - val_loss: 21.1053 - val_mean_squared_error: 21.1053\n",
      "Epoch 3/10\n",
      "35/35 [==============================] - 16s 462ms/step - loss: 45.8277 - mean_squared_error: 45.8277 - val_loss: 25.2284 - val_mean_squared_error: 25.2284\n",
      "Epoch 4/10\n",
      "35/35 [==============================] - 17s 477ms/step - loss: 35.9876 - mean_squared_error: 35.9876 - val_loss: 6.3319 - val_mean_squared_error: 6.3319\n",
      "Epoch 5/10\n",
      "35/35 [==============================] - 17s 477ms/step - loss: 25.3791 - mean_squared_error: 25.3791 - val_loss: 0.8395 - val_mean_squared_error: 0.8395\n",
      "Epoch 6/10\n",
      "35/35 [==============================] - 16s 469ms/step - loss: 5.0160 - mean_squared_error: 5.0160 - val_loss: 0.7374 - val_mean_squared_error: 0.7374\n",
      "Epoch 7/10\n",
      "35/35 [==============================] - 16s 463ms/step - loss: 1.2530 - mean_squared_error: 1.2530 - val_loss: 0.3785 - val_mean_squared_error: 0.3785\n",
      "Epoch 8/10\n",
      "35/35 [==============================] - 17s 473ms/step - loss: 0.5063 - mean_squared_error: 0.5063 - val_loss: 0.2777 - val_mean_squared_error: 0.2777\n",
      "Epoch 9/10\n",
      "35/35 [==============================] - 16s 470ms/step - loss: 0.2939 - mean_squared_error: 0.2939 - val_loss: 0.2839 - val_mean_squared_error: 0.2839\n",
      "Epoch 10/10\n",
      "35/35 [==============================] - 16s 459ms/step - loss: 0.2221 - mean_squared_error: 0.2221 - val_loss: 0.3087 - val_mean_squared_error: 0.3087\n"
     ]
    },
    {
     "data": {
      "text/plain": [
       "<keras.callbacks.History at 0x1758e90f780>"
      ]
     },
     "execution_count": 41,
     "metadata": {},
     "output_type": "execute_result"
    }
   ],
   "source": [
    "model.fit_generator(generator=train_image_generator,\n",
    "                    validation_data=validation_image_generator,\n",
    "                    epochs=10)"
   ]
  },
  {
   "cell_type": "code",
   "execution_count": 50,
   "metadata": {},
   "outputs": [
    {
     "data": {
      "text/plain": [
       "0.0723544687816741"
      ]
     },
     "execution_count": 50,
     "metadata": {},
     "output_type": "execute_result"
    }
   ],
   "source": [
    "np.sqrt(np.mean(np.power(subsampled_validation_image_df.deal_probability.values - subsampled_validation_image_df.deal_probability.mean(), 2)))"
   ]
  },
  {
   "cell_type": "code",
   "execution_count": 101,
   "metadata": {},
   "outputs": [],
   "source": [
    "inputs = Input(shape=(1,))\n",
    "embedding = Embedding(len(category_index_mapping), 1, input_length=1)(inputs)"
   ]
  },
  {
   "cell_type": "code",
   "execution_count": 107,
   "metadata": {},
   "outputs": [],
   "source": [
    "dense = Dense(64)(Flatten()(embedding))"
   ]
  },
  {
   "cell_type": "code",
   "execution_count": 108,
   "metadata": {},
   "outputs": [],
   "source": [
    "outputs = Dense(1, activation='sigmoid')(dense)"
   ]
  },
  {
   "cell_type": "code",
   "execution_count": 114,
   "metadata": {},
   "outputs": [],
   "source": [
    "model = Model(inputs=inputs, outputs=outputs)"
   ]
  },
  {
   "cell_type": "code",
   "execution_count": 115,
   "metadata": {},
   "outputs": [],
   "source": [
    "model.compile(optimizer='Adam', loss=root_mean_squared_error, metrics=['mean_squared_error'])"
   ]
  },
  {
   "cell_type": "code",
   "execution_count": 116,
   "metadata": {},
   "outputs": [
    {
     "name": "stdout",
     "output_type": "stream",
     "text": [
      "Train on 120274 samples, validate on 30068 samples\n",
      "Epoch 1/10\n",
      "120274/120274 [==============================] - 1s 7us/step - loss: 0.1495 - mean_squared_error: 0.0645 - val_loss: 0.1402 - val_mean_squared_error: 0.0703\n",
      "Epoch 2/10\n",
      "120274/120274 [==============================] - 0s 3us/step - loss: 0.1367 - mean_squared_error: 0.0717 - val_loss: 0.1367 - val_mean_squared_error: 0.0740\n",
      "Epoch 3/10\n",
      "120274/120274 [==============================] - 0s 3us/step - loss: 0.1346 - mean_squared_error: 0.0737 - val_loss: 0.1352 - val_mean_squared_error: 0.0747\n",
      "Epoch 4/10\n",
      "120274/120274 [==============================] - 0s 3us/step - loss: 0.1335 - mean_squared_error: 0.0739 - val_loss: 0.1342 - val_mean_squared_error: 0.0745\n",
      "Epoch 5/10\n",
      "120274/120274 [==============================] - 0s 3us/step - loss: 0.1327 - mean_squared_error: 0.0736 - val_loss: 0.1335 - val_mean_squared_error: 0.0743\n",
      "Epoch 6/10\n",
      "120274/120274 [==============================] - 0s 3us/step - loss: 0.1322 - mean_squared_error: 0.0737 - val_loss: 0.1330 - val_mean_squared_error: 0.0745\n",
      "Epoch 7/10\n",
      "120274/120274 [==============================] - 0s 3us/step - loss: 0.1319 - mean_squared_error: 0.0739 - val_loss: 0.1328 - val_mean_squared_error: 0.0747\n",
      "Epoch 8/10\n",
      "120274/120274 [==============================] - 0s 3us/step - loss: 0.1317 - mean_squared_error: 0.0741 - val_loss: 0.1326 - val_mean_squared_error: 0.0749\n",
      "Epoch 9/10\n",
      "120274/120274 [==============================] - 0s 3us/step - loss: 0.1315 - mean_squared_error: 0.0742 - val_loss: 0.1325 - val_mean_squared_error: 0.0751\n",
      "Epoch 10/10\n",
      "120274/120274 [==============================] - 0s 3us/step - loss: 0.1315 - mean_squared_error: 0.0743 - val_loss: 0.1324 - val_mean_squared_error: 0.0751\n"
     ]
    },
    {
     "data": {
      "text/plain": [
       "<keras.callbacks.History at 0x1f7b36dc3c8>"
      ]
     },
     "execution_count": 116,
     "metadata": {},
     "output_type": "execute_result"
    }
   ],
   "source": [
    "model.fit(x=subsampled_train_df.category_index.values, y=subsampled_train_df.deal_probability.values, batch_size=2048,\n",
    "         validation_data = (subsampled_validation_df.category_index.values, subsampled_validation_df.deal_probability.values), epochs=10)"
   ]
  }
 ],
 "metadata": {
  "kernelspec": {
   "display_name": "gsm_dl py36",
   "language": "python",
   "name": "gsm_dl"
  },
  "language_info": {
   "codemirror_mode": {
    "name": "ipython",
    "version": 3
   },
   "file_extension": ".py",
   "mimetype": "text/x-python",
   "name": "python",
   "nbconvert_exporter": "python",
   "pygments_lexer": "ipython3",
   "version": "3.6.6"
  }
 },
 "nbformat": 4,
 "nbformat_minor": 2
}
