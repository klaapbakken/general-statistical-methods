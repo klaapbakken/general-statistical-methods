{
 "cells": [
  {
   "cell_type": "code",
   "execution_count": 68,
   "metadata": {},
   "outputs": [],
   "source": [
    "import tensorflow as tf\n",
    "import pandas as pd\n",
    "import numpy as np\n",
    "import os\n",
    "import keras\n",
    "\n",
    "from PIL import Image\n",
    "\n",
    "from keras.preprocessing.image import ImageDataGenerator\n",
    "from keras.applications.vgg19 import VGG19\n",
    "from keras.layers import Dense, Flatten, Embedding, Input\n",
    "from keras.models import Model\n",
    "from keras.optimizers import Adam"
   ]
  },
  {
   "cell_type": "code",
   "execution_count": 30,
   "metadata": {},
   "outputs": [],
   "source": [
    "data_folder = os.path.join(os.path.abspath(os.curdir), os.pardir, \"data\")"
   ]
  },
  {
   "cell_type": "code",
   "execution_count": 91,
   "metadata": {},
   "outputs": [],
   "source": [
    "training_data = os.path.join(data_folder, \"processed\", \"train_train.csv\")\n",
    "train_df = pd.read_csv(training_data)\n",
    "train_df = train_df.assign(image_path = train_df.image + \".jpg\")\n",
    "subsampled_train_df = train_df.sample(frac=0.1, replace=False, random_state=0)"
   ]
  },
  {
   "cell_type": "code",
   "execution_count": 90,
   "metadata": {},
   "outputs": [],
   "source": [
    "validation_data = os.path.join(data_folder, \"processed\", \"train_validation.csv\")\n",
    "validation_df = pd.read_csv(validation_data)\n",
    "validation_df = validation_df.assign(image_path = validation_df.image + \".jpg\")\n",
    "subsampled_validation_df = validation_df.sample(frac=0.1, replace=False, random_state=0)"
   ]
  },
  {
   "cell_type": "code",
   "execution_count": 92,
   "metadata": {},
   "outputs": [],
   "source": [
    "city_index_mapping = {city : int(index + 1) for index, city in enumerate(np.unique(subsampled_train_df.city.values))}\n",
    "category_index_mapping = {category : int(index + 1) for index, category in enumerate(np.unique(subsampled_train_df.category_name.values))}"
   ]
  },
  {
   "cell_type": "code",
   "execution_count": 93,
   "metadata": {},
   "outputs": [],
   "source": [
    "subsampled_train_df = subsampled_train_df.assign(city_index = subsampled_train_df.city.map(city_index_mapping),\n",
    "                                                category_index = subsampled_train_df.category_name.map(category_index_mapping))\n",
    "subsampled_validation_df = subsampled_validation_df.assign(city_index = subsampled_validation_df.city.map(city_index_mapping),\n",
    "                                                category_index = subsampled_validation_df.category_name.map(category_index_mapping))"
   ]
  },
  {
   "cell_type": "code",
   "execution_count": 94,
   "metadata": {},
   "outputs": [
    {
     "data": {
      "text/html": [
       "<div>\n",
       "<style scoped>\n",
       "    .dataframe tbody tr th:only-of-type {\n",
       "        vertical-align: middle;\n",
       "    }\n",
       "\n",
       "    .dataframe tbody tr th {\n",
       "        vertical-align: top;\n",
       "    }\n",
       "\n",
       "    .dataframe thead th {\n",
       "        text-align: right;\n",
       "    }\n",
       "</style>\n",
       "<table border=\"1\" class=\"dataframe\">\n",
       "  <thead>\n",
       "    <tr style=\"text-align: right;\">\n",
       "      <th></th>\n",
       "      <th>Unnamed: 0</th>\n",
       "      <th>item_id</th>\n",
       "      <th>user_id</th>\n",
       "      <th>region</th>\n",
       "      <th>city</th>\n",
       "      <th>parent_category_name</th>\n",
       "      <th>category_name</th>\n",
       "      <th>param_1</th>\n",
       "      <th>param_2</th>\n",
       "      <th>param_3</th>\n",
       "      <th>...</th>\n",
       "      <th>price</th>\n",
       "      <th>item_seq_number</th>\n",
       "      <th>activation_date</th>\n",
       "      <th>user_type</th>\n",
       "      <th>image</th>\n",
       "      <th>image_top_1</th>\n",
       "      <th>deal_probability</th>\n",
       "      <th>image_path</th>\n",
       "      <th>city_index</th>\n",
       "      <th>category_index</th>\n",
       "    </tr>\n",
       "  </thead>\n",
       "  <tbody>\n",
       "    <tr>\n",
       "      <th>223617</th>\n",
       "      <td>24527</td>\n",
       "      <td>d2e60e7f02eb</td>\n",
       "      <td>8ab1dcf8ae00</td>\n",
       "      <td>Тюменская область</td>\n",
       "      <td>Тюмень</td>\n",
       "      <td>Транспорт</td>\n",
       "      <td>Автомобили</td>\n",
       "      <td>С пробегом</td>\n",
       "      <td>Peugeot</td>\n",
       "      <td>407</td>\n",
       "      <td>...</td>\n",
       "      <td>315000.0</td>\n",
       "      <td>1689</td>\n",
       "      <td>2017-03-19</td>\n",
       "      <td>Company</td>\n",
       "      <td>bfe0f269734a36022d8f9ed3080c52508ceda3948f7623...</td>\n",
       "      <td>1132.0</td>\n",
       "      <td>0.00000</td>\n",
       "      <td>bfe0f269734a36022d8f9ed3080c52508ceda3948f7623...</td>\n",
       "      <td>1141</td>\n",
       "      <td>1</td>\n",
       "    </tr>\n",
       "    <tr>\n",
       "      <th>506290</th>\n",
       "      <td>138293</td>\n",
       "      <td>dfb1a5b562d7</td>\n",
       "      <td>d0a2ffcd7b0f</td>\n",
       "      <td>Иркутская область</td>\n",
       "      <td>Братск</td>\n",
       "      <td>Бытовая электроника</td>\n",
       "      <td>Настольные компьютеры</td>\n",
       "      <td>NaN</td>\n",
       "      <td>NaN</td>\n",
       "      <td>NaN</td>\n",
       "      <td>...</td>\n",
       "      <td>18500.0</td>\n",
       "      <td>728</td>\n",
       "      <td>2017-03-25</td>\n",
       "      <td>Shop</td>\n",
       "      <td>14de02f13446f40796af7c9be5dd54afc0b9758af2761a...</td>\n",
       "      <td>2789.0</td>\n",
       "      <td>0.00000</td>\n",
       "      <td>14de02f13446f40796af7c9be5dd54afc0b9758af2761a...</td>\n",
       "      <td>180</td>\n",
       "      <td>26</td>\n",
       "    </tr>\n",
       "    <tr>\n",
       "      <th>611342</th>\n",
       "      <td>205587</td>\n",
       "      <td>233bd90b2585</td>\n",
       "      <td>5ffa26fd101d</td>\n",
       "      <td>Челябинская область</td>\n",
       "      <td>Челябинск</td>\n",
       "      <td>Личные вещи</td>\n",
       "      <td>Детская одежда и обувь</td>\n",
       "      <td>Для девочек</td>\n",
       "      <td>Трикотаж</td>\n",
       "      <td>110-116 см (4-6 лет)</td>\n",
       "      <td>...</td>\n",
       "      <td>50.0</td>\n",
       "      <td>345</td>\n",
       "      <td>2017-03-17</td>\n",
       "      <td>Company</td>\n",
       "      <td>08d733bb2c05103d1d45b874455fe5cf55fb3ae6db26c7...</td>\n",
       "      <td>111.0</td>\n",
       "      <td>0.00000</td>\n",
       "      <td>08d733bb2c05103d1d45b874455fe5cf55fb3ae6db26c7...</td>\n",
       "      <td>1210</td>\n",
       "      <td>11</td>\n",
       "    </tr>\n",
       "    <tr>\n",
       "      <th>358153</th>\n",
       "      <td>1021800</td>\n",
       "      <td>9dcd4eaff44e</td>\n",
       "      <td>7a763d840a81</td>\n",
       "      <td>Краснодарский край</td>\n",
       "      <td>Ейск</td>\n",
       "      <td>Бытовая электроника</td>\n",
       "      <td>Аудио и видео</td>\n",
       "      <td>Телевизоры и проекторы</td>\n",
       "      <td>NaN</td>\n",
       "      <td>NaN</td>\n",
       "      <td>...</td>\n",
       "      <td>1600.0</td>\n",
       "      <td>9</td>\n",
       "      <td>2017-03-26</td>\n",
       "      <td>Company</td>\n",
       "      <td>c04d6059a66c4b786e933f78dec4caf41023fd88dcb821...</td>\n",
       "      <td>3022.0</td>\n",
       "      <td>0.21651</td>\n",
       "      <td>c04d6059a66c4b786e933f78dec4caf41023fd88dcb821...</td>\n",
       "      <td>339</td>\n",
       "      <td>3</td>\n",
       "    </tr>\n",
       "    <tr>\n",
       "      <th>874693</th>\n",
       "      <td>910900</td>\n",
       "      <td>43349e5ce6df</td>\n",
       "      <td>8db0650e5a00</td>\n",
       "      <td>Краснодарский край</td>\n",
       "      <td>Краснодар</td>\n",
       "      <td>Личные вещи</td>\n",
       "      <td>Одежда, обувь, аксессуары</td>\n",
       "      <td>Женская одежда</td>\n",
       "      <td>Свадебные платья</td>\n",
       "      <td>Без размера</td>\n",
       "      <td>...</td>\n",
       "      <td>14000.0</td>\n",
       "      <td>1434</td>\n",
       "      <td>2017-03-23</td>\n",
       "      <td>Company</td>\n",
       "      <td>380eac54ee5214e07fcbdffd9517e0369050c0ea782b29...</td>\n",
       "      <td>560.0</td>\n",
       "      <td>0.00000</td>\n",
       "      <td>380eac54ee5214e07fcbdffd9517e0369050c0ea782b29...</td>\n",
       "      <td>542</td>\n",
       "      <td>30</td>\n",
       "    </tr>\n",
       "  </tbody>\n",
       "</table>\n",
       "<p>5 rows × 22 columns</p>\n",
       "</div>"
      ],
      "text/plain": [
       "        Unnamed: 0       item_id       user_id               region  \\\n",
       "223617       24527  d2e60e7f02eb  8ab1dcf8ae00    Тюменская область   \n",
       "506290      138293  dfb1a5b562d7  d0a2ffcd7b0f    Иркутская область   \n",
       "611342      205587  233bd90b2585  5ffa26fd101d  Челябинская область   \n",
       "358153     1021800  9dcd4eaff44e  7a763d840a81   Краснодарский край   \n",
       "874693      910900  43349e5ce6df  8db0650e5a00   Краснодарский край   \n",
       "\n",
       "             city parent_category_name              category_name  \\\n",
       "223617     Тюмень            Транспорт                 Автомобили   \n",
       "506290     Братск  Бытовая электроника      Настольные компьютеры   \n",
       "611342  Челябинск          Личные вещи     Детская одежда и обувь   \n",
       "358153       Ейск  Бытовая электроника              Аудио и видео   \n",
       "874693  Краснодар          Личные вещи  Одежда, обувь, аксессуары   \n",
       "\n",
       "                       param_1           param_2               param_3  ...  \\\n",
       "223617              С пробегом           Peugeot                   407  ...   \n",
       "506290                     NaN               NaN                   NaN  ...   \n",
       "611342             Для девочек          Трикотаж  110-116 см (4-6 лет)  ...   \n",
       "358153  Телевизоры и проекторы               NaN                   NaN  ...   \n",
       "874693          Женская одежда  Свадебные платья           Без размера  ...   \n",
       "\n",
       "           price item_seq_number  activation_date  user_type  \\\n",
       "223617  315000.0            1689       2017-03-19    Company   \n",
       "506290   18500.0             728       2017-03-25       Shop   \n",
       "611342      50.0             345       2017-03-17    Company   \n",
       "358153    1600.0               9       2017-03-26    Company   \n",
       "874693   14000.0            1434       2017-03-23    Company   \n",
       "\n",
       "                                                    image image_top_1  \\\n",
       "223617  bfe0f269734a36022d8f9ed3080c52508ceda3948f7623...      1132.0   \n",
       "506290  14de02f13446f40796af7c9be5dd54afc0b9758af2761a...      2789.0   \n",
       "611342  08d733bb2c05103d1d45b874455fe5cf55fb3ae6db26c7...       111.0   \n",
       "358153  c04d6059a66c4b786e933f78dec4caf41023fd88dcb821...      3022.0   \n",
       "874693  380eac54ee5214e07fcbdffd9517e0369050c0ea782b29...       560.0   \n",
       "\n",
       "       deal_probability                                         image_path  \\\n",
       "223617          0.00000  bfe0f269734a36022d8f9ed3080c52508ceda3948f7623...   \n",
       "506290          0.00000  14de02f13446f40796af7c9be5dd54afc0b9758af2761a...   \n",
       "611342          0.00000  08d733bb2c05103d1d45b874455fe5cf55fb3ae6db26c7...   \n",
       "358153          0.21651  c04d6059a66c4b786e933f78dec4caf41023fd88dcb821...   \n",
       "874693          0.00000  380eac54ee5214e07fcbdffd9517e0369050c0ea782b29...   \n",
       "\n",
       "        city_index category_index  \n",
       "223617        1141              1  \n",
       "506290         180             26  \n",
       "611342        1210             11  \n",
       "358153         339              3  \n",
       "874693         542             30  \n",
       "\n",
       "[5 rows x 22 columns]"
      ]
     },
     "execution_count": 94,
     "metadata": {},
     "output_type": "execute_result"
    }
   ],
   "source": [
    "subsampled_train_df.head()"
   ]
  },
  {
   "cell_type": "code",
   "execution_count": 35,
   "metadata": {},
   "outputs": [],
   "source": [
    "image_folder = os.path.join(data_folder, \"raw\", \"train_jpg\", \"data\", \"competition_files\", \"train_jpg\")"
   ]
  },
  {
   "cell_type": "code",
   "execution_count": 36,
   "metadata": {},
   "outputs": [],
   "source": [
    "subsampled_train_image_df = subsampled_train_df[['image_path', \"deal_probability\"]].dropna()"
   ]
  },
  {
   "cell_type": "code",
   "execution_count": 37,
   "metadata": {},
   "outputs": [],
   "source": [
    "subsampled_validation_image_df = subsampled_validation_df[['image_path', \"deal_probability\"]].dropna()"
   ]
  },
  {
   "cell_type": "code",
   "execution_count": 38,
   "metadata": {},
   "outputs": [
    {
     "data": {
      "text/html": [
       "<div>\n",
       "<style scoped>\n",
       "    .dataframe tbody tr th:only-of-type {\n",
       "        vertical-align: middle;\n",
       "    }\n",
       "\n",
       "    .dataframe tbody tr th {\n",
       "        vertical-align: top;\n",
       "    }\n",
       "\n",
       "    .dataframe thead th {\n",
       "        text-align: right;\n",
       "    }\n",
       "</style>\n",
       "<table border=\"1\" class=\"dataframe\">\n",
       "  <thead>\n",
       "    <tr style=\"text-align: right;\">\n",
       "      <th></th>\n",
       "      <th>image_path</th>\n",
       "      <th>deal_probability</th>\n",
       "    </tr>\n",
       "  </thead>\n",
       "  <tbody>\n",
       "    <tr>\n",
       "      <th>223617</th>\n",
       "      <td>bfe0f269734a36022d8f9ed3080c52508ceda3948f7623...</td>\n",
       "      <td>0.00000</td>\n",
       "    </tr>\n",
       "    <tr>\n",
       "      <th>506290</th>\n",
       "      <td>14de02f13446f40796af7c9be5dd54afc0b9758af2761a...</td>\n",
       "      <td>0.00000</td>\n",
       "    </tr>\n",
       "    <tr>\n",
       "      <th>611342</th>\n",
       "      <td>08d733bb2c05103d1d45b874455fe5cf55fb3ae6db26c7...</td>\n",
       "      <td>0.00000</td>\n",
       "    </tr>\n",
       "    <tr>\n",
       "      <th>358153</th>\n",
       "      <td>c04d6059a66c4b786e933f78dec4caf41023fd88dcb821...</td>\n",
       "      <td>0.21651</td>\n",
       "    </tr>\n",
       "    <tr>\n",
       "      <th>874693</th>\n",
       "      <td>380eac54ee5214e07fcbdffd9517e0369050c0ea782b29...</td>\n",
       "      <td>0.00000</td>\n",
       "    </tr>\n",
       "  </tbody>\n",
       "</table>\n",
       "</div>"
      ],
      "text/plain": [
       "                                               image_path  deal_probability\n",
       "223617  bfe0f269734a36022d8f9ed3080c52508ceda3948f7623...           0.00000\n",
       "506290  14de02f13446f40796af7c9be5dd54afc0b9758af2761a...           0.00000\n",
       "611342  08d733bb2c05103d1d45b874455fe5cf55fb3ae6db26c7...           0.00000\n",
       "358153  c04d6059a66c4b786e933f78dec4caf41023fd88dcb821...           0.21651\n",
       "874693  380eac54ee5214e07fcbdffd9517e0369050c0ea782b29...           0.00000"
      ]
     },
     "execution_count": 38,
     "metadata": {},
     "output_type": "execute_result"
    }
   ],
   "source": [
    "subsampled_train_image_df.head()"
   ]
  },
  {
   "cell_type": "code",
   "execution_count": 39,
   "metadata": {},
   "outputs": [
    {
     "data": {
      "text/html": [
       "<div>\n",
       "<style scoped>\n",
       "    .dataframe tbody tr th:only-of-type {\n",
       "        vertical-align: middle;\n",
       "    }\n",
       "\n",
       "    .dataframe tbody tr th {\n",
       "        vertical-align: top;\n",
       "    }\n",
       "\n",
       "    .dataframe thead th {\n",
       "        text-align: right;\n",
       "    }\n",
       "</style>\n",
       "<table border=\"1\" class=\"dataframe\">\n",
       "  <thead>\n",
       "    <tr style=\"text-align: right;\">\n",
       "      <th></th>\n",
       "      <th>image_path</th>\n",
       "      <th>deal_probability</th>\n",
       "    </tr>\n",
       "  </thead>\n",
       "  <tbody>\n",
       "    <tr>\n",
       "      <th>52457</th>\n",
       "      <td>56fd8d24d67f4a46f257ca63195044cd51dffc844f46b5...</td>\n",
       "      <td>0.12869</td>\n",
       "    </tr>\n",
       "    <tr>\n",
       "      <th>295589</th>\n",
       "      <td>80d3e93abe6faf8487ce6a1a30b9cf8863f7872cc0773f...</td>\n",
       "      <td>0.80323</td>\n",
       "    </tr>\n",
       "    <tr>\n",
       "      <th>108117</th>\n",
       "      <td>617928b4c8d1df676c9a658ad4ab8117c239551dc06ad7...</td>\n",
       "      <td>0.00000</td>\n",
       "    </tr>\n",
       "    <tr>\n",
       "      <th>169164</th>\n",
       "      <td>c0b5dae9d134087ad3db8479df4b54e076075ce4ea4518...</td>\n",
       "      <td>0.00000</td>\n",
       "    </tr>\n",
       "    <tr>\n",
       "      <th>111649</th>\n",
       "      <td>45ce27a7d80f43c426f698c80bfef794615817df0559ca...</td>\n",
       "      <td>0.00000</td>\n",
       "    </tr>\n",
       "  </tbody>\n",
       "</table>\n",
       "</div>"
      ],
      "text/plain": [
       "                                               image_path  deal_probability\n",
       "52457   56fd8d24d67f4a46f257ca63195044cd51dffc844f46b5...           0.12869\n",
       "295589  80d3e93abe6faf8487ce6a1a30b9cf8863f7872cc0773f...           0.80323\n",
       "108117  617928b4c8d1df676c9a658ad4ab8117c239551dc06ad7...           0.00000\n",
       "169164  c0b5dae9d134087ad3db8479df4b54e076075ce4ea4518...           0.00000\n",
       "111649  45ce27a7d80f43c426f698c80bfef794615817df0559ca...           0.00000"
      ]
     },
     "execution_count": 39,
     "metadata": {},
     "output_type": "execute_result"
    }
   ],
   "source": [
    "subsampled_validation_image_df.head()"
   ]
  },
  {
   "cell_type": "code",
   "execution_count": 40,
   "metadata": {},
   "outputs": [],
   "source": [
    "image_generator = ImageDataGenerator()"
   ]
  },
  {
   "cell_type": "code",
   "execution_count": 41,
   "metadata": {},
   "outputs": [
    {
     "name": "stdout",
     "output_type": "stream",
     "text": [
      "Found 1108 images.\n"
     ]
    }
   ],
   "source": [
    "train_image_generator = image_generator.flow_from_dataframe(dataframe=subsampled_train_image_df, directory=image_folder, x_col=\"image_path\", y_col=\"deal_probability\",\n",
    "                                                           class_mode='other', target_size=(224, 224), color_mode='rgb')"
   ]
  },
  {
   "cell_type": "code",
   "execution_count": 42,
   "metadata": {},
   "outputs": [
    {
     "name": "stdout",
     "output_type": "stream",
     "text": [
      "Found 280 images.\n"
     ]
    }
   ],
   "source": [
    "validation_image_generator = image_generator.flow_from_dataframe(dataframe=subsampled_validation_image_df, directory=image_folder, x_col=\"image_path\", y_col=\"deal_probability\",\n",
    "                                                           class_mode='other', target_size=(224, 224), color_mode='rgb')"
   ]
  },
  {
   "cell_type": "code",
   "execution_count": 45,
   "metadata": {},
   "outputs": [],
   "source": [
    "city_index_mapping = {city : int(index + 1) for index, city in enumerate(np.unique(subsampled_train_df.city.values))}"
   ]
  },
  {
   "cell_type": "code",
   "execution_count": 46,
   "metadata": {},
   "outputs": [
    {
     "data": {
      "text/plain": [
       "223617     203\n",
       "506290      32\n",
       "611342     216\n",
       "358153      54\n",
       "874693      88\n",
       "459541      19\n",
       "1116380    223\n",
       "710347     138\n",
       "261897      55\n",
       "928488     120\n",
       "1172099    132\n",
       "425146      55\n",
       "641804      79\n",
       "571644     132\n",
       "862392      18\n",
       "258896     192\n",
       "762716     133\n",
       "457868      37\n",
       "428738     188\n",
       "1190048    209\n",
       "621192     123\n",
       "741364      90\n",
       "492611     219\n",
       "772777      90\n",
       "985536     164\n",
       "144359     211\n",
       "960261      67\n",
       "911143     132\n",
       "1166836    141\n",
       "528528     133\n",
       "          ... \n",
       "1120436     79\n",
       "1073818     79\n",
       "671431      40\n",
       "912520      93\n",
       "909208     123\n",
       "93460      118\n",
       "792565      55\n",
       "491925      88\n",
       "108720      85\n",
       "927792      40\n",
       "802167      96\n",
       "995158     227\n",
       "924820     148\n",
       "199605     123\n",
       "161887      88\n",
       "447634      72\n",
       "185612      90\n",
       "821445      47\n",
       "43170      120\n",
       "63050       19\n",
       "887683      55\n",
       "170693     110\n",
       "806928     199\n",
       "1067583    131\n",
       "28759       69\n",
       "889711     148\n",
       "443599     139\n",
       "446463      55\n",
       "922701      19\n",
       "159567     167\n",
       "Name: city, Length: 1203, dtype: int64"
      ]
     },
     "execution_count": 46,
     "metadata": {},
     "output_type": "execute_result"
    }
   ],
   "source": [
    "subsampled_train_df.city.map(city_index_mapping)"
   ]
  },
  {
   "cell_type": "code",
   "execution_count": 31,
   "metadata": {},
   "outputs": [],
   "source": [
    "vgg19_model = VGG19(input_shape=(224, 224, 3), include_top=False)"
   ]
  },
  {
   "cell_type": "code",
   "execution_count": 32,
   "metadata": {},
   "outputs": [],
   "source": [
    "image_model = vgg19_model.output"
   ]
  },
  {
   "cell_type": "code",
   "execution_count": 33,
   "metadata": {},
   "outputs": [],
   "source": [
    "image_model = Flatten()(image_model)\n",
    "image_model = Dense(512, activation='relu')(image_model)\n",
    "image_model = Dense(256, activation='relu')(image_model)\n",
    "preds = Dense(1)(image_model)"
   ]
  },
  {
   "cell_type": "code",
   "execution_count": 34,
   "metadata": {},
   "outputs": [],
   "source": [
    "model = Model(inputs=vgg19_model.input, outputs=preds)"
   ]
  },
  {
   "cell_type": "code",
   "execution_count": 36,
   "metadata": {},
   "outputs": [],
   "source": [
    "for layer in model.layers[:22]:\n",
    "    layer.trainable = False\n",
    "for layer in model.layers[22:]:\n",
    "    layer.trainable = True"
   ]
  },
  {
   "cell_type": "code",
   "execution_count": 37,
   "metadata": {},
   "outputs": [
    {
     "name": "stdout",
     "output_type": "stream",
     "text": [
      "False input_1\n",
      "False block1_conv1\n",
      "False block1_conv2\n",
      "False block1_pool\n",
      "False block2_conv1\n",
      "False block2_conv2\n",
      "False block2_pool\n",
      "False block3_conv1\n",
      "False block3_conv2\n",
      "False block3_conv3\n",
      "False block3_conv4\n",
      "False block3_pool\n",
      "False block4_conv1\n",
      "False block4_conv2\n",
      "False block4_conv3\n",
      "False block4_conv4\n",
      "False block4_pool\n",
      "False block5_conv1\n",
      "False block5_conv2\n",
      "False block5_conv3\n",
      "False block5_conv4\n",
      "False block5_pool\n",
      "True flatten_1\n",
      "True dense_1\n",
      "True dense_2\n",
      "True dense_3\n"
     ]
    }
   ],
   "source": [
    "for layer in model.layers:\n",
    "    print(layer.trainable, layer.name)"
   ]
  },
  {
   "cell_type": "code",
   "execution_count": 40,
   "metadata": {},
   "outputs": [],
   "source": [
    "model.compile(optimizer='Adam', loss='mean_squared_error', metrics=['mean_squared_error'])"
   ]
  },
  {
   "cell_type": "code",
   "execution_count": 41,
   "metadata": {},
   "outputs": [
    {
     "name": "stdout",
     "output_type": "stream",
     "text": [
      "Epoch 1/10\n",
      "35/35 [==============================] - 53s 2s/step - loss: 1702.3782 - mean_squared_error: 1702.3782 - val_loss: 16.9756 - val_mean_squared_error: 16.9756\n",
      "Epoch 2/10\n",
      "35/35 [==============================] - 16s 446ms/step - loss: 105.8839 - mean_squared_error: 105.8839 - val_loss: 21.1053 - val_mean_squared_error: 21.1053\n",
      "Epoch 3/10\n",
      "35/35 [==============================] - 16s 462ms/step - loss: 45.8277 - mean_squared_error: 45.8277 - val_loss: 25.2284 - val_mean_squared_error: 25.2284\n",
      "Epoch 4/10\n",
      "35/35 [==============================] - 17s 477ms/step - loss: 35.9876 - mean_squared_error: 35.9876 - val_loss: 6.3319 - val_mean_squared_error: 6.3319\n",
      "Epoch 5/10\n",
      "35/35 [==============================] - 17s 477ms/step - loss: 25.3791 - mean_squared_error: 25.3791 - val_loss: 0.8395 - val_mean_squared_error: 0.8395\n",
      "Epoch 6/10\n",
      "35/35 [==============================] - 16s 469ms/step - loss: 5.0160 - mean_squared_error: 5.0160 - val_loss: 0.7374 - val_mean_squared_error: 0.7374\n",
      "Epoch 7/10\n",
      "35/35 [==============================] - 16s 463ms/step - loss: 1.2530 - mean_squared_error: 1.2530 - val_loss: 0.3785 - val_mean_squared_error: 0.3785\n",
      "Epoch 8/10\n",
      "35/35 [==============================] - 17s 473ms/step - loss: 0.5063 - mean_squared_error: 0.5063 - val_loss: 0.2777 - val_mean_squared_error: 0.2777\n",
      "Epoch 9/10\n",
      "35/35 [==============================] - 16s 470ms/step - loss: 0.2939 - mean_squared_error: 0.2939 - val_loss: 0.2839 - val_mean_squared_error: 0.2839\n",
      "Epoch 10/10\n",
      "35/35 [==============================] - 16s 459ms/step - loss: 0.2221 - mean_squared_error: 0.2221 - val_loss: 0.3087 - val_mean_squared_error: 0.3087\n"
     ]
    },
    {
     "data": {
      "text/plain": [
       "<keras.callbacks.History at 0x1758e90f780>"
      ]
     },
     "execution_count": 41,
     "metadata": {},
     "output_type": "execute_result"
    }
   ],
   "source": [
    "model.fit_generator(generator=train_image_generator,\n",
    "                    validation_data=validation_image_generator,\n",
    "                    epochs=10)"
   ]
  },
  {
   "cell_type": "code",
   "execution_count": 50,
   "metadata": {},
   "outputs": [
    {
     "data": {
      "text/plain": [
       "0.0723544687816741"
      ]
     },
     "execution_count": 50,
     "metadata": {},
     "output_type": "execute_result"
    }
   ],
   "source": [
    "np.mean(np.power(np.abs(subsampled_validation_image_df.deal_probability.values - subsampled_validation_image_df.deal_probability.mean()), 2))"
   ]
  },
  {
   "cell_type": "code",
   "execution_count": 112,
   "metadata": {},
   "outputs": [],
   "source": [
    "from keras import backend as K\n",
    "\n",
    "def root_mean_squared_error(y_true, y_pred):\n",
    "        return K.sqrt(K.mean(K.square(y_pred - y_true), axis=-1)) "
   ]
  },
  {
   "cell_type": "code",
   "execution_count": 101,
   "metadata": {},
   "outputs": [],
   "source": [
    "inputs = Input(shape=(1,))\n",
    "embedding = Embedding(len(category_index_mapping), 1, input_length=1)(inputs)"
   ]
  },
  {
   "cell_type": "code",
   "execution_count": 107,
   "metadata": {},
   "outputs": [],
   "source": [
    "dense = Dense(64)(Flatten()(embedding))"
   ]
  },
  {
   "cell_type": "code",
   "execution_count": 108,
   "metadata": {},
   "outputs": [],
   "source": [
    "outputs = Dense(1, activation='sigmoid')(dense)"
   ]
  },
  {
   "cell_type": "code",
   "execution_count": 114,
   "metadata": {},
   "outputs": [],
   "source": [
    "model = Model(inputs=inputs, outputs=outputs)"
   ]
  },
  {
   "cell_type": "code",
   "execution_count": 115,
   "metadata": {},
   "outputs": [],
   "source": [
    "model.compile(optimizer='Adam', loss=root_mean_squared_error, metrics=['mean_squared_error'])"
   ]
  },
  {
   "cell_type": "code",
   "execution_count": 116,
   "metadata": {},
   "outputs": [
    {
     "name": "stdout",
     "output_type": "stream",
     "text": [
      "Train on 120274 samples, validate on 30068 samples\n",
      "Epoch 1/10\n",
      "120274/120274 [==============================] - 1s 7us/step - loss: 0.1495 - mean_squared_error: 0.0645 - val_loss: 0.1402 - val_mean_squared_error: 0.0703\n",
      "Epoch 2/10\n",
      "120274/120274 [==============================] - 0s 3us/step - loss: 0.1367 - mean_squared_error: 0.0717 - val_loss: 0.1367 - val_mean_squared_error: 0.0740\n",
      "Epoch 3/10\n",
      "120274/120274 [==============================] - 0s 3us/step - loss: 0.1346 - mean_squared_error: 0.0737 - val_loss: 0.1352 - val_mean_squared_error: 0.0747\n",
      "Epoch 4/10\n",
      "120274/120274 [==============================] - 0s 3us/step - loss: 0.1335 - mean_squared_error: 0.0739 - val_loss: 0.1342 - val_mean_squared_error: 0.0745\n",
      "Epoch 5/10\n",
      "120274/120274 [==============================] - 0s 3us/step - loss: 0.1327 - mean_squared_error: 0.0736 - val_loss: 0.1335 - val_mean_squared_error: 0.0743\n",
      "Epoch 6/10\n",
      "120274/120274 [==============================] - 0s 3us/step - loss: 0.1322 - mean_squared_error: 0.0737 - val_loss: 0.1330 - val_mean_squared_error: 0.0745\n",
      "Epoch 7/10\n",
      "120274/120274 [==============================] - 0s 3us/step - loss: 0.1319 - mean_squared_error: 0.0739 - val_loss: 0.1328 - val_mean_squared_error: 0.0747\n",
      "Epoch 8/10\n",
      "120274/120274 [==============================] - 0s 3us/step - loss: 0.1317 - mean_squared_error: 0.0741 - val_loss: 0.1326 - val_mean_squared_error: 0.0749\n",
      "Epoch 9/10\n",
      "120274/120274 [==============================] - 0s 3us/step - loss: 0.1315 - mean_squared_error: 0.0742 - val_loss: 0.1325 - val_mean_squared_error: 0.0751\n",
      "Epoch 10/10\n",
      "120274/120274 [==============================] - 0s 3us/step - loss: 0.1315 - mean_squared_error: 0.0743 - val_loss: 0.1324 - val_mean_squared_error: 0.0751\n"
     ]
    },
    {
     "data": {
      "text/plain": [
       "<keras.callbacks.History at 0x1f7b36dc3c8>"
      ]
     },
     "execution_count": 116,
     "metadata": {},
     "output_type": "execute_result"
    }
   ],
   "source": [
    "model.fit(x=subsampled_train_df.category_index.values, y=subsampled_train_df.deal_probability.values, batch_size=2048,\n",
    "         validation_data = (subsampled_validation_df.category_index.values, subsampled_validation_df.deal_probability.values), epochs=10)"
   ]
  },
  {
   "cell_type": "code",
   "execution_count": null,
   "metadata": {},
   "outputs": [],
   "source": []
  }
 ],
 "metadata": {
  "kernelspec": {
   "display_name": "gsm_dl py36",
   "language": "python",
   "name": "gsm_dl"
  },
  "language_info": {
   "codemirror_mode": {
    "name": "ipython",
    "version": 3
   },
   "file_extension": ".py",
   "mimetype": "text/x-python",
   "name": "python",
   "nbconvert_exporter": "python",
   "pygments_lexer": "ipython3",
   "version": "3.6.6"
  }
 },
 "nbformat": 4,
 "nbformat_minor": 2
}
