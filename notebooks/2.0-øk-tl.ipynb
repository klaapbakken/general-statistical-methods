{
 "cells": [
  {
   "cell_type": "code",
   "execution_count": 1,
   "metadata": {},
   "outputs": [
    {
     "name": "stderr",
     "output_type": "stream",
     "text": [
      "Using TensorFlow backend.\n"
     ]
    }
   ],
   "source": [
    "import tensorflow as tf\n",
    "import pandas as pd\n",
    "import numpy as np\n",
    "import os\n",
    "import keras\n",
    "\n",
    "from PIL import Image\n",
    "\n",
    "from keras.preprocessing.image import ImageDataGenerator\n",
    "from keras.applications.vgg19 import VGG19\n",
    "from keras.layers import Dense, Flatten\n",
    "from keras.models import Model\n",
    "from keras.optimizers import Adam"
   ]
  },
  {
   "cell_type": "code",
   "execution_count": 3,
   "metadata": {},
   "outputs": [],
   "source": [
    "data_folder = os.path.join(os.path.abspath(os.curdir), os.pardir, \"data\")"
   ]
  },
  {
   "cell_type": "code",
   "execution_count": 4,
   "metadata": {},
   "outputs": [],
   "source": [
    "training_data = os.path.join(data_folder, \"processed\", \"train_train.csv\")"
   ]
  },
  {
   "cell_type": "code",
   "execution_count": 5,
   "metadata": {},
   "outputs": [],
   "source": [
    "train_df = pd.read_csv(training_data)"
   ]
  },
  {
   "cell_type": "code",
   "execution_count": 7,
   "metadata": {},
   "outputs": [],
   "source": [
    "validation_data = os.path.join(data_folder, \"processed\", \"train_validation.csv\")\n",
    "validation_df = pd.read_csv(validation_data)\n",
    "subsampled_validation_df = validation_df.sample(frac=0.001, replace=False, random_state=0)"
   ]
  },
  {
   "cell_type": "code",
   "execution_count": 8,
   "metadata": {},
   "outputs": [],
   "source": [
    "image_folder = os.path.join(data_folder, \"raw\", \"train_jpg\", \"data\", \"competition_files\", \"train_jpg\")"
   ]
  },
  {
   "cell_type": "code",
   "execution_count": 10,
   "metadata": {},
   "outputs": [],
   "source": [
    "train_df = train_df.assign(image_path = train_df.image + \".jpg\")"
   ]
  },
  {
   "cell_type": "code",
   "execution_count": 22,
   "metadata": {},
   "outputs": [],
   "source": [
    "train_image_df = train_df[['image_path', \"deal_probability\"]].dropna()\n",
    "subsampled_train_image_df = train_image_df.sample(frac=0.001, replace=False, random_state=0)"
   ]
  },
  {
   "cell_type": "code",
   "execution_count": 26,
   "metadata": {},
   "outputs": [],
   "source": [
    "validation_df = validation_df.assign(image_path = validation_df.image + \".jpg\")\n",
    "validation_image_df = validation_df[['image_path', \"deal_probability\"]].dropna()\n",
    "subsampled_validation_image_df = validation_image_df.sample(frac=0.001, replace=False, random_state=0)"
   ]
  },
  {
   "cell_type": "code",
   "execution_count": 27,
   "metadata": {},
   "outputs": [
    {
     "data": {
      "text/html": [
       "<div>\n",
       "<style scoped>\n",
       "    .dataframe tbody tr th:only-of-type {\n",
       "        vertical-align: middle;\n",
       "    }\n",
       "\n",
       "    .dataframe tbody tr th {\n",
       "        vertical-align: top;\n",
       "    }\n",
       "\n",
       "    .dataframe thead th {\n",
       "        text-align: right;\n",
       "    }\n",
       "</style>\n",
       "<table border=\"1\" class=\"dataframe\">\n",
       "  <thead>\n",
       "    <tr style=\"text-align: right;\">\n",
       "      <th></th>\n",
       "      <th>image_path</th>\n",
       "      <th>deal_probability</th>\n",
       "    </tr>\n",
       "  </thead>\n",
       "  <tbody>\n",
       "    <tr>\n",
       "      <th>917111</th>\n",
       "      <td>4a9e999536299d25f6b7413772363e66578168f5ce3283...</td>\n",
       "      <td>0.00000</td>\n",
       "    </tr>\n",
       "    <tr>\n",
       "      <th>384978</th>\n",
       "      <td>2e8d030d65e53bcf2b96b7143b6197c423e9e6c9297654...</td>\n",
       "      <td>0.80322</td>\n",
       "    </tr>\n",
       "    <tr>\n",
       "      <th>28050</th>\n",
       "      <td>b4f477657db6eef86c12857ac2c6bc03f5341d5ac113cf...</td>\n",
       "      <td>0.00000</td>\n",
       "    </tr>\n",
       "    <tr>\n",
       "      <th>362221</th>\n",
       "      <td>d29f14218e3bddaefdd29e1db73f4819bd6df250fc2bf5...</td>\n",
       "      <td>0.00849</td>\n",
       "    </tr>\n",
       "    <tr>\n",
       "      <th>786073</th>\n",
       "      <td>15678006cc16f8f5baf982ff685ac8ebd6489269cb900b...</td>\n",
       "      <td>0.00000</td>\n",
       "    </tr>\n",
       "  </tbody>\n",
       "</table>\n",
       "</div>"
      ],
      "text/plain": [
       "                                               image_path  deal_probability\n",
       "917111  4a9e999536299d25f6b7413772363e66578168f5ce3283...           0.00000\n",
       "384978  2e8d030d65e53bcf2b96b7143b6197c423e9e6c9297654...           0.80322\n",
       "28050   b4f477657db6eef86c12857ac2c6bc03f5341d5ac113cf...           0.00000\n",
       "362221  d29f14218e3bddaefdd29e1db73f4819bd6df250fc2bf5...           0.00849\n",
       "786073  15678006cc16f8f5baf982ff685ac8ebd6489269cb900b...           0.00000"
      ]
     },
     "execution_count": 27,
     "metadata": {},
     "output_type": "execute_result"
    }
   ],
   "source": [
    "subsampled_train_image_df.head()"
   ]
  },
  {
   "cell_type": "code",
   "execution_count": 28,
   "metadata": {},
   "outputs": [
    {
     "data": {
      "text/html": [
       "<div>\n",
       "<style scoped>\n",
       "    .dataframe tbody tr th:only-of-type {\n",
       "        vertical-align: middle;\n",
       "    }\n",
       "\n",
       "    .dataframe tbody tr th {\n",
       "        vertical-align: top;\n",
       "    }\n",
       "\n",
       "    .dataframe thead th {\n",
       "        text-align: right;\n",
       "    }\n",
       "</style>\n",
       "<table border=\"1\" class=\"dataframe\">\n",
       "  <thead>\n",
       "    <tr style=\"text-align: right;\">\n",
       "      <th></th>\n",
       "      <th>image_path</th>\n",
       "      <th>deal_probability</th>\n",
       "    </tr>\n",
       "  </thead>\n",
       "  <tbody>\n",
       "    <tr>\n",
       "      <th>53851</th>\n",
       "      <td>34cd8be979ff325e1d7118753555191fa2833094a570ad...</td>\n",
       "      <td>0.00000</td>\n",
       "    </tr>\n",
       "    <tr>\n",
       "      <th>218050</th>\n",
       "      <td>dc69f4afe05df186302737152f296aa1a9dbf0320cc474...</td>\n",
       "      <td>0.07437</td>\n",
       "    </tr>\n",
       "    <tr>\n",
       "      <th>174130</th>\n",
       "      <td>7624d225530b700cb555b5e2d35aab810e156821afad2b...</td>\n",
       "      <td>0.00000</td>\n",
       "    </tr>\n",
       "    <tr>\n",
       "      <th>299067</th>\n",
       "      <td>9c1141d191d52e340f0c146c45dcb88d146102f8b140b5...</td>\n",
       "      <td>0.00000</td>\n",
       "    </tr>\n",
       "    <tr>\n",
       "      <th>67250</th>\n",
       "      <td>3f56ee330151432f446b32b9784e389932be873d316901...</td>\n",
       "      <td>0.05268</td>\n",
       "    </tr>\n",
       "  </tbody>\n",
       "</table>\n",
       "</div>"
      ],
      "text/plain": [
       "                                               image_path  deal_probability\n",
       "53851   34cd8be979ff325e1d7118753555191fa2833094a570ad...           0.00000\n",
       "218050  dc69f4afe05df186302737152f296aa1a9dbf0320cc474...           0.07437\n",
       "174130  7624d225530b700cb555b5e2d35aab810e156821afad2b...           0.00000\n",
       "299067  9c1141d191d52e340f0c146c45dcb88d146102f8b140b5...           0.00000\n",
       "67250   3f56ee330151432f446b32b9784e389932be873d316901...           0.05268"
      ]
     },
     "execution_count": 28,
     "metadata": {},
     "output_type": "execute_result"
    }
   ],
   "source": [
    "subsampled_validation_image_df.head()"
   ]
  },
  {
   "cell_type": "code",
   "execution_count": 16,
   "metadata": {},
   "outputs": [],
   "source": [
    "image_generator = ImageDataGenerator()"
   ]
  },
  {
   "cell_type": "code",
   "execution_count": 29,
   "metadata": {},
   "outputs": [
    {
     "name": "stdout",
     "output_type": "stream",
     "text": [
      "Found 1112 images.\n"
     ]
    }
   ],
   "source": [
    "train_image_generator = image_generator.flow_from_dataframe(dataframe=subsampled_train_image_df, directory=image_folder, x_col=\"image_path\", y_col=\"deal_probability\",\n",
    "                                                           class_mode='other', target_size=(224, 224), color_mode='rgb')"
   ]
  },
  {
   "cell_type": "code",
   "execution_count": 30,
   "metadata": {},
   "outputs": [
    {
     "name": "stdout",
     "output_type": "stream",
     "text": [
      "Found 278 images.\n"
     ]
    }
   ],
   "source": [
    "validation_image_generator = image_generator.flow_from_dataframe(dataframe=subsampled_validation_image_df, directory=image_folder, x_col=\"image_path\", y_col=\"deal_probability\",\n",
    "                                                           class_mode='other', target_size=(224, 224), color_mode='rgb')"
   ]
  },
  {
   "cell_type": "code",
   "execution_count": 31,
   "metadata": {},
   "outputs": [],
   "source": [
    "vgg19_model = VGG19(input_shape=(224, 224, 3), include_top=False)"
   ]
  },
  {
   "cell_type": "code",
   "execution_count": 32,
   "metadata": {},
   "outputs": [],
   "source": [
    "image_model = vgg19_model.output"
   ]
  },
  {
   "cell_type": "code",
   "execution_count": 33,
   "metadata": {},
   "outputs": [],
   "source": [
    "image_model = Flatten()(image_model)\n",
    "image_model = Dense(512, activation='relu')(image_model)\n",
    "image_model = Dense(256, activation='relu')(image_model)\n",
    "preds = Dense(1)(image_model)"
   ]
  },
  {
   "cell_type": "code",
   "execution_count": 34,
   "metadata": {},
   "outputs": [],
   "source": [
    "model = Model(inputs=vgg19_model.input, outputs=preds)"
   ]
  },
  {
   "cell_type": "code",
   "execution_count": 36,
   "metadata": {},
   "outputs": [],
   "source": [
    "for layer in model.layers[:22]:\n",
    "    layer.trainable = False\n",
    "for layer in model.layers[22:]:\n",
    "    layer.trainable = True"
   ]
  },
  {
   "cell_type": "code",
   "execution_count": 37,
   "metadata": {},
   "outputs": [
    {
     "name": "stdout",
     "output_type": "stream",
     "text": [
      "False input_1\n",
      "False block1_conv1\n",
      "False block1_conv2\n",
      "False block1_pool\n",
      "False block2_conv1\n",
      "False block2_conv2\n",
      "False block2_pool\n",
      "False block3_conv1\n",
      "False block3_conv2\n",
      "False block3_conv3\n",
      "False block3_conv4\n",
      "False block3_pool\n",
      "False block4_conv1\n",
      "False block4_conv2\n",
      "False block4_conv3\n",
      "False block4_conv4\n",
      "False block4_pool\n",
      "False block5_conv1\n",
      "False block5_conv2\n",
      "False block5_conv3\n",
      "False block5_conv4\n",
      "False block5_pool\n",
      "True flatten_1\n",
      "True dense_1\n",
      "True dense_2\n",
      "True dense_3\n"
     ]
    }
   ],
   "source": [
    "for layer in model.layers:\n",
    "    print(layer.trainable, layer.name)"
   ]
  },
  {
   "cell_type": "code",
   "execution_count": 40,
   "metadata": {},
   "outputs": [],
   "source": [
    "model.compile(optimizer='Adam', loss='mean_squared_error', metrics=['mean_squared_error'])"
   ]
  },
  {
   "cell_type": "code",
   "execution_count": 41,
   "metadata": {},
   "outputs": [
    {
     "name": "stdout",
     "output_type": "stream",
     "text": [
      "Epoch 1/10\n",
      "35/35 [==============================] - 53s 2s/step - loss: 1702.3782 - mean_squared_error: 1702.3782 - val_loss: 16.9756 - val_mean_squared_error: 16.9756\n",
      "Epoch 2/10\n",
      "35/35 [==============================] - 16s 446ms/step - loss: 105.8839 - mean_squared_error: 105.8839 - val_loss: 21.1053 - val_mean_squared_error: 21.1053\n",
      "Epoch 3/10\n",
      "35/35 [==============================] - 16s 462ms/step - loss: 45.8277 - mean_squared_error: 45.8277 - val_loss: 25.2284 - val_mean_squared_error: 25.2284\n",
      "Epoch 4/10\n",
      "35/35 [==============================] - 17s 477ms/step - loss: 35.9876 - mean_squared_error: 35.9876 - val_loss: 6.3319 - val_mean_squared_error: 6.3319\n",
      "Epoch 5/10\n",
      "35/35 [==============================] - 17s 477ms/step - loss: 25.3791 - mean_squared_error: 25.3791 - val_loss: 0.8395 - val_mean_squared_error: 0.8395\n",
      "Epoch 6/10\n",
      "35/35 [==============================] - 16s 469ms/step - loss: 5.0160 - mean_squared_error: 5.0160 - val_loss: 0.7374 - val_mean_squared_error: 0.7374\n",
      "Epoch 7/10\n",
      "35/35 [==============================] - 16s 463ms/step - loss: 1.2530 - mean_squared_error: 1.2530 - val_loss: 0.3785 - val_mean_squared_error: 0.3785\n",
      "Epoch 8/10\n",
      "35/35 [==============================] - 17s 473ms/step - loss: 0.5063 - mean_squared_error: 0.5063 - val_loss: 0.2777 - val_mean_squared_error: 0.2777\n",
      "Epoch 9/10\n",
      "35/35 [==============================] - 16s 470ms/step - loss: 0.2939 - mean_squared_error: 0.2939 - val_loss: 0.2839 - val_mean_squared_error: 0.2839\n",
      "Epoch 10/10\n",
      "35/35 [==============================] - 16s 459ms/step - loss: 0.2221 - mean_squared_error: 0.2221 - val_loss: 0.3087 - val_mean_squared_error: 0.3087\n"
     ]
    },
    {
     "data": {
      "text/plain": [
       "<keras.callbacks.History at 0x1758e90f780>"
      ]
     },
     "execution_count": 41,
     "metadata": {},
     "output_type": "execute_result"
    }
   ],
   "source": [
    "model.fit_generator(generator=train_image_generator,\n",
    "                    validation_data=validation_image_generator,\n",
    "                    epochs=10)"
   ]
  },
  {
   "cell_type": "code",
   "execution_count": 50,
   "metadata": {},
   "outputs": [
    {
     "data": {
      "text/plain": [
       "0.0723544687816741"
      ]
     },
     "execution_count": 50,
     "metadata": {},
     "output_type": "execute_result"
    }
   ],
   "source": [
    "np.mean(np.power(np.abs(subsampled_validation_image_df.deal_probability.values - subsampled_validation_image_df.deal_probability.mean()), 2))"
   ]
  }
 ],
 "metadata": {
  "kernelspec": {
   "display_name": "gsm_dl py36",
   "language": "python",
   "name": "gsm_dl"
  },
  "language_info": {
   "codemirror_mode": {
    "name": "ipython",
    "version": 3
   },
   "file_extension": ".py",
   "mimetype": "text/x-python",
   "name": "python",
   "nbconvert_exporter": "python",
   "pygments_lexer": "ipython3",
   "version": "3.6.6"
  }
 },
 "nbformat": 4,
 "nbformat_minor": 2
}
