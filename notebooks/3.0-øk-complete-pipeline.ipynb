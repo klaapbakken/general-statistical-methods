{
 "cells": [
  {
   "cell_type": "code",
   "execution_count": 1,
   "metadata": {},
   "outputs": [
    {
     "name": "stderr",
     "output_type": "stream",
     "text": [
      "Using TensorFlow backend.\n"
     ]
    }
   ],
   "source": [
    "import tensorflow as tf\n",
    "import pandas as pd\n",
    "import numpy as np\n",
    "import seaborn as sns\n",
    "import os\n",
    "import keras\n",
    "\n",
    "from PIL import Image\n",
    "\n",
    "from keras.preprocessing.image import ImageDataGenerator\n",
    "from keras.applications.vgg16 import VGG16, decode_predictions\n",
    "from keras.layers import Dense, Flatten, Embedding, Input, Dropout, Concatenate, BatchNormalization\n",
    "from keras.models import Model\n",
    "from keras.optimizers import Adam\n",
    "from keras import backend as K\n",
    "from keras.callbacks import EarlyStopping\n",
    "\n",
    "from sklearn.preprocessing import OneHotEncoder\n",
    "from sklearn.preprocessing import Normalizer\n",
    "from sklearn.utils import shuffle\n",
    "from sklearn.feature_extraction.text import TfidfVectorizer\n",
    "from sklearn.feature_selection import SelectFromModel\n",
    "\n",
    "from scipy import sparse"
   ]
  },
  {
   "cell_type": "markdown",
   "metadata": {},
   "source": [
    "## Declaring useful functions"
   ]
  },
  {
   "cell_type": "code",
   "execution_count": 2,
   "metadata": {},
   "outputs": [],
   "source": [
    "def change_data_representation(df, feature_to_index_maps, data_folder, image_folder):\n",
    "    \n",
    "    empty_img_path = os.path.join(data_folder, \"external\", \"empty_img.jpg\")\n",
    "    \n",
    "    empty_img = Image.fromarray(np.zeros((224, 224, 3)).astype(np.uint8))\n",
    "    empty_img_path = os.path.join(data_folder, \"external\", \"empty_img.jpg\")\n",
    "    empty_img.save(empty_img_path)\n",
    "    \n",
    "    empty_img_relpath = os.path.relpath(empty_img_path, image_folder)\n",
    "    \n",
    "    num_df = df.assign(category_index = df.category_name.map(feature_to_index_maps[0]),\n",
    "                       region_index = df.region.map(feature_to_index_maps[1]),\n",
    "                       parent_category_index = df.parent_category_name.map(feature_to_index_maps[2]),\n",
    "                       param_1_index = df.param_1.map(feature_to_index_maps[3]),\n",
    "                       user_type_index = df.user_type.map(feature_to_index_maps[4]),\n",
    "                       image_path = df.image + \".jpg\",\n",
    "                       days_since_activation_num = df.days_since_activation.str.slice(0,2).astype(int)\n",
    "                      )\n",
    "    \n",
    "    num_df.fillna({\"param_1_index\" : 0,\n",
    "                   \"region_index\" : 0,\n",
    "                   \"parent_category_index\" : 0,\n",
    "                   \"user_type_index\" : 0,\n",
    "                   \"category_index\" : 0,\n",
    "                   \"description\" : \"\",\n",
    "                  \"image_path\" : empty_img_relpath},\n",
    "                 inplace=True)\n",
    "    \n",
    "    num_df.price.fillna(num_df.groupby(\"category_name\")[\"price\"].transform(\"mean\"),\n",
    "                        inplace=True)\n",
    "\n",
    "    features_to_keep = [\"title\", \"description\", \"price\", \"deal_probability\", \"user_active_ads\",\\\n",
    "                        \"image_path\", \"category_index\", \"region_index\", \"parent_category_index\",\\\n",
    "                       \"param_1_index\", \"user_type_index\", \"days_since_activation_num\"]\n",
    "\n",
    "    num_df = num_df[features_to_keep]\n",
    "    \n",
    "    return num_df"
   ]
  },
  {
   "cell_type": "code",
   "execution_count": 3,
   "metadata": {},
   "outputs": [],
   "source": [
    "def get_feature_to_index_maps(df):\n",
    "    category_index_mapping = {category : int(index + 1) for index, category\\\n",
    "                              in enumerate(df.category_name.unique())}\n",
    "    region_index_mapping = {region : int(index + 1) for index, region\\\n",
    "                            in enumerate(df.region.unique())}\n",
    "    parent_category_index_mapping = {par_category : int(index + 1) for index, par_category\\\n",
    "                                     in enumerate(df.parent_category_name.unique())}\n",
    "    param_1_index_mapping = {param_1 : int(index + 1) for index, param_1\\\n",
    "                             in enumerate(df.param_1.unique())}\n",
    "    \n",
    "    user_type_index_mapping = dict(zip(df.user_type.unique(), np.arange(1,4)))\n",
    "    \n",
    "    return [category_index_mapping, region_index_mapping, parent_category_index_mapping,\\\n",
    "            param_1_index_mapping, user_type_index_mapping]"
   ]
  },
  {
   "cell_type": "code",
   "execution_count": 4,
   "metadata": {},
   "outputs": [],
   "source": [
    "def create_one_hot_encoder(df):\n",
    "    one_hot_enc = OneHotEncoder(categories=\"auto\", handle_unknown=\"ignore\")\n",
    "    categorical_columns = [\"category_index\", \"region_index\", \"parent_category_index\",\\\n",
    "                          \"param_1_index\", \"user_type_index\"]\n",
    "    one_hot_enc.fit(df[categorical_columns])\n",
    "    return one_hot_enc"
   ]
  },
  {
   "cell_type": "code",
   "execution_count": 5,
   "metadata": {},
   "outputs": [],
   "source": [
    "def one_hot_encode(df, enc):\n",
    "    categorical_columns = [\"category_index\", \"region_index\", \"parent_category_index\",\\\n",
    "                          \"param_1_index\", \"user_type_index\"]\n",
    "    return enc.transform(df[categorical_columns])"
   ]
  },
  {
   "cell_type": "code",
   "execution_count": 6,
   "metadata": {},
   "outputs": [],
   "source": [
    "def rmse(y_true, y_pred):\n",
    "    return np.sqrt(np.mean(np.power(y_pred - y_true, 2)))"
   ]
  },
  {
   "cell_type": "code",
   "execution_count": 7,
   "metadata": {},
   "outputs": [],
   "source": [
    "data_folder = os.path.join(os.path.abspath(os.curdir), os.pardir, \"data\")\n",
    "image_folder = image_folder = os.path.join(data_folder,\n",
    "                                           \"raw\",\n",
    "                                           \"train_jpg\",\n",
    "                                           \"data\",\n",
    "                                           \"competition_files\",\n",
    "                                           \"train_jpg\")\n",
    "training_data_path = os.path.join(data_folder, \"interim\", \"trimmed_train_train.csv\")\n",
    "val_data_path = os.path.join(data_folder, \"interim\", \"trimmed_train_validation.csv\") \n",
    "raw_train_df = pd.read_csv(training_data_path)\n",
    "raw_val_df = pd.read_csv(val_data_path)"
   ]
  },
  {
   "cell_type": "markdown",
   "metadata": {},
   "source": [
    "## Setting up for experiment"
   ]
  },
  {
   "cell_type": "code",
   "execution_count": 8,
   "metadata": {},
   "outputs": [],
   "source": [
    "feature_to_index_maps = get_feature_to_index_maps(raw_train_df)\n",
    "train_df = change_data_representation(raw_train_df, feature_to_index_maps, data_folder, image_folder)\n",
    "val_df = change_data_representation(raw_val_df, feature_to_index_maps, data_folder, image_folder)"
   ]
  },
  {
   "cell_type": "code",
   "execution_count": 9,
   "metadata": {},
   "outputs": [],
   "source": [
    "enc = create_one_hot_encoder(train_df)\n",
    "numerical_features = [\"price\", \"user_active_ads\", \"days_since_activation_num\"]\n",
    "\n",
    "scaler = Normalizer()\n",
    "\n",
    "train_cat_X = one_hot_encode(train_df, enc)\n",
    "train_num_X = train_df[numerical_features].values\n",
    "scaler.fit(train_num_X)\n",
    "train_num_X = scaler.transform(train_num_X)\n",
    "train_y = train_df.deal_probability.values\n",
    "\n",
    "val_cat_X = one_hot_encode(val_df, enc)\n",
    "val_num_X = val_df[numerical_features]\n",
    "val_num_X = scaler.transform(val_num_X)\n",
    "val_y = val_df.deal_probability.values"
   ]
  },
  {
   "cell_type": "code",
   "execution_count": 10,
   "metadata": {},
   "outputs": [],
   "source": [
    "vectorizer = TfidfVectorizer()"
   ]
  },
  {
   "cell_type": "code",
   "execution_count": 31,
   "metadata": {},
   "outputs": [],
   "source": [
    "train_df = train_df.assign(td = train_df.title + train_df.description)"
   ]
  },
  {
   "cell_type": "code",
   "execution_count": 33,
   "metadata": {},
   "outputs": [],
   "source": [
    "vocabulary = train_df.td.values"
   ]
  },
  {
   "cell_type": "code",
   "execution_count": 35,
   "metadata": {},
   "outputs": [
    {
     "data": {
      "text/plain": [
       "TfidfVectorizer(analyzer='word', binary=False, decode_error='strict',\n",
       "        dtype=<class 'numpy.float64'>, encoding='utf-8', input='content',\n",
       "        lowercase=True, max_df=1.0, max_features=None, min_df=1,\n",
       "        ngram_range=(1, 1), norm='l2', preprocessor=None, smooth_idf=True,\n",
       "        stop_words=None, strip_accents=None, sublinear_tf=False,\n",
       "        token_pattern='(?u)\\\\b\\\\w\\\\w+\\\\b', tokenizer=None, use_idf=True,\n",
       "        vocabulary=None)"
      ]
     },
     "execution_count": 35,
     "metadata": {},
     "output_type": "execute_result"
    }
   ],
   "source": [
    "vectorizer.fit(vocabulary)"
   ]
  },
  {
   "cell_type": "code",
   "execution_count": 36,
   "metadata": {},
   "outputs": [],
   "source": [
    "train_title = vectorizer.transform(train_df[\"title\"].values)\n",
    "val_title = vectorizer.transform(val_df[\"title\"].values)"
   ]
  },
  {
   "cell_type": "code",
   "execution_count": 37,
   "metadata": {},
   "outputs": [],
   "source": [
    "train_desc = vectorizer.transform(train_df[\"description\"].values)\n",
    "val_desc = vectorizer.transform(val_df[\"description\"].values)"
   ]
  },
  {
   "cell_type": "markdown",
   "metadata": {},
   "source": [
    "## Feature Selection using Lasso"
   ]
  },
  {
   "cell_type": "code",
   "execution_count": 65,
   "metadata": {},
   "outputs": [],
   "source": [
    "random_indices = np.random.choice(np.arange(train_title.shape[0]), size=10000)\n",
    "train_title_ss = train_title[random_indices, :]\n",
    "train_desc_ss = train_desc[random_indices, :]\n",
    "train_y_ss = train_y[random_indices]"
   ]
  },
  {
   "cell_type": "code",
   "execution_count": 66,
   "metadata": {},
   "outputs": [
    {
     "data": {
      "text/plain": [
       "SelectFromModel(estimator=Lasso(alpha=0.0001, copy_X=True, fit_intercept=True, max_iter=1000,\n",
       "   normalize=False, positive=False, precompute=False, random_state=None,\n",
       "   selection='cyclic', tol=0.0001, warm_start=False),\n",
       "        max_features=None, norm_order=1, prefit=False, threshold=None)"
      ]
     },
     "execution_count": 66,
     "metadata": {},
     "output_type": "execute_result"
    }
   ],
   "source": [
    "from sklearn.linear_model import Lasso\n",
    "\n",
    "title_lm = Lasso(alpha=1e-4)\n",
    "\n",
    "title_selector = SelectFromModel(lm)\n",
    "\n",
    "title_selector.fit(train_title_ss, train_y_ss)"
   ]
  },
  {
   "cell_type": "code",
   "execution_count": 67,
   "metadata": {},
   "outputs": [
    {
     "data": {
      "text/plain": [
       "SelectFromModel(estimator=Lasso(alpha=0.0001, copy_X=True, fit_intercept=True, max_iter=1000,\n",
       "   normalize=False, positive=False, precompute=False, random_state=None,\n",
       "   selection='cyclic', tol=0.0001, warm_start=False),\n",
       "        max_features=None, norm_order=1, prefit=False, threshold=None)"
      ]
     },
     "execution_count": 67,
     "metadata": {},
     "output_type": "execute_result"
    }
   ],
   "source": [
    "desc_lm = Lasso(alpha=1e-4)\n",
    "\n",
    "desc_selector = SelectFromModel(lm)\n",
    "\n",
    "desc_selector.fit(train_desc_ss, train_y_ss)"
   ]
  },
  {
   "cell_type": "code",
   "execution_count": 73,
   "metadata": {},
   "outputs": [],
   "source": [
    "selected_train_title = title_selector.transform(train_title)\n",
    "selected_train_desc = desc_selector.transform(train_desc)"
   ]
  },
  {
   "cell_type": "code",
   "execution_count": 74,
   "metadata": {},
   "outputs": [],
   "source": [
    "selected_val_title = title_selector.transform(val_title)\n",
    "selected_val_desc = desc_selector.transform(val_desc)"
   ]
  },
  {
   "cell_type": "code",
   "execution_count": 76,
   "metadata": {},
   "outputs": [],
   "source": [
    "train_X = sparse.hstack((train_cat_X, train_num_X, selected_train_title,\\\n",
    "                         selected_train_desc)).tocsr()\n",
    "val_X = sparse.hstack((val_cat_X, val_num_X, selected_val_title,\\\n",
    "                       selected_val_desc)).tocsr()"
   ]
  },
  {
   "cell_type": "code",
   "execution_count": 77,
   "metadata": {},
   "outputs": [],
   "source": [
    "train_X, train_y = shuffle(train_X, train_y)"
   ]
  },
  {
   "cell_type": "code",
   "execution_count": 78,
   "metadata": {},
   "outputs": [],
   "source": [
    "val_X, val_y = shuffle(val_X, val_y)"
   ]
  },
  {
   "cell_type": "code",
   "execution_count": 79,
   "metadata": {},
   "outputs": [
    {
     "name": "stdout",
     "output_type": "stream",
     "text": [
      "(1202739, 750) (300685, 750)\n"
     ]
    }
   ],
   "source": [
    "print(train_X.shape, val_X.shape)"
   ]
  },
  {
   "cell_type": "code",
   "execution_count": 80,
   "metadata": {},
   "outputs": [],
   "source": [
    "def keras_rmse(y_true, y_pred):\n",
    "    return K.sqrt(K.mean(K.square(y_pred - y_true)))"
   ]
  },
  {
   "cell_type": "markdown",
   "metadata": {},
   "source": [
    "## Neural network"
   ]
  },
  {
   "cell_type": "code",
   "execution_count": 97,
   "metadata": {},
   "outputs": [],
   "source": [
    "inputs = Input(shape=(train_X.shape[1], ))\n",
    "outputs = Dropout(0.2)(inputs)\n",
    "outputs = Dense(512, activation=\"relu\")(outputs)\n",
    "outputs = BatchNormalization()(outputs)\n",
    "outputs = Dropout(0.3)(outputs)\n",
    "outputs = Dense(256, activation=\"relu\")(outputs)\n",
    "outputs = BatchNormalization()(outputs)\n",
    "outputs = Dense(128, activation=\"relu\")(outputs)\n",
    "outputs = BatchNormalization()(outputs)\n",
    "outputs = Dense(128, activation=\"relu\")(outputs)\n",
    "outputs = BatchNormalization()(outputs)\n",
    "outputs = Dropout(0.3)(outputs)\n",
    "outputs = Dense(64, activation=\"relu\")(outputs)\n",
    "outputs = BatchNormalization()(outputs)\n",
    "outputs = Dense(32, activation=\"relu\")(outputs)\n",
    "outputs = BatchNormalization()(outputs)\n",
    "outputs = Dense(16, activation=\"relu\")(outputs)\n",
    "outputs = BatchNormalization()(outputs)\n",
    "outputs = Dense(1, activation=\"sigmoid\")(outputs)"
   ]
  },
  {
   "cell_type": "code",
   "execution_count": 98,
   "metadata": {},
   "outputs": [],
   "source": [
    "model = Model(inputs, outputs)"
   ]
  },
  {
   "cell_type": "code",
   "execution_count": 99,
   "metadata": {},
   "outputs": [],
   "source": [
    "model.compile(optimizer=\"Adam\", loss=keras_rmse, metrics=[keras_rmse, \"mean_squared_error\"])"
   ]
  },
  {
   "cell_type": "code",
   "execution_count": 100,
   "metadata": {},
   "outputs": [
    {
     "name": "stdout",
     "output_type": "stream",
     "text": [
      "Train on 1202739 samples, validate on 300685 samples\n",
      "Epoch 1/5\n",
      "1202739/1202739 [==============================] - 96s 80us/step - loss: 0.2433 - keras_rmse: 0.2433 - mean_squared_error: 0.0601 - val_loss: 0.2315 - val_keras_rmse: 0.2315 - val_mean_squared_error: 0.0539\n",
      "Epoch 2/5\n",
      "1202739/1202739 [==============================] - 94s 78us/step - loss: 0.2342 - keras_rmse: 0.2342 - mean_squared_error: 0.0551 - val_loss: 0.2309 - val_keras_rmse: 0.2309 - val_mean_squared_error: 0.0536\n",
      "Epoch 3/5\n",
      "1202739/1202739 [==============================] - 94s 78us/step - loss: 0.2335 - keras_rmse: 0.2335 - mean_squared_error: 0.0548 - val_loss: 0.2311 - val_keras_rmse: 0.2311 - val_mean_squared_error: 0.0537\n"
     ]
    }
   ],
   "source": [
    "history = model.fit(train_X, train_y, batch_size=256, epochs=5, validation_data=(val_X, val_y),\n",
    "                   callbacks=[EarlyStopping()])"
   ]
  },
  {
   "cell_type": "code",
   "execution_count": 101,
   "metadata": {},
   "outputs": [],
   "source": [
    "import matplotlib.pyplot as plt"
   ]
  },
  {
   "cell_type": "code",
   "execution_count": 102,
   "metadata": {},
   "outputs": [
    {
     "data": {
      "text/plain": [
       "[0, 1, 2]"
      ]
     },
     "execution_count": 102,
     "metadata": {},
     "output_type": "execute_result"
    }
   ],
   "source": [
    "history.epoch"
   ]
  },
  {
   "cell_type": "code",
   "execution_count": 103,
   "metadata": {},
   "outputs": [
    {
     "data": {
      "text/plain": [
       "[<matplotlib.lines.Line2D at 0x150cb112b70>]"
      ]
     },
     "execution_count": 103,
     "metadata": {},
     "output_type": "execute_result"
    },
    {
     "data": {
      "image/png": "[encoded data removed]",
      "text/plain": [
       "<Figure size 432x288 with 1 Axes>"
      ]
     },
     "metadata": {
      "needs_background": "light"
     },
     "output_type": "display_data"
    }
   ],
   "source": [
    "plt.plot(history.epoch, history.history[\"loss\"])\n",
    "plt.plot(history.epoch, history.history[\"val_loss\"])"
   ]
  },
  {
   "cell_type": "code",
   "execution_count": 148,
   "metadata": {},
   "outputs": [
    {
     "data": {
      "text/plain": [
       "0.23558437978779492"
      ]
     },
     "execution_count": 148,
     "metadata": {},
     "output_type": "execute_result"
    }
   ],
   "source": [
    "np.sqrt(0.0555)"
   ]
  },
  {
   "cell_type": "code",
   "execution_count": 104,
   "metadata": {},
   "outputs": [],
   "source": [
    "squared_error = 0\n",
    "for i, y_hat in enumerate(model.predict(val_X, batch_size=256)):\n",
    "    squared_error += (y_hat - val_y[i])**2"
   ]
  },
  {
   "cell_type": "code",
   "execution_count": 105,
   "metadata": {},
   "outputs": [
    {
     "data": {
      "text/plain": [
       "array([16131.877], dtype=float32)"
      ]
     },
     "execution_count": 105,
     "metadata": {},
     "output_type": "execute_result"
    }
   ],
   "source": [
    "squared_error"
   ]
  },
  {
   "cell_type": "code",
   "execution_count": 106,
   "metadata": {},
   "outputs": [
    {
     "data": {
      "text/plain": [
       "array([0.23162561])"
      ]
     },
     "execution_count": 106,
     "metadata": {},
     "output_type": "execute_result"
    }
   ],
   "source": [
    "np.sqrt(squared_error/val_X.shape[0])"
   ]
  },
  {
   "cell_type": "code",
   "execution_count": 251,
   "metadata": {},
   "outputs": [
    {
     "data": {
      "text/plain": [
       "(10000,)"
      ]
     },
     "execution_count": 251,
     "metadata": {},
     "output_type": "execute_result"
    }
   ],
   "source": [
    "val_y_ss.shape"
   ]
  },
  {
   "cell_type": "markdown",
   "metadata": {},
   "source": [
    "## Subsampling"
   ]
  },
  {
   "cell_type": "code",
   "execution_count": 130,
   "metadata": {},
   "outputs": [],
   "source": [
    "random_indices = np.random.choice(np.arange(train_X.shape[0]), size=10000)\n",
    "train_X_ss = train_X[random_indices, :]\n",
    "train_y_ss = train_y[random_indices]"
   ]
  },
  {
   "cell_type": "code",
   "execution_count": 131,
   "metadata": {},
   "outputs": [],
   "source": [
    "random_indices = np.random.choice(np.arange(val_X.shape[0]), size=10000)\n",
    "val_X_ss = val_X[random_indices, :]\n",
    "val_y_ss = val_y[random_indices]"
   ]
  },
  {
   "cell_type": "markdown",
   "metadata": {},
   "source": [
    "## Linear Regression"
   ]
  },
  {
   "cell_type": "code",
   "execution_count": 16,
   "metadata": {},
   "outputs": [],
   "source": [
    "from sklearn.linear_model import LinearRegression"
   ]
  },
  {
   "cell_type": "code",
   "execution_count": 115,
   "metadata": {},
   "outputs": [],
   "source": [
    "lm = LinearRegression()"
   ]
  },
  {
   "cell_type": "code",
   "execution_count": 117,
   "metadata": {},
   "outputs": [
    {
     "data": {
      "text/plain": [
       "LinearRegression(copy_X=True, fit_intercept=True, n_jobs=None,\n",
       "         normalize=False)"
      ]
     },
     "execution_count": 117,
     "metadata": {},
     "output_type": "execute_result"
    }
   ],
   "source": [
    "lm.fit(train_X_ss, train_y_ss)"
   ]
  },
  {
   "cell_type": "code",
   "execution_count": 118,
   "metadata": {},
   "outputs": [
    {
     "data": {
      "text/plain": [
       "0.092549754396408"
      ]
     },
     "execution_count": 118,
     "metadata": {},
     "output_type": "execute_result"
    }
   ],
   "source": [
    "lm.score(train_X_ss, train_y_ss)"
   ]
  },
  {
   "cell_type": "code",
   "execution_count": 120,
   "metadata": {},
   "outputs": [],
   "source": [
    "y_pred = lm.predict(val_X_ss)"
   ]
  },
  {
   "cell_type": "code",
   "execution_count": 121,
   "metadata": {},
   "outputs": [
    {
     "data": {
      "text/plain": [
       "0.24838268476285882"
      ]
     },
     "execution_count": 121,
     "metadata": {},
     "output_type": "execute_result"
    }
   ],
   "source": [
    "rmse(val_y_ss, y_pred)"
   ]
  },
  {
   "cell_type": "code",
   "execution_count": 257,
   "metadata": {},
   "outputs": [
    {
     "data": {
      "text/plain": [
       "0.25881588996885213"
      ]
     },
     "execution_count": 257,
     "metadata": {},
     "output_type": "execute_result"
    }
   ],
   "source": [
    "rmse(val_y_ss, np.mean(train_y))"
   ]
  },
  {
   "cell_type": "markdown",
   "metadata": {},
   "source": [
    "## Random Forest"
   ]
  },
  {
   "cell_type": "code",
   "execution_count": 31,
   "metadata": {},
   "outputs": [],
   "source": [
    "from sklearn.ensemble import RandomForestRegressor\n",
    "from sklearn.model_selection import GridSearchCV"
   ]
  },
  {
   "cell_type": "code",
   "execution_count": 110,
   "metadata": {},
   "outputs": [
    {
     "data": {
      "text/plain": [
       "RandomForestRegressor(bootstrap=True, criterion='mse', max_depth=2000,\n",
       "           max_features='auto', max_leaf_nodes=None,\n",
       "           min_impurity_decrease=0.0, min_impurity_split=None,\n",
       "           min_samples_leaf=1, min_samples_split=200,\n",
       "           min_weight_fraction_leaf=0.0, n_estimators=100, n_jobs=-1,\n",
       "           oob_score=False, random_state=None, verbose=0, warm_start=False)"
      ]
     },
     "execution_count": 110,
     "metadata": {},
     "output_type": "execute_result"
    }
   ],
   "source": [
    "rf = RandomForestRegressor(n_estimators = 100, max_depth=2000, min_samples_split=200, n_jobs=-1)\n",
    "rf.fit(train_X_ss, train_y_ss)"
   ]
  },
  {
   "cell_type": "code",
   "execution_count": 114,
   "metadata": {},
   "outputs": [
    {
     "data": {
      "text/plain": [
       "0.2875695208921693"
      ]
     },
     "execution_count": 114,
     "metadata": {},
     "output_type": "execute_result"
    }
   ],
   "source": [
    "y_pred = rf.predict(val_X_ss)\n",
    "rmse(val_y_ss, y_pred)"
   ]
  },
  {
   "cell_type": "code",
   "execution_count": 90,
   "metadata": {},
   "outputs": [],
   "source": [
    "param_grid = {\"n_estimators\" : [50, 100, 250],\n",
    "              \"max_depth\" : [1000, 2000, 5000],\n",
    "             \"min_samples_split\" : [10, 50, 100, 200]}\n",
    "\n",
    "cv = GridSearchCV(RandomForestRegressor(),\n",
    "                 param_grid=param_grid, cv=5, n_jobs=-1)\n",
    "\n",
    "cv.fit(train_X_ss, train_y_ss)"
   ]
  },
  {
   "cell_type": "code",
   "execution_count": 106,
   "metadata": {},
   "outputs": [
    {
     "data": {
      "text/plain": [
       "0.15476595356374678"
      ]
     },
     "execution_count": 106,
     "metadata": {},
     "output_type": "execute_result"
    }
   ],
   "source": [
    "cv.best_score_"
   ]
  },
  {
   "cell_type": "code",
   "execution_count": 92,
   "metadata": {},
   "outputs": [],
   "source": [
    "params = cv.best_params_"
   ]
  },
  {
   "cell_type": "code",
   "execution_count": 104,
   "metadata": {},
   "outputs": [
    {
     "data": {
      "text/plain": [
       "RandomForestRegressor(bootstrap=True, criterion='mse', max_depth=1000,\n",
       "           max_features='auto', max_leaf_nodes=None,\n",
       "           min_impurity_decrease=0.0, min_impurity_split=None,\n",
       "           min_samples_leaf=1, min_samples_split=200,\n",
       "           min_weight_fraction_leaf=0.0, n_estimators=250, n_jobs=-1,\n",
       "           oob_score=False, random_state=None, verbose=0, warm_start=False)"
      ]
     },
     "execution_count": 104,
     "metadata": {},
     "output_type": "execute_result"
    }
   ],
   "source": [
    "rf = RandomForestRegressor(n_estimators = params[\"n_estimators\"],\n",
    "                           max_depth = params[\"max_depth\"],\n",
    "                           min_samples_split = params[\"min_samples_split\"], n_jobs=-1)\n",
    "rf.fit(train_X_ss, train_y_ss)"
   ]
  },
  {
   "cell_type": "code",
   "execution_count": 109,
   "metadata": {},
   "outputs": [
    {
     "data": {
      "text/plain": [
       "0.28580922872121495"
      ]
     },
     "execution_count": 109,
     "metadata": {},
     "output_type": "execute_result"
    }
   ],
   "source": [
    "y_pred = rf.predict(val_X_ss)\n",
    "rmse(val_y_ss, y_pred)"
   ]
  },
  {
   "cell_type": "markdown",
   "metadata": {},
   "source": [
    "## Regularized regression"
   ]
  },
  {
   "cell_type": "code",
   "execution_count": 132,
   "metadata": {},
   "outputs": [],
   "source": [
    "from sklearn.linear_model import ElasticNet"
   ]
  },
  {
   "cell_type": "code",
   "execution_count": 138,
   "metadata": {},
   "outputs": [
    {
     "data": {
      "text/plain": [
       "GridSearchCV(cv=5, error_score='raise-deprecating',\n",
       "       estimator=ElasticNet(alpha=1.0, copy_X=True, fit_intercept=True, l1_ratio=0.5,\n",
       "      max_iter=1000, normalize=False, positive=False, precompute=False,\n",
       "      random_state=None, selection='cyclic', tol=0.0001, warm_start=False),\n",
       "       fit_params=None, iid='warn', n_jobs=-1,\n",
       "       param_grid={'alpha': array([1.e-02, 1.e-03, 1.e-04, 1.e-05]), 'l1_ratio': array([0.  , 0.01, 0.02, 0.03, 0.04, 0.05, 0.06, 0.07, 0.08, 0.09])},\n",
       "       pre_dispatch='2*n_jobs', refit=True, return_train_score='warn',\n",
       "       scoring=None, verbose=0)"
      ]
     },
     "execution_count": 138,
     "metadata": {},
     "output_type": "execute_result"
    }
   ],
   "source": [
    "alpha_values = np.array(list(map(lambda x: 1/10**x, np.arange(2,6))))\n",
    "l1_ratio_values = np.arange(0, 0.1, 0.01)\n",
    "param_grid = {\"alpha\" : alpha_values,\n",
    "              \"l1_ratio\" : l1_ratio_values}\n",
    "cv = GridSearchCV(ElasticNet(),\n",
    "                 param_grid=param_grid, cv=5, n_jobs=-1)\n",
    "\n",
    "cv.fit(train_X_ss, train_y_ss)"
   ]
  },
  {
   "cell_type": "code",
   "execution_count": 140,
   "metadata": {},
   "outputs": [
    {
     "data": {
      "text/plain": [
       "array([1.e-02, 1.e-03, 1.e-04, 1.e-05])"
      ]
     },
     "execution_count": 140,
     "metadata": {},
     "output_type": "execute_result"
    }
   ],
   "source": [
    "alpha_values"
   ]
  },
  {
   "cell_type": "code",
   "execution_count": 143,
   "metadata": {},
   "outputs": [],
   "source": [
    "params = cv.best_params_"
   ]
  },
  {
   "cell_type": "code",
   "execution_count": 141,
   "metadata": {},
   "outputs": [
    {
     "data": {
      "text/plain": [
       "0.1645205947012965"
      ]
     },
     "execution_count": 141,
     "metadata": {},
     "output_type": "execute_result"
    }
   ],
   "source": [
    "cv.best_score_"
   ]
  },
  {
   "cell_type": "code",
   "execution_count": 145,
   "metadata": {},
   "outputs": [],
   "source": [
    "lm = ElasticNet(alpha = params[\"alpha\"],\n",
    "               l1_ratio = params[\"l1_ratio\"])"
   ]
  },
  {
   "cell_type": "code",
   "execution_count": 146,
   "metadata": {},
   "outputs": [
    {
     "data": {
      "text/plain": [
       "ElasticNet(alpha=0.001, copy_X=True, fit_intercept=True, l1_ratio=0.07,\n",
       "      max_iter=1000, normalize=False, positive=False, precompute=False,\n",
       "      random_state=None, selection='cyclic', tol=0.0001, warm_start=False)"
      ]
     },
     "execution_count": 146,
     "metadata": {},
     "output_type": "execute_result"
    }
   ],
   "source": [
    "lm.fit(train_X, train_y)"
   ]
  },
  {
   "cell_type": "code",
   "execution_count": 148,
   "metadata": {},
   "outputs": [
    {
     "data": {
      "text/plain": [
       "0.23746662955911726"
      ]
     },
     "execution_count": 148,
     "metadata": {},
     "output_type": "execute_result"
    }
   ],
   "source": [
    "y_pred = lm.predict(val_X)\n",
    "rmse(val_y, y_pred)"
   ]
  },
  {
   "cell_type": "markdown",
   "metadata": {},
   "source": [
    "# Loading, imputing, changing data representations"
   ]
  },
  {
   "cell_type": "code",
   "execution_count": 2,
   "metadata": {},
   "outputs": [],
   "source": [
    "data_folder = os.path.join(os.path.abspath(os.curdir), os.pardir, \"data\")"
   ]
  },
  {
   "cell_type": "code",
   "execution_count": 3,
   "metadata": {},
   "outputs": [],
   "source": [
    "training_data = os.path.join(data_folder, \"interim\", \"trimmed_train_train.csv\")\n",
    "train_df = pd.read_csv(training_data)\n",
    "train_df = train_df.assign(image_path = train_df.image + \".jpg\")"
   ]
  },
  {
   "cell_type": "code",
   "execution_count": 4,
   "metadata": {},
   "outputs": [
    {
     "data": {
      "text/html": [
       "<div>\n",
       "<style scoped>\n",
       "    .dataframe tbody tr th:only-of-type {\n",
       "        vertical-align: middle;\n",
       "    }\n",
       "\n",
       "    .dataframe tbody tr th {\n",
       "        vertical-align: top;\n",
       "    }\n",
       "\n",
       "    .dataframe thead th {\n",
       "        text-align: right;\n",
       "    }\n",
       "</style>\n",
       "<table border=\"1\" class=\"dataframe\">\n",
       "  <thead>\n",
       "    <tr style=\"text-align: right;\">\n",
       "      <th></th>\n",
       "      <th>region</th>\n",
       "      <th>parent_category_name</th>\n",
       "      <th>category_name</th>\n",
       "      <th>param_1</th>\n",
       "      <th>title</th>\n",
       "      <th>description</th>\n",
       "      <th>price</th>\n",
       "      <th>user_type</th>\n",
       "      <th>image</th>\n",
       "      <th>deal_probability</th>\n",
       "      <th>user_active_ads</th>\n",
       "      <th>days_since_activation</th>\n",
       "      <th>image_path</th>\n",
       "    </tr>\n",
       "  </thead>\n",
       "  <tbody>\n",
       "    <tr>\n",
       "      <th>0</th>\n",
       "      <td>Челябинская область</td>\n",
       "      <td>Для дома и дачи</td>\n",
       "      <td>Ремонт и строительство</td>\n",
       "      <td>Стройматериалы</td>\n",
       "      <td>Карнавал черный 6062 kerama marazzi</td>\n",
       "      <td>25*40 в количестве 3м2</td>\n",
       "      <td>650.0</td>\n",
       "      <td>Private</td>\n",
       "      <td>NaN</td>\n",
       "      <td>0.00000</td>\n",
       "      <td>6</td>\n",
       "      <td>17 days 00:00:00.000000000</td>\n",
       "      <td>NaN</td>\n",
       "    </tr>\n",
       "    <tr>\n",
       "      <th>1</th>\n",
       "      <td>Самарская область</td>\n",
       "      <td>Бытовая электроника</td>\n",
       "      <td>Телефоны</td>\n",
       "      <td>iPhone</td>\n",
       "      <td>Айфон 4s</td>\n",
       "      <td>айфон в идеале,полный комплект ,торг мизерный,...</td>\n",
       "      <td>5000.0</td>\n",
       "      <td>Private</td>\n",
       "      <td>01ef194ae81da054c15816766fd2181e58cef40f507393...</td>\n",
       "      <td>0.76786</td>\n",
       "      <td>2</td>\n",
       "      <td>22 days 00:00:00.000000000</td>\n",
       "      <td>01ef194ae81da054c15816766fd2181e58cef40f507393...</td>\n",
       "    </tr>\n",
       "    <tr>\n",
       "      <th>2</th>\n",
       "      <td>Башкортостан</td>\n",
       "      <td>Для бизнеса</td>\n",
       "      <td>Оборудование для бизнеса</td>\n",
       "      <td>Промышленное</td>\n",
       "      <td>Пресс гидравлический</td>\n",
       "      <td>ПРЕСС ЭЛЕКТРО ГИДРАВЛИЧЕСКИЙ 30 ТОН НА 380 В</td>\n",
       "      <td>NaN</td>\n",
       "      <td>Private</td>\n",
       "      <td>bc7b416fd3244b57871ded4e58feeeafbfa87e42db20f2...</td>\n",
       "      <td>0.07656</td>\n",
       "      <td>1</td>\n",
       "      <td>17 days 00:00:00.000000000</td>\n",
       "      <td>bc7b416fd3244b57871ded4e58feeeafbfa87e42db20f2...</td>\n",
       "    </tr>\n",
       "    <tr>\n",
       "      <th>3</th>\n",
       "      <td>Ставропольский край</td>\n",
       "      <td>Транспорт</td>\n",
       "      <td>Автомобили</td>\n",
       "      <td>С пробегом</td>\n",
       "      <td>ВАЗ 2112, 2004</td>\n",
       "      <td>Машина находится в залукокоаже. В хорошом  сос...</td>\n",
       "      <td>147000.0</td>\n",
       "      <td>Private</td>\n",
       "      <td>138da7fca63186972a0812b970ef5f5732b5e8eb11bf29...</td>\n",
       "      <td>0.00000</td>\n",
       "      <td>1</td>\n",
       "      <td>16 days 00:00:00.000000000</td>\n",
       "      <td>138da7fca63186972a0812b970ef5f5732b5e8eb11bf29...</td>\n",
       "    </tr>\n",
       "    <tr>\n",
       "      <th>4</th>\n",
       "      <td>Башкортостан</td>\n",
       "      <td>Личные вещи</td>\n",
       "      <td>Одежда, обувь, аксессуары</td>\n",
       "      <td>Женская одежда</td>\n",
       "      <td>Продам свадебную накидку</td>\n",
       "      <td>Продам свадебную накидку</td>\n",
       "      <td>300.0</td>\n",
       "      <td>Private</td>\n",
       "      <td>98864bf47b62c720c1989e8062eeb642e3d1fbf9070dfe...</td>\n",
       "      <td>0.00000</td>\n",
       "      <td>2</td>\n",
       "      <td>10 days 00:00:00.000000000</td>\n",
       "      <td>98864bf47b62c720c1989e8062eeb642e3d1fbf9070dfe...</td>\n",
       "    </tr>\n",
       "  </tbody>\n",
       "</table>\n",
       "</div>"
      ],
      "text/plain": [
       "                region parent_category_name              category_name  \\\n",
       "0  Челябинская область      Для дома и дачи     Ремонт и строительство   \n",
       "1    Самарская область  Бытовая электроника                   Телефоны   \n",
       "2         Башкортостан          Для бизнеса   Оборудование для бизнеса   \n",
       "3  Ставропольский край            Транспорт                 Автомобили   \n",
       "4         Башкортостан          Личные вещи  Одежда, обувь, аксессуары   \n",
       "\n",
       "          param_1                                title  \\\n",
       "0  Стройматериалы  Карнавал черный 6062 kerama marazzi   \n",
       "1          iPhone                             Айфон 4s   \n",
       "2    Промышленное                 Пресс гидравлический   \n",
       "3      С пробегом                       ВАЗ 2112, 2004   \n",
       "4  Женская одежда             Продам свадебную накидку   \n",
       "\n",
       "                                         description     price user_type  \\\n",
       "0                             25*40 в количестве 3м2     650.0   Private   \n",
       "1  айфон в идеале,полный комплект ,торг мизерный,...    5000.0   Private   \n",
       "2       ПРЕСС ЭЛЕКТРО ГИДРАВЛИЧЕСКИЙ 30 ТОН НА 380 В       NaN   Private   \n",
       "3  Машина находится в залукокоаже. В хорошом  сос...  147000.0   Private   \n",
       "4                           Продам свадебную накидку     300.0   Private   \n",
       "\n",
       "                                               image  deal_probability  \\\n",
       "0                                                NaN           0.00000   \n",
       "1  01ef194ae81da054c15816766fd2181e58cef40f507393...           0.76786   \n",
       "2  bc7b416fd3244b57871ded4e58feeeafbfa87e42db20f2...           0.07656   \n",
       "3  138da7fca63186972a0812b970ef5f5732b5e8eb11bf29...           0.00000   \n",
       "4  98864bf47b62c720c1989e8062eeb642e3d1fbf9070dfe...           0.00000   \n",
       "\n",
       "   user_active_ads       days_since_activation  \\\n",
       "0                6  17 days 00:00:00.000000000   \n",
       "1                2  22 days 00:00:00.000000000   \n",
       "2                1  17 days 00:00:00.000000000   \n",
       "3                1  16 days 00:00:00.000000000   \n",
       "4                2  10 days 00:00:00.000000000   \n",
       "\n",
       "                                          image_path  \n",
       "0                                                NaN  \n",
       "1  01ef194ae81da054c15816766fd2181e58cef40f507393...  \n",
       "2  bc7b416fd3244b57871ded4e58feeeafbfa87e42db20f2...  \n",
       "3  138da7fca63186972a0812b970ef5f5732b5e8eb11bf29...  \n",
       "4  98864bf47b62c720c1989e8062eeb642e3d1fbf9070dfe...  "
      ]
     },
     "execution_count": 4,
     "metadata": {},
     "output_type": "execute_result"
    }
   ],
   "source": [
    "train_df.head()"
   ]
  },
  {
   "cell_type": "code",
   "execution_count": 5,
   "metadata": {},
   "outputs": [],
   "source": [
    "category_index_mapping = {category : int(index + 1) for index, category in enumerate(train_df.category_name.unique())}\n",
    "region_index_mapping = {region : int(index + 1) for index, region in enumerate(train_df.region.unique())}\n",
    "parent_category_index_mapping = {par_category : int(index + 1) for index, par_category in enumerate(train_df.parent_category_name.unique())}\n",
    "param_1_index_mapping = {param_1 : int(index + 1) for index, param_1 in enumerate(train_df.param_1.unique())}"
   ]
  },
  {
   "cell_type": "code",
   "execution_count": 6,
   "metadata": {},
   "outputs": [],
   "source": [
    "user_type_index_mapping = dict(zip(train_df.user_type.unique(), np.arange(1,4)))"
   ]
  },
  {
   "cell_type": "code",
   "execution_count": 7,
   "metadata": {},
   "outputs": [
    {
     "data": {
      "text/plain": [
       "{'Private': 1, 'Shop': 2, 'Company': 3}"
      ]
     },
     "execution_count": 7,
     "metadata": {},
     "output_type": "execute_result"
    }
   ],
   "source": [
    "user_type_index_mapping "
   ]
  },
  {
   "cell_type": "code",
   "execution_count": 8,
   "metadata": {},
   "outputs": [],
   "source": [
    "train_df = train_df.assign(category_index = train_df.category_name.map(category_index_mapping),\n",
    "                           region_index = train_df.region.map(region_index_mapping),\n",
    "                           parent_category_index = train_df.parent_category_name.map(parent_category_index_mapping),\n",
    "                           param_1_index = train_df.param_1.map(param_1_index_mapping),\n",
    "                           user_type_index = train_df.user_type.map(user_type_index_mapping))"
   ]
  },
  {
   "cell_type": "code",
   "execution_count": 9,
   "metadata": {},
   "outputs": [
    {
     "data": {
      "text/html": [
       "<div>\n",
       "<style scoped>\n",
       "    .dataframe tbody tr th:only-of-type {\n",
       "        vertical-align: middle;\n",
       "    }\n",
       "\n",
       "    .dataframe tbody tr th {\n",
       "        vertical-align: top;\n",
       "    }\n",
       "\n",
       "    .dataframe thead th {\n",
       "        text-align: right;\n",
       "    }\n",
       "</style>\n",
       "<table border=\"1\" class=\"dataframe\">\n",
       "  <thead>\n",
       "    <tr style=\"text-align: right;\">\n",
       "      <th></th>\n",
       "      <th>region</th>\n",
       "      <th>parent_category_name</th>\n",
       "      <th>category_name</th>\n",
       "      <th>param_1</th>\n",
       "      <th>title</th>\n",
       "      <th>description</th>\n",
       "      <th>price</th>\n",
       "      <th>user_type</th>\n",
       "      <th>image</th>\n",
       "      <th>deal_probability</th>\n",
       "      <th>user_active_ads</th>\n",
       "      <th>days_since_activation</th>\n",
       "      <th>image_path</th>\n",
       "      <th>category_index</th>\n",
       "      <th>region_index</th>\n",
       "      <th>parent_category_index</th>\n",
       "      <th>param_1_index</th>\n",
       "      <th>user_type_index</th>\n",
       "    </tr>\n",
       "  </thead>\n",
       "  <tbody>\n",
       "    <tr>\n",
       "      <th>0</th>\n",
       "      <td>Челябинская область</td>\n",
       "      <td>Для дома и дачи</td>\n",
       "      <td>Ремонт и строительство</td>\n",
       "      <td>Стройматериалы</td>\n",
       "      <td>Карнавал черный 6062 kerama marazzi</td>\n",
       "      <td>25*40 в количестве 3м2</td>\n",
       "      <td>650.0</td>\n",
       "      <td>Private</td>\n",
       "      <td>NaN</td>\n",
       "      <td>0.00000</td>\n",
       "      <td>6</td>\n",
       "      <td>17 days 00:00:00.000000000</td>\n",
       "      <td>NaN</td>\n",
       "      <td>1</td>\n",
       "      <td>1</td>\n",
       "      <td>1</td>\n",
       "      <td>1</td>\n",
       "      <td>1</td>\n",
       "    </tr>\n",
       "    <tr>\n",
       "      <th>1</th>\n",
       "      <td>Самарская область</td>\n",
       "      <td>Бытовая электроника</td>\n",
       "      <td>Телефоны</td>\n",
       "      <td>iPhone</td>\n",
       "      <td>Айфон 4s</td>\n",
       "      <td>айфон в идеале,полный комплект ,торг мизерный,...</td>\n",
       "      <td>5000.0</td>\n",
       "      <td>Private</td>\n",
       "      <td>01ef194ae81da054c15816766fd2181e58cef40f507393...</td>\n",
       "      <td>0.76786</td>\n",
       "      <td>2</td>\n",
       "      <td>22 days 00:00:00.000000000</td>\n",
       "      <td>01ef194ae81da054c15816766fd2181e58cef40f507393...</td>\n",
       "      <td>2</td>\n",
       "      <td>2</td>\n",
       "      <td>2</td>\n",
       "      <td>2</td>\n",
       "      <td>1</td>\n",
       "    </tr>\n",
       "    <tr>\n",
       "      <th>2</th>\n",
       "      <td>Башкортостан</td>\n",
       "      <td>Для бизнеса</td>\n",
       "      <td>Оборудование для бизнеса</td>\n",
       "      <td>Промышленное</td>\n",
       "      <td>Пресс гидравлический</td>\n",
       "      <td>ПРЕСС ЭЛЕКТРО ГИДРАВЛИЧЕСКИЙ 30 ТОН НА 380 В</td>\n",
       "      <td>NaN</td>\n",
       "      <td>Private</td>\n",
       "      <td>bc7b416fd3244b57871ded4e58feeeafbfa87e42db20f2...</td>\n",
       "      <td>0.07656</td>\n",
       "      <td>1</td>\n",
       "      <td>17 days 00:00:00.000000000</td>\n",
       "      <td>bc7b416fd3244b57871ded4e58feeeafbfa87e42db20f2...</td>\n",
       "      <td>3</td>\n",
       "      <td>3</td>\n",
       "      <td>3</td>\n",
       "      <td>3</td>\n",
       "      <td>1</td>\n",
       "    </tr>\n",
       "    <tr>\n",
       "      <th>3</th>\n",
       "      <td>Ставропольский край</td>\n",
       "      <td>Транспорт</td>\n",
       "      <td>Автомобили</td>\n",
       "      <td>С пробегом</td>\n",
       "      <td>ВАЗ 2112, 2004</td>\n",
       "      <td>Машина находится в залукокоаже. В хорошом  сос...</td>\n",
       "      <td>147000.0</td>\n",
       "      <td>Private</td>\n",
       "      <td>138da7fca63186972a0812b970ef5f5732b5e8eb11bf29...</td>\n",
       "      <td>0.00000</td>\n",
       "      <td>1</td>\n",
       "      <td>16 days 00:00:00.000000000</td>\n",
       "      <td>138da7fca63186972a0812b970ef5f5732b5e8eb11bf29...</td>\n",
       "      <td>4</td>\n",
       "      <td>4</td>\n",
       "      <td>4</td>\n",
       "      <td>4</td>\n",
       "      <td>1</td>\n",
       "    </tr>\n",
       "    <tr>\n",
       "      <th>4</th>\n",
       "      <td>Башкортостан</td>\n",
       "      <td>Личные вещи</td>\n",
       "      <td>Одежда, обувь, аксессуары</td>\n",
       "      <td>Женская одежда</td>\n",
       "      <td>Продам свадебную накидку</td>\n",
       "      <td>Продам свадебную накидку</td>\n",
       "      <td>300.0</td>\n",
       "      <td>Private</td>\n",
       "      <td>98864bf47b62c720c1989e8062eeb642e3d1fbf9070dfe...</td>\n",
       "      <td>0.00000</td>\n",
       "      <td>2</td>\n",
       "      <td>10 days 00:00:00.000000000</td>\n",
       "      <td>98864bf47b62c720c1989e8062eeb642e3d1fbf9070dfe...</td>\n",
       "      <td>5</td>\n",
       "      <td>3</td>\n",
       "      <td>5</td>\n",
       "      <td>5</td>\n",
       "      <td>1</td>\n",
       "    </tr>\n",
       "  </tbody>\n",
       "</table>\n",
       "</div>"
      ],
      "text/plain": [
       "                region parent_category_name              category_name  \\\n",
       "0  Челябинская область      Для дома и дачи     Ремонт и строительство   \n",
       "1    Самарская область  Бытовая электроника                   Телефоны   \n",
       "2         Башкортостан          Для бизнеса   Оборудование для бизнеса   \n",
       "3  Ставропольский край            Транспорт                 Автомобили   \n",
       "4         Башкортостан          Личные вещи  Одежда, обувь, аксессуары   \n",
       "\n",
       "          param_1                                title  \\\n",
       "0  Стройматериалы  Карнавал черный 6062 kerama marazzi   \n",
       "1          iPhone                             Айфон 4s   \n",
       "2    Промышленное                 Пресс гидравлический   \n",
       "3      С пробегом                       ВАЗ 2112, 2004   \n",
       "4  Женская одежда             Продам свадебную накидку   \n",
       "\n",
       "                                         description     price user_type  \\\n",
       "0                             25*40 в количестве 3м2     650.0   Private   \n",
       "1  айфон в идеале,полный комплект ,торг мизерный,...    5000.0   Private   \n",
       "2       ПРЕСС ЭЛЕКТРО ГИДРАВЛИЧЕСКИЙ 30 ТОН НА 380 В       NaN   Private   \n",
       "3  Машина находится в залукокоаже. В хорошом  сос...  147000.0   Private   \n",
       "4                           Продам свадебную накидку     300.0   Private   \n",
       "\n",
       "                                               image  deal_probability  \\\n",
       "0                                                NaN           0.00000   \n",
       "1  01ef194ae81da054c15816766fd2181e58cef40f507393...           0.76786   \n",
       "2  bc7b416fd3244b57871ded4e58feeeafbfa87e42db20f2...           0.07656   \n",
       "3  138da7fca63186972a0812b970ef5f5732b5e8eb11bf29...           0.00000   \n",
       "4  98864bf47b62c720c1989e8062eeb642e3d1fbf9070dfe...           0.00000   \n",
       "\n",
       "   user_active_ads       days_since_activation  \\\n",
       "0                6  17 days 00:00:00.000000000   \n",
       "1                2  22 days 00:00:00.000000000   \n",
       "2                1  17 days 00:00:00.000000000   \n",
       "3                1  16 days 00:00:00.000000000   \n",
       "4                2  10 days 00:00:00.000000000   \n",
       "\n",
       "                                          image_path  category_index  \\\n",
       "0                                                NaN               1   \n",
       "1  01ef194ae81da054c15816766fd2181e58cef40f507393...               2   \n",
       "2  bc7b416fd3244b57871ded4e58feeeafbfa87e42db20f2...               3   \n",
       "3  138da7fca63186972a0812b970ef5f5732b5e8eb11bf29...               4   \n",
       "4  98864bf47b62c720c1989e8062eeb642e3d1fbf9070dfe...               5   \n",
       "\n",
       "   region_index  parent_category_index  param_1_index  user_type_index  \n",
       "0             1                      1              1                1  \n",
       "1             2                      2              2                1  \n",
       "2             3                      3              3                1  \n",
       "3             4                      4              4                1  \n",
       "4             3                      5              5                1  "
      ]
     },
     "execution_count": 9,
     "metadata": {},
     "output_type": "execute_result"
    }
   ],
   "source": [
    "train_df.head()"
   ]
  },
  {
   "cell_type": "code",
   "execution_count": 10,
   "metadata": {},
   "outputs": [],
   "source": [
    "train_df = train_df.assign(days_since_activation_num = train_df.days_since_activation.str.slice(0,2).astype(int))"
   ]
  },
  {
   "cell_type": "code",
   "execution_count": 11,
   "metadata": {},
   "outputs": [
    {
     "data": {
      "text/html": [
       "<div>\n",
       "<style scoped>\n",
       "    .dataframe tbody tr th:only-of-type {\n",
       "        vertical-align: middle;\n",
       "    }\n",
       "\n",
       "    .dataframe tbody tr th {\n",
       "        vertical-align: top;\n",
       "    }\n",
       "\n",
       "    .dataframe thead th {\n",
       "        text-align: right;\n",
       "    }\n",
       "</style>\n",
       "<table border=\"1\" class=\"dataframe\">\n",
       "  <thead>\n",
       "    <tr style=\"text-align: right;\">\n",
       "      <th></th>\n",
       "      <th>region</th>\n",
       "      <th>parent_category_name</th>\n",
       "      <th>category_name</th>\n",
       "      <th>param_1</th>\n",
       "      <th>title</th>\n",
       "      <th>description</th>\n",
       "      <th>price</th>\n",
       "      <th>user_type</th>\n",
       "      <th>image</th>\n",
       "      <th>deal_probability</th>\n",
       "      <th>user_active_ads</th>\n",
       "      <th>days_since_activation</th>\n",
       "      <th>image_path</th>\n",
       "      <th>category_index</th>\n",
       "      <th>region_index</th>\n",
       "      <th>parent_category_index</th>\n",
       "      <th>param_1_index</th>\n",
       "      <th>user_type_index</th>\n",
       "      <th>days_since_activation_num</th>\n",
       "    </tr>\n",
       "  </thead>\n",
       "  <tbody>\n",
       "    <tr>\n",
       "      <th>0</th>\n",
       "      <td>Челябинская область</td>\n",
       "      <td>Для дома и дачи</td>\n",
       "      <td>Ремонт и строительство</td>\n",
       "      <td>Стройматериалы</td>\n",
       "      <td>Карнавал черный 6062 kerama marazzi</td>\n",
       "      <td>25*40 в количестве 3м2</td>\n",
       "      <td>650.0</td>\n",
       "      <td>Private</td>\n",
       "      <td>NaN</td>\n",
       "      <td>0.00000</td>\n",
       "      <td>6</td>\n",
       "      <td>17 days 00:00:00.000000000</td>\n",
       "      <td>NaN</td>\n",
       "      <td>1</td>\n",
       "      <td>1</td>\n",
       "      <td>1</td>\n",
       "      <td>1</td>\n",
       "      <td>1</td>\n",
       "      <td>17</td>\n",
       "    </tr>\n",
       "    <tr>\n",
       "      <th>1</th>\n",
       "      <td>Самарская область</td>\n",
       "      <td>Бытовая электроника</td>\n",
       "      <td>Телефоны</td>\n",
       "      <td>iPhone</td>\n",
       "      <td>Айфон 4s</td>\n",
       "      <td>айфон в идеале,полный комплект ,торг мизерный,...</td>\n",
       "      <td>5000.0</td>\n",
       "      <td>Private</td>\n",
       "      <td>01ef194ae81da054c15816766fd2181e58cef40f507393...</td>\n",
       "      <td>0.76786</td>\n",
       "      <td>2</td>\n",
       "      <td>22 days 00:00:00.000000000</td>\n",
       "      <td>01ef194ae81da054c15816766fd2181e58cef40f507393...</td>\n",
       "      <td>2</td>\n",
       "      <td>2</td>\n",
       "      <td>2</td>\n",
       "      <td>2</td>\n",
       "      <td>1</td>\n",
       "      <td>22</td>\n",
       "    </tr>\n",
       "    <tr>\n",
       "      <th>2</th>\n",
       "      <td>Башкортостан</td>\n",
       "      <td>Для бизнеса</td>\n",
       "      <td>Оборудование для бизнеса</td>\n",
       "      <td>Промышленное</td>\n",
       "      <td>Пресс гидравлический</td>\n",
       "      <td>ПРЕСС ЭЛЕКТРО ГИДРАВЛИЧЕСКИЙ 30 ТОН НА 380 В</td>\n",
       "      <td>NaN</td>\n",
       "      <td>Private</td>\n",
       "      <td>bc7b416fd3244b57871ded4e58feeeafbfa87e42db20f2...</td>\n",
       "      <td>0.07656</td>\n",
       "      <td>1</td>\n",
       "      <td>17 days 00:00:00.000000000</td>\n",
       "      <td>bc7b416fd3244b57871ded4e58feeeafbfa87e42db20f2...</td>\n",
       "      <td>3</td>\n",
       "      <td>3</td>\n",
       "      <td>3</td>\n",
       "      <td>3</td>\n",
       "      <td>1</td>\n",
       "      <td>17</td>\n",
       "    </tr>\n",
       "    <tr>\n",
       "      <th>3</th>\n",
       "      <td>Ставропольский край</td>\n",
       "      <td>Транспорт</td>\n",
       "      <td>Автомобили</td>\n",
       "      <td>С пробегом</td>\n",
       "      <td>ВАЗ 2112, 2004</td>\n",
       "      <td>Машина находится в залукокоаже. В хорошом  сос...</td>\n",
       "      <td>147000.0</td>\n",
       "      <td>Private</td>\n",
       "      <td>138da7fca63186972a0812b970ef5f5732b5e8eb11bf29...</td>\n",
       "      <td>0.00000</td>\n",
       "      <td>1</td>\n",
       "      <td>16 days 00:00:00.000000000</td>\n",
       "      <td>138da7fca63186972a0812b970ef5f5732b5e8eb11bf29...</td>\n",
       "      <td>4</td>\n",
       "      <td>4</td>\n",
       "      <td>4</td>\n",
       "      <td>4</td>\n",
       "      <td>1</td>\n",
       "      <td>16</td>\n",
       "    </tr>\n",
       "    <tr>\n",
       "      <th>4</th>\n",
       "      <td>Башкортостан</td>\n",
       "      <td>Личные вещи</td>\n",
       "      <td>Одежда, обувь, аксессуары</td>\n",
       "      <td>Женская одежда</td>\n",
       "      <td>Продам свадебную накидку</td>\n",
       "      <td>Продам свадебную накидку</td>\n",
       "      <td>300.0</td>\n",
       "      <td>Private</td>\n",
       "      <td>98864bf47b62c720c1989e8062eeb642e3d1fbf9070dfe...</td>\n",
       "      <td>0.00000</td>\n",
       "      <td>2</td>\n",
       "      <td>10 days 00:00:00.000000000</td>\n",
       "      <td>98864bf47b62c720c1989e8062eeb642e3d1fbf9070dfe...</td>\n",
       "      <td>5</td>\n",
       "      <td>3</td>\n",
       "      <td>5</td>\n",
       "      <td>5</td>\n",
       "      <td>1</td>\n",
       "      <td>10</td>\n",
       "    </tr>\n",
       "  </tbody>\n",
       "</table>\n",
       "</div>"
      ],
      "text/plain": [
       "                region parent_category_name              category_name  \\\n",
       "0  Челябинская область      Для дома и дачи     Ремонт и строительство   \n",
       "1    Самарская область  Бытовая электроника                   Телефоны   \n",
       "2         Башкортостан          Для бизнеса   Оборудование для бизнеса   \n",
       "3  Ставропольский край            Транспорт                 Автомобили   \n",
       "4         Башкортостан          Личные вещи  Одежда, обувь, аксессуары   \n",
       "\n",
       "          param_1                                title  \\\n",
       "0  Стройматериалы  Карнавал черный 6062 kerama marazzi   \n",
       "1          iPhone                             Айфон 4s   \n",
       "2    Промышленное                 Пресс гидравлический   \n",
       "3      С пробегом                       ВАЗ 2112, 2004   \n",
       "4  Женская одежда             Продам свадебную накидку   \n",
       "\n",
       "                                         description     price user_type  \\\n",
       "0                             25*40 в количестве 3м2     650.0   Private   \n",
       "1  айфон в идеале,полный комплект ,торг мизерный,...    5000.0   Private   \n",
       "2       ПРЕСС ЭЛЕКТРО ГИДРАВЛИЧЕСКИЙ 30 ТОН НА 380 В       NaN   Private   \n",
       "3  Машина находится в залукокоаже. В хорошом  сос...  147000.0   Private   \n",
       "4                           Продам свадебную накидку     300.0   Private   \n",
       "\n",
       "                                               image  deal_probability  \\\n",
       "0                                                NaN           0.00000   \n",
       "1  01ef194ae81da054c15816766fd2181e58cef40f507393...           0.76786   \n",
       "2  bc7b416fd3244b57871ded4e58feeeafbfa87e42db20f2...           0.07656   \n",
       "3  138da7fca63186972a0812b970ef5f5732b5e8eb11bf29...           0.00000   \n",
       "4  98864bf47b62c720c1989e8062eeb642e3d1fbf9070dfe...           0.00000   \n",
       "\n",
       "   user_active_ads       days_since_activation  \\\n",
       "0                6  17 days 00:00:00.000000000   \n",
       "1                2  22 days 00:00:00.000000000   \n",
       "2                1  17 days 00:00:00.000000000   \n",
       "3                1  16 days 00:00:00.000000000   \n",
       "4                2  10 days 00:00:00.000000000   \n",
       "\n",
       "                                          image_path  category_index  \\\n",
       "0                                                NaN               1   \n",
       "1  01ef194ae81da054c15816766fd2181e58cef40f507393...               2   \n",
       "2  bc7b416fd3244b57871ded4e58feeeafbfa87e42db20f2...               3   \n",
       "3  138da7fca63186972a0812b970ef5f5732b5e8eb11bf29...               4   \n",
       "4  98864bf47b62c720c1989e8062eeb642e3d1fbf9070dfe...               5   \n",
       "\n",
       "   region_index  parent_category_index  param_1_index  user_type_index  \\\n",
       "0             1                      1              1                1   \n",
       "1             2                      2              2                1   \n",
       "2             3                      3              3                1   \n",
       "3             4                      4              4                1   \n",
       "4             3                      5              5                1   \n",
       "\n",
       "   days_since_activation_num  \n",
       "0                         17  \n",
       "1                         22  \n",
       "2                         17  \n",
       "3                         16  \n",
       "4                         10  "
      ]
     },
     "execution_count": 11,
     "metadata": {},
     "output_type": "execute_result"
    }
   ],
   "source": [
    "train_df.head()"
   ]
  },
  {
   "cell_type": "code",
   "execution_count": 12,
   "metadata": {},
   "outputs": [
    {
     "data": {
      "text/html": [
       "<div>\n",
       "<style scoped>\n",
       "    .dataframe tbody tr th:only-of-type {\n",
       "        vertical-align: middle;\n",
       "    }\n",
       "\n",
       "    .dataframe tbody tr th {\n",
       "        vertical-align: top;\n",
       "    }\n",
       "\n",
       "    .dataframe thead th {\n",
       "        text-align: right;\n",
       "    }\n",
       "</style>\n",
       "<table border=\"1\" class=\"dataframe\">\n",
       "  <thead>\n",
       "    <tr style=\"text-align: right;\">\n",
       "      <th></th>\n",
       "      <th>price</th>\n",
       "      <th>deal_probability</th>\n",
       "      <th>user_active_ads</th>\n",
       "      <th>category_index</th>\n",
       "      <th>region_index</th>\n",
       "      <th>parent_category_index</th>\n",
       "      <th>param_1_index</th>\n",
       "      <th>user_type_index</th>\n",
       "      <th>days_since_activation_num</th>\n",
       "    </tr>\n",
       "  </thead>\n",
       "  <tbody>\n",
       "    <tr>\n",
       "      <th>count</th>\n",
       "      <td>1.134319e+06</td>\n",
       "      <td>1.202739e+06</td>\n",
       "      <td>1.202739e+06</td>\n",
       "      <td>1.202739e+06</td>\n",
       "      <td>1.202739e+06</td>\n",
       "      <td>1.202739e+06</td>\n",
       "      <td>1.202739e+06</td>\n",
       "      <td>1.202739e+06</td>\n",
       "      <td>1.202739e+06</td>\n",
       "    </tr>\n",
       "    <tr>\n",
       "      <th>mean</th>\n",
       "      <td>3.298231e+05</td>\n",
       "      <td>1.392107e-01</td>\n",
       "      <td>1.318797e+01</td>\n",
       "      <td>1.211969e+01</td>\n",
       "      <td>1.299980e+01</td>\n",
       "      <td>4.684984e+00</td>\n",
       "      <td>3.478648e+01</td>\n",
       "      <td>1.514728e+00</td>\n",
       "      <td>1.644429e+01</td>\n",
       "    </tr>\n",
       "    <tr>\n",
       "      <th>std</th>\n",
       "      <td>7.475818e+07</td>\n",
       "      <td>2.601816e-01</td>\n",
       "      <td>5.873703e+01</td>\n",
       "      <td>1.018542e+01</td>\n",
       "      <td>8.215322e+00</td>\n",
       "      <td>2.141493e+00</td>\n",
       "      <td>4.760996e+01</td>\n",
       "      <td>8.432008e-01</td>\n",
       "      <td>4.045979e+00</td>\n",
       "    </tr>\n",
       "    <tr>\n",
       "      <th>min</th>\n",
       "      <td>0.000000e+00</td>\n",
       "      <td>0.000000e+00</td>\n",
       "      <td>1.000000e+00</td>\n",
       "      <td>1.000000e+00</td>\n",
       "      <td>1.000000e+00</td>\n",
       "      <td>1.000000e+00</td>\n",
       "      <td>1.000000e+00</td>\n",
       "      <td>1.000000e+00</td>\n",
       "      <td>0.000000e+00</td>\n",
       "    </tr>\n",
       "    <tr>\n",
       "      <th>25%</th>\n",
       "      <td>5.000000e+02</td>\n",
       "      <td>0.000000e+00</td>\n",
       "      <td>1.000000e+00</td>\n",
       "      <td>5.000000e+00</td>\n",
       "      <td>6.000000e+00</td>\n",
       "      <td>4.000000e+00</td>\n",
       "      <td>6.000000e+00</td>\n",
       "      <td>1.000000e+00</td>\n",
       "      <td>1.300000e+01</td>\n",
       "    </tr>\n",
       "    <tr>\n",
       "      <th>50%</th>\n",
       "      <td>1.300000e+03</td>\n",
       "      <td>0.000000e+00</td>\n",
       "      <td>2.000000e+00</td>\n",
       "      <td>6.000000e+00</td>\n",
       "      <td>1.200000e+01</td>\n",
       "      <td>5.000000e+00</td>\n",
       "      <td>1.400000e+01</td>\n",
       "      <td>1.000000e+00</td>\n",
       "      <td>1.600000e+01</td>\n",
       "    </tr>\n",
       "    <tr>\n",
       "      <th>75%</th>\n",
       "      <td>7.000000e+03</td>\n",
       "      <td>1.510200e-01</td>\n",
       "      <td>5.000000e+00</td>\n",
       "      <td>1.700000e+01</td>\n",
       "      <td>2.000000e+01</td>\n",
       "      <td>5.000000e+00</td>\n",
       "      <td>4.700000e+01</td>\n",
       "      <td>2.000000e+00</td>\n",
       "      <td>2.000000e+01</td>\n",
       "    </tr>\n",
       "    <tr>\n",
       "      <th>max</th>\n",
       "      <td>7.950101e+10</td>\n",
       "      <td>1.000000e+00</td>\n",
       "      <td>8.800000e+02</td>\n",
       "      <td>4.700000e+01</td>\n",
       "      <td>2.800000e+01</td>\n",
       "      <td>9.000000e+00</td>\n",
       "      <td>3.710000e+02</td>\n",
       "      <td>3.000000e+00</td>\n",
       "      <td>2.300000e+01</td>\n",
       "    </tr>\n",
       "  </tbody>\n",
       "</table>\n",
       "</div>"
      ],
      "text/plain": [
       "              price  deal_probability  user_active_ads  category_index  \\\n",
       "count  1.134319e+06      1.202739e+06     1.202739e+06    1.202739e+06   \n",
       "mean   3.298231e+05      1.392107e-01     1.318797e+01    1.211969e+01   \n",
       "std    7.475818e+07      2.601816e-01     5.873703e+01    1.018542e+01   \n",
       "min    0.000000e+00      0.000000e+00     1.000000e+00    1.000000e+00   \n",
       "25%    5.000000e+02      0.000000e+00     1.000000e+00    5.000000e+00   \n",
       "50%    1.300000e+03      0.000000e+00     2.000000e+00    6.000000e+00   \n",
       "75%    7.000000e+03      1.510200e-01     5.000000e+00    1.700000e+01   \n",
       "max    7.950101e+10      1.000000e+00     8.800000e+02    4.700000e+01   \n",
       "\n",
       "       region_index  parent_category_index  param_1_index  user_type_index  \\\n",
       "count  1.202739e+06           1.202739e+06   1.202739e+06     1.202739e+06   \n",
       "mean   1.299980e+01           4.684984e+00   3.478648e+01     1.514728e+00   \n",
       "std    8.215322e+00           2.141493e+00   4.760996e+01     8.432008e-01   \n",
       "min    1.000000e+00           1.000000e+00   1.000000e+00     1.000000e+00   \n",
       "25%    6.000000e+00           4.000000e+00   6.000000e+00     1.000000e+00   \n",
       "50%    1.200000e+01           5.000000e+00   1.400000e+01     1.000000e+00   \n",
       "75%    2.000000e+01           5.000000e+00   4.700000e+01     2.000000e+00   \n",
       "max    2.800000e+01           9.000000e+00   3.710000e+02     3.000000e+00   \n",
       "\n",
       "       days_since_activation_num  \n",
       "count               1.202739e+06  \n",
       "mean                1.644429e+01  \n",
       "std                 4.045979e+00  \n",
       "min                 0.000000e+00  \n",
       "25%                 1.300000e+01  \n",
       "50%                 1.600000e+01  \n",
       "75%                 2.000000e+01  \n",
       "max                 2.300000e+01  "
      ]
     },
     "execution_count": 12,
     "metadata": {},
     "output_type": "execute_result"
    }
   ],
   "source": [
    "train_df.describe()"
   ]
  },
  {
   "cell_type": "code",
   "execution_count": 13,
   "metadata": {},
   "outputs": [
    {
     "data": {
      "text/plain": [
       "region                           0\n",
       "parent_category_name             0\n",
       "category_name                    0\n",
       "param_1                      49280\n",
       "title                            0\n",
       "description                  92801\n",
       "price                        68420\n",
       "user_type                        0\n",
       "image                        90314\n",
       "deal_probability                 0\n",
       "user_active_ads                  0\n",
       "days_since_activation            0\n",
       "image_path                   90314\n",
       "category_index                   0\n",
       "region_index                     0\n",
       "parent_category_index            0\n",
       "param_1_index                    0\n",
       "user_type_index                  0\n",
       "days_since_activation_num        0\n",
       "dtype: int64"
      ]
     },
     "execution_count": 13,
     "metadata": {},
     "output_type": "execute_result"
    }
   ],
   "source": [
    "train_df.isna().sum()"
   ]
  },
  {
   "cell_type": "code",
   "execution_count": 14,
   "metadata": {},
   "outputs": [],
   "source": [
    "train_df = train_df.fillna({\"param_1\" : 0,\n",
    "                \"description\" : \"\"})\n",
    "\n",
    "train_df.price.fillna(train_df.groupby(\"category_name\")[\"price\"].transform(\"mean\"), inplace=True)\n",
    "\n",
    "empty_img = Image.fromarray(np.zeros((224, 224, 3)).astype(np.uint8))\n",
    "\n",
    "empty_img.show()\n",
    "\n",
    "empty_img_path = os.path.join(data_folder, \"external\", \"empty_img.jpg\")\n",
    "\n",
    "empty_img_path\n",
    "\n",
    "empty_img.save(empty_img_path)\n",
    "\n",
    "train_df.image_path[0]\n",
    "\n",
    "image_folder = os.path.join(data_folder, \"raw\", \"train_jpg\", \"data\", \"competition_files\", \"train_jpg\")\n",
    "\n",
    "empty_img_relpath = os.path.relpath(empty_img_path, image_folder)\n",
    "\n",
    "train_df = train_df.fillna({\"image_path\" : empty_img_relpath})\n",
    "\n",
    "features_to_keep = [\"title\", \"description\", \"price\", \"deal_probability\", \"user_active_ads\",\\\n",
    "                    \"image_path\", \"category_index\", \"region_index\", \"parent_category_index\",\\\n",
    "                   \"param_1_index\", \"user_type_index\", \"days_since_activation_num\"]\n",
    "\n",
    "train_df = train_df[features_to_keep]"
   ]
  },
  {
   "cell_type": "code",
   "execution_count": 27,
   "metadata": {},
   "outputs": [
    {
     "data": {
      "text/plain": [
       "title                        0\n",
       "description                  0\n",
       "price                        0\n",
       "deal_probability             0\n",
       "user_active_ads              0\n",
       "image_path                   0\n",
       "category_index               0\n",
       "region_index                 0\n",
       "parent_category_index        0\n",
       "param_1_index                0\n",
       "user_type_index              0\n",
       "days_since_activation_num    0\n",
       "dtype: int64"
      ]
     },
     "execution_count": 27,
     "metadata": {},
     "output_type": "execute_result"
    }
   ],
   "source": [
    "train_df.isna().sum()"
   ]
  },
  {
   "cell_type": "code",
   "execution_count": 28,
   "metadata": {},
   "outputs": [
    {
     "data": {
      "text/html": [
       "<div>\n",
       "<style scoped>\n",
       "    .dataframe tbody tr th:only-of-type {\n",
       "        vertical-align: middle;\n",
       "    }\n",
       "\n",
       "    .dataframe tbody tr th {\n",
       "        vertical-align: top;\n",
       "    }\n",
       "\n",
       "    .dataframe thead th {\n",
       "        text-align: right;\n",
       "    }\n",
       "</style>\n",
       "<table border=\"1\" class=\"dataframe\">\n",
       "  <thead>\n",
       "    <tr style=\"text-align: right;\">\n",
       "      <th></th>\n",
       "      <th>title</th>\n",
       "      <th>description</th>\n",
       "      <th>price</th>\n",
       "      <th>deal_probability</th>\n",
       "      <th>user_active_ads</th>\n",
       "      <th>image_path</th>\n",
       "      <th>category_index</th>\n",
       "      <th>region_index</th>\n",
       "      <th>parent_category_index</th>\n",
       "      <th>param_1_index</th>\n",
       "      <th>user_type_index</th>\n",
       "      <th>days_since_activation_num</th>\n",
       "    </tr>\n",
       "  </thead>\n",
       "  <tbody>\n",
       "    <tr>\n",
       "      <th>0</th>\n",
       "      <td>Карнавал черный 6062 kerama marazzi</td>\n",
       "      <td>25*40 в количестве 3м2</td>\n",
       "      <td>650.000000</td>\n",
       "      <td>0.00000</td>\n",
       "      <td>6</td>\n",
       "      <td>..\\..\\..\\..\\..\\external\\empty_img.jpg</td>\n",
       "      <td>1</td>\n",
       "      <td>1</td>\n",
       "      <td>1</td>\n",
       "      <td>1</td>\n",
       "      <td>1</td>\n",
       "      <td>17</td>\n",
       "    </tr>\n",
       "    <tr>\n",
       "      <th>1</th>\n",
       "      <td>Айфон 4s</td>\n",
       "      <td>айфон в идеале,полный комплект ,торг мизерный,...</td>\n",
       "      <td>5000.000000</td>\n",
       "      <td>0.76786</td>\n",
       "      <td>2</td>\n",
       "      <td>01ef194ae81da054c15816766fd2181e58cef40f507393...</td>\n",
       "      <td>2</td>\n",
       "      <td>2</td>\n",
       "      <td>2</td>\n",
       "      <td>2</td>\n",
       "      <td>1</td>\n",
       "      <td>22</td>\n",
       "    </tr>\n",
       "    <tr>\n",
       "      <th>2</th>\n",
       "      <td>Пресс гидравлический</td>\n",
       "      <td>ПРЕСС ЭЛЕКТРО ГИДРАВЛИЧЕСКИЙ 30 ТОН НА 380 В</td>\n",
       "      <td>316170.498692</td>\n",
       "      <td>0.07656</td>\n",
       "      <td>1</td>\n",
       "      <td>bc7b416fd3244b57871ded4e58feeeafbfa87e42db20f2...</td>\n",
       "      <td>3</td>\n",
       "      <td>3</td>\n",
       "      <td>3</td>\n",
       "      <td>3</td>\n",
       "      <td>1</td>\n",
       "      <td>17</td>\n",
       "    </tr>\n",
       "    <tr>\n",
       "      <th>3</th>\n",
       "      <td>ВАЗ 2112, 2004</td>\n",
       "      <td>Машина находится в залукокоаже. В хорошом  сос...</td>\n",
       "      <td>147000.000000</td>\n",
       "      <td>0.00000</td>\n",
       "      <td>1</td>\n",
       "      <td>138da7fca63186972a0812b970ef5f5732b5e8eb11bf29...</td>\n",
       "      <td>4</td>\n",
       "      <td>4</td>\n",
       "      <td>4</td>\n",
       "      <td>4</td>\n",
       "      <td>1</td>\n",
       "      <td>16</td>\n",
       "    </tr>\n",
       "    <tr>\n",
       "      <th>4</th>\n",
       "      <td>Продам свадебную накидку</td>\n",
       "      <td>Продам свадебную накидку</td>\n",
       "      <td>300.000000</td>\n",
       "      <td>0.00000</td>\n",
       "      <td>2</td>\n",
       "      <td>98864bf47b62c720c1989e8062eeb642e3d1fbf9070dfe...</td>\n",
       "      <td>5</td>\n",
       "      <td>3</td>\n",
       "      <td>5</td>\n",
       "      <td>5</td>\n",
       "      <td>1</td>\n",
       "      <td>10</td>\n",
       "    </tr>\n",
       "  </tbody>\n",
       "</table>\n",
       "</div>"
      ],
      "text/plain": [
       "                                 title  \\\n",
       "0  Карнавал черный 6062 kerama marazzi   \n",
       "1                             Айфон 4s   \n",
       "2                 Пресс гидравлический   \n",
       "3                       ВАЗ 2112, 2004   \n",
       "4             Продам свадебную накидку   \n",
       "\n",
       "                                         description          price  \\\n",
       "0                             25*40 в количестве 3м2     650.000000   \n",
       "1  айфон в идеале,полный комплект ,торг мизерный,...    5000.000000   \n",
       "2       ПРЕСС ЭЛЕКТРО ГИДРАВЛИЧЕСКИЙ 30 ТОН НА 380 В  316170.498692   \n",
       "3  Машина находится в залукокоаже. В хорошом  сос...  147000.000000   \n",
       "4                           Продам свадебную накидку     300.000000   \n",
       "\n",
       "   deal_probability  user_active_ads  \\\n",
       "0           0.00000                6   \n",
       "1           0.76786                2   \n",
       "2           0.07656                1   \n",
       "3           0.00000                1   \n",
       "4           0.00000                2   \n",
       "\n",
       "                                          image_path  category_index  \\\n",
       "0              ..\\..\\..\\..\\..\\external\\empty_img.jpg               1   \n",
       "1  01ef194ae81da054c15816766fd2181e58cef40f507393...               2   \n",
       "2  bc7b416fd3244b57871ded4e58feeeafbfa87e42db20f2...               3   \n",
       "3  138da7fca63186972a0812b970ef5f5732b5e8eb11bf29...               4   \n",
       "4  98864bf47b62c720c1989e8062eeb642e3d1fbf9070dfe...               5   \n",
       "\n",
       "   region_index  parent_category_index  param_1_index  user_type_index  \\\n",
       "0             1                      1              1                1   \n",
       "1             2                      2              2                1   \n",
       "2             3                      3              3                1   \n",
       "3             4                      4              4                1   \n",
       "4             3                      5              5                1   \n",
       "\n",
       "   days_since_activation_num  \n",
       "0                         17  \n",
       "1                         22  \n",
       "2                         17  \n",
       "3                         16  \n",
       "4                         10  "
      ]
     },
     "execution_count": 28,
     "metadata": {},
     "output_type": "execute_result"
    }
   ],
   "source": [
    "train_df.head()"
   ]
  },
  {
   "cell_type": "code",
   "execution_count": 29,
   "metadata": {},
   "outputs": [],
   "source": [
    "from sklearn.preprocessing import MinMaxScaler"
   ]
  },
  {
   "cell_type": "code",
   "execution_count": 34,
   "metadata": {},
   "outputs": [],
   "source": [
    "from sklearn.preprocessing import OneHotEncoder\n",
    "\n",
    "one_hot_enc = OneHotEncoder(categories=\"auto\")\n",
    "\n",
    "categorical_columns = [\"category_index\", \"region_index\", \"parent_category_index\",\\\n",
    "                      \"param_1_index\", \"user_type_index\"]\n",
    "\n",
    "cat_X = one_hot_enc.fit_transform(train_df[categorical_columns])\n",
    "\n",
    "cat_X.shape"
   ]
  },
  {
   "cell_type": "code",
   "execution_count": 37,
   "metadata": {},
   "outputs": [],
   "source": [
    "from sklearn.linear_model import LinearRegression"
   ]
  },
  {
   "cell_type": "code",
   "execution_count": 35,
   "metadata": {},
   "outputs": [],
   "source": [
    "train_X_lm = cat_X[:100000, :]\n",
    "train_y_lm = train_df.deal_probability.values[:100000]"
   ]
  },
  {
   "cell_type": "code",
   "execution_count": 38,
   "metadata": {},
   "outputs": [],
   "source": [
    "lm = LinearRegression()"
   ]
  },
  {
   "cell_type": "code",
   "execution_count": 39,
   "metadata": {},
   "outputs": [
    {
     "data": {
      "text/plain": [
       "LinearRegression(copy_X=True, fit_intercept=True, n_jobs=None,\n",
       "         normalize=False)"
      ]
     },
     "execution_count": 39,
     "metadata": {},
     "output_type": "execute_result"
    }
   ],
   "source": [
    "lm.fit(train_X_lm, train_y_lm)"
   ]
  },
  {
   "cell_type": "code",
   "execution_count": 40,
   "metadata": {},
   "outputs": [
    {
     "data": {
      "text/plain": [
       "0.17334326133983124"
      ]
     },
     "execution_count": 40,
     "metadata": {},
     "output_type": "execute_result"
    }
   ],
   "source": [
    "lm.score(train_X_lm, train_y_lm)"
   ]
  },
  {
   "cell_type": "code",
   "execution_count": 41,
   "metadata": {},
   "outputs": [],
   "source": [
    "def rmse(y_true, y_pred):\n",
    "    return np.sqrt(np.mean(np.power(y_pred - y_true, 2)))"
   ]
  },
  {
   "cell_type": "code",
   "execution_count": 42,
   "metadata": {},
   "outputs": [
    {
     "data": {
      "text/plain": [
       "0.2374025062642079"
      ]
     },
     "execution_count": 42,
     "metadata": {},
     "output_type": "execute_result"
    }
   ],
   "source": [
    "y_pred = lm.predict(cat_X[100000:200000, :])\n",
    "y_true = train_df.deal_probability.values[100000:200000]\n",
    "rmse(y_true, y_pred)"
   ]
  },
  {
   "cell_type": "code",
   "execution_count": 53,
   "metadata": {},
   "outputs": [],
   "source": [
    "alpha_vals = np.array(list(map(lambda x: 1/10**x, np.arange(1, 5))))"
   ]
  },
  {
   "cell_type": "code",
   "execution_count": 54,
   "metadata": {},
   "outputs": [
    {
     "data": {
      "text/plain": [
       "array([0.1   , 0.01  , 0.001 , 0.0001])"
      ]
     },
     "execution_count": 54,
     "metadata": {},
     "output_type": "execute_result"
    }
   ],
   "source": [
    "alpha_vals"
   ]
  },
  {
   "cell_type": "code",
   "execution_count": 56,
   "metadata": {},
   "outputs": [],
   "source": [
    "from sklearn.linear_model import Lasso\n",
    "from sklearn.model_selection import GridSearchCV\n",
    "\n",
    "estimator = Lasso()\n",
    "param_grid = {\"alpha\" : alpha_vals}\n",
    "\n",
    "param_grid\n",
    "\n",
    "cv = GridSearchCV(estimator, param_grid, cv=5)\n",
    "\n",
    "cv.fit(train_X_lm, train_y_lm)\n",
    "\n",
    "cv.best_params_\n",
    "\n",
    "cv.best_score_\n",
    "\n",
    "lasso = cv.best_estimator_"
   ]
  },
  {
   "cell_type": "code",
   "execution_count": 57,
   "metadata": {},
   "outputs": [
    {
     "data": {
      "text/plain": [
       "0.2391292304970656"
      ]
     },
     "execution_count": 57,
     "metadata": {},
     "output_type": "execute_result"
    }
   ],
   "source": [
    "y_pred = lasso.predict(cat_X[400000:500000, :])\n",
    "y_true = train_df.deal_probability.values[400000:500000]\n",
    "rmse(y_true, y_pred)"
   ]
  },
  {
   "cell_type": "code",
   "execution_count": 72,
   "metadata": {},
   "outputs": [
    {
     "data": {
      "text/plain": [
       "0.26122014138961397"
      ]
     },
     "execution_count": 72,
     "metadata": {},
     "output_type": "execute_result"
    }
   ],
   "source": [
    "rmse(y_true, train_df[:100000].deal_probability.mean())"
   ]
  },
  {
   "cell_type": "code",
   "execution_count": 68,
   "metadata": {},
   "outputs": [
    {
     "data": {
      "text/plain": [
       "0.008997239728879225"
      ]
     },
     "execution_count": 68,
     "metadata": {},
     "output_type": "execute_result"
    }
   ],
   "source": []
  },
  {
   "cell_type": "code",
   "execution_count": null,
   "metadata": {},
   "outputs": [],
   "source": []
  }
 ],
 "metadata": {
  "kernelspec": {
   "display_name": "gsm_dl py36",
   "language": "python",
   "name": "gsm_dl"
  },
  "language_info": {
   "codemirror_mode": {
    "name": "ipython",
    "version": 3
   },
   "file_extension": ".py",
   "mimetype": "text/x-python",
   "name": "python",
   "nbconvert_exporter": "python",
   "pygments_lexer": "ipython3",
   "version": "3.6.6"
  }
 },
 "nbformat": 4,
 "nbformat_minor": 2
}
